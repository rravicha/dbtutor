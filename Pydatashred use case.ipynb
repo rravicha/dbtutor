{
 "cells": [
  {
   "cell_type": "code",
   "execution_count": 0,
   "metadata": {
    "application/vnd.databricks.v1+cell": {
     "cellMetadata": {
      "byteLimit": 2048000,
      "rowLimit": 10000
     },
     "inputWidgets": {},
     "nuid": "7c412f57-bd55-4cae-935d-ec8bf2755ff3",
     "showTitle": false,
     "tableResultSettingsMap": {},
     "title": ""
    }
   },
   "outputs": [],
   "source": [
    "dbutils.widgets.text(\"payload\", \"\", \"Payload Json\")"
   ]
  },
  {
   "cell_type": "code",
   "execution_count": 0,
   "metadata": {
    "application/vnd.databricks.v1+cell": {
     "cellMetadata": {
      "byteLimit": 2048000,
      "rowLimit": 10000
     },
     "inputWidgets": {},
     "nuid": "2caeebea-13ba-470f-b2a3-54772bd1dadf",
     "showTitle": false,
     "tableResultSettingsMap": {},
     "title": ""
    }
   },
   "outputs": [],
   "source": [
    "payload=dbutils.widgets.get(\"payload\")"
   ]
  },
  {
   "cell_type": "code",
   "execution_count": 0,
   "metadata": {
    "application/vnd.databricks.v1+cell": {
     "cellMetadata": {
      "byteLimit": 2048000,
      "rowLimit": 10000
     },
     "inputWidgets": {},
     "nuid": "09bb6b2c-592e-441b-9190-37241feb0be8",
     "showTitle": false,
     "tableResultSettingsMap": {},
     "title": ""
    }
   },
   "outputs": [],
   "source": [
    "type(payload)"
   ]
  },
  {
   "cell_type": "code",
   "execution_count": 0,
   "metadata": {
    "application/vnd.databricks.v1+cell": {
     "cellMetadata": {
      "byteLimit": 2048000,
      "rowLimit": 10000
     },
     "inputWidgets": {},
     "nuid": "bdf0e8fa-2cce-4dd0-a1cc-960e0cee07e6",
     "showTitle": false,
     "tableResultSettingsMap": {},
     "title": ""
    }
   },
   "outputs": [],
   "source": [
    "%pip install /Workspace/Users/dbxaws.001@gmail.com/pydatashred/dist/pydatashred-1.0-py3-none-any.whl"
   ]
  },
  {
   "cell_type": "code",
   "execution_count": 0,
   "metadata": {
    "application/vnd.databricks.v1+cell": {
     "cellMetadata": {
      "byteLimit": 2048000,
      "rowLimit": 10000
     },
     "inputWidgets": {},
     "nuid": "6d676ba3-0ec3-4705-b4be-d860a965f5c0",
     "showTitle": false,
     "tableResultSettingsMap": {},
     "title": ""
    }
   },
   "outputs": [],
   "source": [
    "dbutils.library.restartPython()"
   ]
  },
  {
   "cell_type": "code",
   "execution_count": 0,
   "metadata": {
    "application/vnd.databricks.v1+cell": {
     "cellMetadata": {},
     "inputWidgets": {},
     "nuid": "d6b38a71-c36a-427c-8dc3-3d609be737bd",
     "showTitle": false,
     "tableResultSettingsMap": {},
     "title": ""
    }
   },
   "outputs": [],
   "source": []
  }
 ],
 "metadata": {
  "application/vnd.databricks.v1+notebook": {
   "computePreferences": null,
   "dashboards": [],
   "environmentMetadata": {
    "base_environment": "",
    "environment_version": "2"
   },
   "language": "python",
   "notebookMetadata": {
    "pythonIndentUnit": 4,
    "widgetLayout": [
     {
      "breakBefore": false,
      "name": "payload",
      "width": 220
     }
    ]
   },
   "notebookName": "Pydatashred use case",
   "widgets": {
    "payload": {
     "currentValue": "{     \"client_id\": 1,     \"client_name\": \"client1\",     \"domain\": {         \"domain_id\": 1,         \"domain_name\": \"reference\",         \"app\": {             \"app_id\": 1,             \"app_name\": \"oem\",             \"resources\": {                 \"source\": {                     \"url\": \"console.aws.amazon.com\",                     \"region\": \"us-east-1\",                     \"s3\": {                         \"bucket\": {                             \"name\": \"datashred-client1\",                             \"prefix\": \"raw/reference/oem\",                             \"file_name\": \"employee.csv\"                         }                     },                     \"rds\": null                 },                 \"target\": {                     \"url\": \"console.aws.amazon.com\",                     \"region\": \"us-west-2\",                     \"s3\": null,                     \"rds\": {                         \"database\": \"client1-reference\",                         \"schema\": \"oem\",                         \"tablename\": \"employee\"                     }                 }             }         }     } }",
     "nuid": "16a870a6-e9d4-40d9-ab1e-59e0acf1356f",
     "typedWidgetInfo": {
      "autoCreated": false,
      "defaultValue": "",
      "label": "Payload Json",
      "name": "payload",
      "options": {
       "widgetDisplayType": "Text",
       "validationRegex": null
      },
      "parameterDataType": "String"
     },
     "widgetInfo": {
      "widgetType": "text",
      "defaultValue": "",
      "label": "Payload Json",
      "name": "payload",
      "options": {
       "widgetType": "text",
       "autoCreated": false,
       "validationRegex": null
      }
     }
    }
   }
  },
  "language_info": {
   "name": "python"
  }
 },
 "nbformat": 4,
 "nbformat_minor": 0
}
