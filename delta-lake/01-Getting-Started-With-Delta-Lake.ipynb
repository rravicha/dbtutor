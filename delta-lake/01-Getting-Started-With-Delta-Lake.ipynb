{
 "cells": [
  {
   "cell_type": "markdown",
   "metadata": {
    "application/vnd.databricks.v1+cell": {
     "cellMetadata": {},
     "inputWidgets": {},
     "nuid": "5ef446fb-4d41-464d-ab59-71b62d8cc8c4",
     "showTitle": false,
     "tableResultSettingsMap": {},
     "title": ""
    }
   },
   "source": [
    "\n",
    "# Getting started with Delta Lake\n",
    "\n",
    "<img src=\"https://pages.databricks.com/rs/094-YMS-629/images/delta-lake-logo-whitebackground.png\" style=\"width:200px; float: right\"/>\n",
    "\n",
    "[Delta Lake](https://delta.io/) is an open storage format used to save your data in your Lakehouse. Delta provides an abstraction layer on top of files. It's the storage foundation of your Lakehouse.\n",
    "\n",
    "In this notebook, we will explore Delta Lake main capabilities, from table creation to time travel.\n",
    "\n",
    "<!-- Collect usage data (view). Remove it to disable collection. View README for more details.  -->\n",
    "<img width=\"1px\" src=\"https://ppxrzfxige.execute-api.us-west-2.amazonaws.com/v1/analytics?category=data-engineering&org_id=4214571749987147&notebook=%2F01-Getting-Started-With-Delta-Lake&demo_name=delta-lake&event=VIEW&path=%2F_dbdemos%2Fdata-engineering%2Fdelta-lake%2F01-Getting-Started-With-Delta-Lake&version=1\">"
   ]
  },
  {
   "cell_type": "code",
   "execution_count": 0,
   "metadata": {
    "application/vnd.databricks.v1+cell": {
     "cellMetadata": {},
     "inputWidgets": {},
     "nuid": "33c5dc15-470b-45f9-a15d-c0d42d0a67cb",
     "showTitle": true,
     "tableResultSettingsMap": {},
     "title": "Init the demo data under ${raw_data_location}/user_parquet."
    },
    "jupyter": {
     "outputs_hidden": true
    }
   },
   "outputs": [],
   "source": [
    "%run ./_resources/00-setup $reset_all_data=false"
   ]
  },
  {
   "cell_type": "code",
   "execution_count": 0,
   "metadata": {
    "application/vnd.databricks.v1+cell": {
     "cellMetadata": {},
     "inputWidgets": {},
     "nuid": "6888ff48-1eda-4179-8777-ab629de396ba",
     "showTitle": false,
     "tableResultSettingsMap": {},
     "title": ""
    }
   },
   "outputs": [],
   "source": [
    "%python\n",
    "#For this demo, We'll use a synthetic dataset containing user information, saved under ${raw_data_location}/user_parquet.\n",
    "print(f\"Our user dataset is stored under our Volume={folder}/user_parquet\")"
   ]
  },
  {
   "cell_type": "markdown",
   "metadata": {
    "application/vnd.databricks.v1+cell": {
     "cellMetadata": {},
     "inputWidgets": {},
     "nuid": "139eec87-25a2-47dc-9398-8c86d7112850",
     "showTitle": false,
     "tableResultSettingsMap": {},
     "title": ""
    }
   },
   "source": [
    "## ![](https://pages.databricks.com/rs/094-YMS-629/images/delta-lake-tiny-logo.png) Creating our first Delta Lake table\n",
    "\n",
    "Delta is the default file and table format using Databricks. You are likely already using delta without knowing it!\n",
    "\n",
    "Let's create a few table to see how to use Delta:"
   ]
  },
  {
   "cell_type": "code",
   "execution_count": 0,
   "metadata": {
    "application/vnd.databricks.v1+cell": {
     "cellMetadata": {},
     "inputWidgets": {},
     "nuid": "b31dbd2b-8638-4924-95ee-0eeefd838927",
     "showTitle": true,
     "tableResultSettingsMap": {},
     "title": "Create Delta table using SQL"
    }
   },
   "outputs": [],
   "source": [
    "-- Creating our first Delta table\n",
    "CREATE TABLE IF NOT EXISTS user_delta (id BIGINT, creation_date TIMESTAMP, firstname STRING, lastname STRING, email STRING, address STRING, gender INT, age_group INT);\n",
    "\n",
    "-- Let's load some data in this table\n",
    "COPY INTO user_delta FROM '/Volumes/pds/dbdemos_sharing_airlinedata/delta_lake_raw_data/user_parquet/' FILEFORMAT = parquet;\n",
    "\n",
    "SELECT * FROM user_delta;"
   ]
  },
  {
   "cell_type": "markdown",
   "metadata": {
    "application/vnd.databricks.v1+cell": {
     "cellMetadata": {},
     "inputWidgets": {},
     "nuid": "92417f8b-78bb-42dc-b48a-2f778ee5b951",
     "showTitle": false,
     "tableResultSettingsMap": {},
     "title": ""
    }
   },
   "source": [
    "\n",
    "That's it! Our Delta table is ready and you get all the Delta Benefits. \n",
    "\n",
    "Using Delta is that simple!\n",
    "\n",
    "Let's see how we can use Python or scala API to do the same:"
   ]
  },
  {
   "cell_type": "code",
   "execution_count": 0,
   "metadata": {
    "application/vnd.databricks.v1+cell": {
     "cellMetadata": {},
     "inputWidgets": {},
     "nuid": "1251a206-e377-492c-9ed6-d882b70444d4",
     "showTitle": true,
     "tableResultSettingsMap": {},
     "title": "Create Delta table using python / Scala API"
    }
   },
   "outputs": [],
   "source": [
    "%python\n",
    "data_parquet = spark.read.parquet(folder+\"/user_parquet\")\n",
    "\n",
    "data_parquet.write.mode(\"overwrite\").saveAsTable('user_delta')\n",
    "\n",
    "display(spark.read.table('user_delta'))"
   ]
  },
  {
   "cell_type": "markdown",
   "metadata": {
    "application/vnd.databricks.v1+cell": {
     "cellMetadata": {},
     "inputWidgets": {},
     "nuid": "a94103e7-4c04-4957-8f3c-4c5901c0509f",
     "showTitle": false,
     "tableResultSettingsMap": {},
     "title": ""
    }
   },
   "source": [
    "## ![](https://pages.databricks.com/rs/094-YMS-629/images/delta-lake-tiny-logo.png) Upgrading an existing Parquet or Iceberg table to Delta Lake\n",
    "It's also very simple to migrate an existing Parquet or Iceberg table to Delta Lake. Here is an example: \n",
    "\n",
    "```\n",
    "CONVERT TO DELTA database_name.table_name; -- only for Parquet tables\n",
    "\n",
    "CONVERT TO DELTA parquet.`s3://my-bucket/path/to/table`\n",
    "  PARTITIONED BY (date DATE); -- if the table is partitioned\n",
    "\n",
    "CONVERT TO DELTA iceberg.`s3://my-bucket/path/to/table`; -- uses Iceberg manifest for metadata\n",
    "```"
   ]
  },
  {
   "cell_type": "markdown",
   "metadata": {
    "application/vnd.databricks.v1+cell": {
     "cellMetadata": {},
     "inputWidgets": {},
     "nuid": "4b0529b5-ed5a-4be1-ac81-7aff8effd56b",
     "showTitle": false,
     "tableResultSettingsMap": {},
     "title": ""
    }
   },
   "source": [
    "## ![](https://pages.databricks.com/rs/094-YMS-629/images/delta-lake-tiny-logo.png) Delta Lake for Batch and Streaming operations\n",
    "\n",
    "Delta makes it super easy to work with data stream. \n",
    "\n",
    "In this example, we'll create a streaming query on top of our table, and add data in the table. The stream will pick the changes without any issue."
   ]
  },
  {
   "cell_type": "code",
   "execution_count": 0,
   "metadata": {
    "application/vnd.databricks.v1+cell": {
     "cellMetadata": {},
     "inputWidgets": {},
     "nuid": "5d970241-a3a3-4172-92a0-e3966a606714",
     "showTitle": false,
     "tableResultSettingsMap": {},
     "title": ""
    }
   },
   "outputs": [],
   "source": [
    "%python\n",
    "# Read the insertion of data\n",
    "spark.readStream.option(\"ignoreDeletes\", \"true\").option(\"ignoreChanges\", \"true\").table(\"user_delta\").createOrReplaceTempView(\"user_delta_readStream\")"
   ]
  },
  {
   "cell_type": "code",
   "execution_count": 0,
   "metadata": {
    "application/vnd.databricks.v1+cell": {
     "cellMetadata": {},
     "inputWidgets": {},
     "nuid": "5f165d05-4bb8-40ca-a752-90c12b00b07c",
     "showTitle": false,
     "tableResultSettingsMap": {},
     "title": ""
    }
   },
   "outputs": [],
   "source": [
    "%python \n",
    "df = spark.sql(\"select gender, round(avg(age_group),2) from user_delta_readStream group by gender\")\n",
    "# checkpointLocation option temporary required for serverless workspaces\n",
    "display(df, checkpointLocation = get_chkp_folder(folder))"
   ]
  },
  {
   "cell_type": "markdown",
   "metadata": {
    "application/vnd.databricks.v1+cell": {
     "cellMetadata": {},
     "inputWidgets": {},
     "nuid": "6b1c0d89-66ff-4643-a974-78e5a6ff7d73",
     "showTitle": false,
     "tableResultSettingsMap": {},
     "title": ""
    }
   },
   "source": [
    "**Wait** until the stream is up and running before executing the code below"
   ]
  },
  {
   "cell_type": "code",
   "execution_count": 0,
   "metadata": {
    "application/vnd.databricks.v1+cell": {
     "cellMetadata": {},
     "inputWidgets": {},
     "nuid": "ba4efa9d-49c7-4ec6-8e9b-a58529a24683",
     "showTitle": true,
     "tableResultSettingsMap": {},
     "title": "Let's add a new user, it'll appear in our previous aggregation as the stream picks up the update"
    }
   },
   "outputs": [],
   "source": [
    "insert into user_delta (id, creation_date, firstname, lastname, email, address, gender, age_group) \n",
    "    values (99999, now(), 'Quentin', 'Ambard', 'quentin.ambard@databricks.com', 'FR', '2', 3) "
   ]
  },
  {
   "cell_type": "markdown",
   "metadata": {
    "application/vnd.databricks.v1+cell": {
     "cellMetadata": {},
     "inputWidgets": {},
     "nuid": "ff8e1887-2bf9-4173-9a1d-13e77b821825",
     "showTitle": false,
     "tableResultSettingsMap": {},
     "title": ""
    }
   },
   "source": [
    "##![](https://pages.databricks.com/rs/094-YMS-629/images/delta-lake-tiny-logo.png) Full DML Support\n",
    "\n",
    "Delta Lake supports standard DML including UPDATE, DELETE and MERGE INTO, providing developers more controls to manage their big datasets."
   ]
  },
  {
   "cell_type": "code",
   "execution_count": 0,
   "metadata": {
    "application/vnd.databricks.v1+cell": {
     "cellMetadata": {},
     "inputWidgets": {},
     "nuid": "a015ac97-99fa-4f45-b234-1e22fbd59162",
     "showTitle": false,
     "tableResultSettingsMap": {},
     "title": ""
    }
   },
   "outputs": [],
   "source": [
    "-- Running `UPDATE` on the Delta Lake table\n",
    "UPDATE user_delta SET age_group = 4 WHERE id = 99999"
   ]
  },
  {
   "cell_type": "code",
   "execution_count": 0,
   "metadata": {
    "application/vnd.databricks.v1+cell": {
     "cellMetadata": {},
     "inputWidgets": {},
     "nuid": "ad1f2fd0-60d3-42cd-95e2-37ec9e5713cd",
     "showTitle": false,
     "tableResultSettingsMap": {},
     "title": ""
    }
   },
   "outputs": [],
   "source": [
    "DELETE FROM user_delta WHERE id = 99999"
   ]
  },
  {
   "cell_type": "code",
   "execution_count": 0,
   "metadata": {
    "application/vnd.databricks.v1+cell": {
     "cellMetadata": {},
     "inputWidgets": {},
     "nuid": "e20b0e55-c944-40d0-91b6-9b2e27a3b1e2",
     "showTitle": true,
     "tableResultSettingsMap": {},
     "title": "UPSERT: update if exists, insert otherwise"
    }
   },
   "outputs": [],
   "source": [
    "-- Let's create a table containing a list of changes we want to apply to the user table (ex: CDC flow)\n",
    "create table if not exists user_updates \n",
    "  (id bigint, creation_date TIMESTAMP, firstname string, lastname string, email string, address string, gender int, age_group int);\n",
    "  \n",
    "delete from user_updates;\n",
    "\n",
    "insert into user_updates values (1,     now(), 'Marco',   'polo',   'marco@polo.com',    'US', 2, 3); \n",
    "insert into user_updates values (2,     now(), 'John',    'Doe',    'john@doe.com',      'US', 2, 3);\n",
    "insert into user_updates values (99999, now(), 'Quentin', 'Ambard', 'qa@databricks.com', 'FR', 2, 3);\n",
    "select * from user_updates;"
   ]
  },
  {
   "cell_type": "code",
   "execution_count": 0,
   "metadata": {
    "application/vnd.databricks.v1+cell": {
     "cellMetadata": {},
     "inputWidgets": {},
     "nuid": "f6bebd16-6903-496b-a5ee-e502b090b80c",
     "showTitle": false,
     "tableResultSettingsMap": {},
     "title": ""
    }
   },
   "outputs": [],
   "source": [
    "-- We can now MERGE the changes into our main table (note: we could also DELETE the rows based on a predicate)\n",
    "MERGE INTO user_delta as d USING user_updates as m\n",
    "  ON d.id = m.id\n",
    "  WHEN MATCHED THEN \n",
    "    UPDATE SET *\n",
    "  WHEN NOT MATCHED \n",
    "    THEN INSERT * ;\n",
    "  \n",
    "select * from user_delta where id in (1 ,2, 99999)"
   ]
  },
  {
   "cell_type": "markdown",
   "metadata": {
    "application/vnd.databricks.v1+cell": {
     "cellMetadata": {},
     "inputWidgets": {},
     "nuid": "69fc87e7-6b9d-4cae-ad68-32705c1b0d4c",
     "showTitle": false,
     "tableResultSettingsMap": {},
     "title": ""
    }
   },
   "source": [
    "\n",
    "## ![](https://pages.databricks.com/rs/094-YMS-629/images/delta-lake-tiny-logo.png) Enforce Data Quality with constraint\n",
    "\n",
    "Delta Lake support constraints. You can add any expression to force your table having a given field respecting this constraint. As example, let's make sure that the ID is never null.\n",
    "\n",
    "*Note: This is enforcing quality at the table level. Delta Live Tables offer much more advance quality rules and expectations in data Pipelines.*"
   ]
  },
  {
   "cell_type": "code",
   "execution_count": 0,
   "metadata": {
    "application/vnd.databricks.v1+cell": {
     "cellMetadata": {},
     "inputWidgets": {},
     "nuid": "d062ae8b-b39b-4ba9-899b-083ebd06180b",
     "showTitle": false,
     "tableResultSettingsMap": {},
     "title": ""
    }
   },
   "outputs": [],
   "source": [
    "ALTER TABLE user_delta ADD CONSTRAINT id_not_null CHECK (id is not null);"
   ]
  },
  {
   "cell_type": "code",
   "execution_count": 0,
   "metadata": {
    "application/vnd.databricks.v1+cell": {
     "cellMetadata": {},
     "inputWidgets": {},
     "nuid": "bad0f414-3530-4c25-a34e-a15fcde341d9",
     "showTitle": false,
     "tableResultSettingsMap": {},
     "title": ""
    }
   },
   "outputs": [],
   "source": [
    "-- This command will fail as we insert a user with a null id::\n",
    "INSERT INTO user_delta (id, creation_date, firstname, lastname, email, address, gender, age_group) \n",
    "                VALUES (null, now(), 'Quentin', 'Ambard', 'quentin.ambard@databricks.com', 'FR', '2', 3) "
   ]
  },
  {
   "cell_type": "markdown",
   "metadata": {
    "application/vnd.databricks.v1+cell": {
     "cellMetadata": {},
     "inputWidgets": {},
     "nuid": "e605ac3f-52fe-4ba1-b8ae-4ee125decd98",
     "showTitle": false,
     "tableResultSettingsMap": {},
     "title": ""
    }
   },
   "source": [
    "## ![](https://pages.databricks.com/rs/094-YMS-629/images/delta-lake-tiny-logo.png) Let's Travel back in Time!\n",
    "Databricks Delta’s time travel capabilities simplify building data pipelines for the following use cases. \n",
    "\n",
    "* Audit Data Changes\n",
    "* Reproduce experiments & reports\n",
    "* Rollbacks\n",
    "\n",
    "As you write into a Delta table or directory, every operation is automatically versioned.\n",
    "\n",
    "You can query a table by:\n",
    "1. Using a timestamp\n",
    "1. Using a version number\n",
    "\n",
    "For more information, refer to [Introducing Delta Time Travel for Large Scale Data Lakes](https://databricks.com/blog/2019/02/04/introducing-delta-time-travel-for-large-scale-data-lakes.html)"
   ]
  },
  {
   "cell_type": "markdown",
   "metadata": {
    "application/vnd.databricks.v1+cell": {
     "cellMetadata": {},
     "inputWidgets": {},
     "nuid": "ceeba910-e2f9-45bb-9475-54417e451b1a",
     "showTitle": false,
     "tableResultSettingsMap": {},
     "title": ""
    }
   },
   "source": [
    "### ![](https://pages.databricks.com/rs/094-YMS-629/images/delta-lake-tiny-logo.png) Review Delta Lake Table History\n",
    "All the transactions for this table are stored within this table including the initial set of insertions, update, delete, merge, and inserts with schema modification"
   ]
  },
  {
   "cell_type": "code",
   "execution_count": 0,
   "metadata": {
    "application/vnd.databricks.v1+cell": {
     "cellMetadata": {},
     "inputWidgets": {},
     "nuid": "87bddef5-c456-46b1-907b-3e765abd7bb8",
     "showTitle": false,
     "tableResultSettingsMap": {},
     "title": ""
    }
   },
   "outputs": [],
   "source": [
    "DESCRIBE HISTORY user_delta"
   ]
  },
  {
   "cell_type": "markdown",
   "metadata": {
    "application/vnd.databricks.v1+cell": {
     "cellMetadata": {},
     "inputWidgets": {},
     "nuid": "3287f4f9-f79c-4346-85f1-f1e462764d46",
     "showTitle": false,
     "tableResultSettingsMap": {},
     "title": ""
    }
   },
   "source": [
    "### ![](https://pages.databricks.com/rs/094-YMS-629/images/delta-lake-tiny-logo.png) Time Travel via Version Number or Timestamp\n",
    "Below are SQL syntax examples of Delta Time Travel by using a Version Number"
   ]
  },
  {
   "cell_type": "code",
   "execution_count": 0,
   "metadata": {
    "application/vnd.databricks.v1+cell": {
     "cellMetadata": {},
     "inputWidgets": {},
     "nuid": "25195beb-0402-494f-8c9a-f850d037ce06",
     "showTitle": false,
     "tableResultSettingsMap": {},
     "title": ""
    }
   },
   "outputs": [],
   "source": [
    "-- Note that in our current version, user 99999 exists and we updated user 1 and 2\n",
    "SELECT * FROM user_delta WHERE ID IN (1 ,2, 99999);"
   ]
  },
  {
   "cell_type": "code",
   "execution_count": 0,
   "metadata": {
    "application/vnd.databricks.v1+cell": {
     "cellMetadata": {},
     "inputWidgets": {},
     "nuid": "1ec952de-9337-4d61-9a22-0933666d879b",
     "showTitle": false,
     "tableResultSettingsMap": {},
     "title": ""
    }
   },
   "outputs": [],
   "source": [
    "-- We can request the table at version 2, before the upsert operation to get the original data:\n",
    "SELECT * FROM user_delta VERSION AS OF 2 WHERE ID IN (1 ,2, 99999);"
   ]
  },
  {
   "cell_type": "markdown",
   "metadata": {
    "application/vnd.databricks.v1+cell": {
     "cellMetadata": {},
     "inputWidgets": {},
     "nuid": "33dd0b90-861a-4afe-973d-8548b21ec65d",
     "showTitle": false,
     "tableResultSettingsMap": {},
     "title": ""
    }
   },
   "source": [
    "### Restore a Previous Version\n",
    "You can restore a Delta table to its earlier state by using the `RESTORE` command, using a timestamp or delta version:\n",
    "\n",
    "⚠️ Databricks Runtime 7.4 and above"
   ]
  },
  {
   "cell_type": "code",
   "execution_count": 0,
   "metadata": {
    "application/vnd.databricks.v1+cell": {
     "cellMetadata": {},
     "inputWidgets": {},
     "nuid": "4678b478-510e-4f9b-9dfb-0856d569316b",
     "showTitle": false,
     "tableResultSettingsMap": {},
     "title": ""
    }
   },
   "outputs": [],
   "source": [
    "RESTORE TABLE user_delta TO VERSION AS OF 2;\n",
    "\n",
    "SELECT * FROM user_delta WHERE ID IN (1 ,2, 99999);"
   ]
  },
  {
   "cell_type": "code",
   "execution_count": 0,
   "metadata": {
    "application/vnd.databricks.v1+cell": {
     "cellMetadata": {},
     "inputWidgets": {},
     "nuid": "7c71c5f1-cd5e-46d2-b252-18d519adb20d",
     "showTitle": true,
     "tableResultSettingsMap": {},
     "title": "Purging the history with VACUUM"
    }
   },
   "outputs": [],
   "source": [
    "-- We can easily delete all modification older than 200 hours:\n",
    "VACUUM user_delta RETAIN 200 HOURS;"
   ]
  },
  {
   "cell_type": "markdown",
   "metadata": {
    "application/vnd.databricks.v1+cell": {
     "cellMetadata": {},
     "inputWidgets": {},
     "nuid": "01feedcb-9a66-4ab3-8f17-30bd8fefa635",
     "showTitle": false,
     "tableResultSettingsMap": {},
     "title": ""
    }
   },
   "source": [
    "## CLONE Delta Tables\n",
    "You can create a copy of an existing Delta table at a specific version using the `clone` command. This is very useful to get data from a PROD environment to a STAGING one, or archive a specific version for regulatory reason.\n",
    "\n",
    "There are two types of clones:\n",
    "* A **deep clone** is a clone that copies the source table data to the clone target in addition to the metadata of the existing table. \n",
    "* A **shallow clone** is a clone that does not copy the data files to the clone target. The table metadata is equivalent to the source. These clones are cheaper to create.\n",
    "\n",
    "Any changes made to either deep or shallow clones affect only the clones themselves and not the source table.\n",
    "\n",
    "*Note: Shallow clone are pointers to the main table. Running a VACUUM may delete the underlying files and break the shallow clone!*"
   ]
  },
  {
   "cell_type": "code",
   "execution_count": 0,
   "metadata": {
    "application/vnd.databricks.v1+cell": {
     "cellMetadata": {},
     "inputWidgets": {},
     "nuid": "ad764423-a09a-4d00-b38c-b1afbe56e0d7",
     "showTitle": true,
     "tableResultSettingsMap": {},
     "title": "Shallow clone (zero copy)"
    }
   },
   "outputs": [],
   "source": [
    "CREATE TABLE IF NOT EXISTS user_delta_clone\n",
    "  SHALLOW CLONE user_delta\n",
    "  VERSION AS OF 2;\n",
    "\n",
    "SELECT * FROM user_delta_clone;"
   ]
  },
  {
   "cell_type": "code",
   "execution_count": 0,
   "metadata": {
    "application/vnd.databricks.v1+cell": {
     "cellMetadata": {},
     "inputWidgets": {},
     "nuid": "32d0ddb4-a86a-4eca-927f-8b6f8277b7b2",
     "showTitle": true,
     "tableResultSettingsMap": {},
     "title": "Deep clone (copy data)"
    }
   },
   "outputs": [],
   "source": [
    "CREATE TABLE IF NOT EXISTS user_delta_clone_deep\n",
    "  DEEP CLONE user_delta;\n",
    "\n",
    "SELECT * FROM user_delta_clone_deep;"
   ]
  },
  {
   "cell_type": "markdown",
   "metadata": {
    "application/vnd.databricks.v1+cell": {
     "cellMetadata": {},
     "inputWidgets": {},
     "nuid": "e2537c39-3138-4ee6-b0ff-1f135a549807",
     "showTitle": false,
     "tableResultSettingsMap": {},
     "title": ""
    }
   },
   "source": [
    "### Generated columns\n",
    "\n",
    "Delta Lake makes it easy to add auto increment columns. This is done with the `GENERATED` keyword. Generated value can also be derivated from other fields."
   ]
  },
  {
   "cell_type": "code",
   "execution_count": 0,
   "metadata": {
    "application/vnd.databricks.v1+cell": {
     "cellMetadata": {},
     "inputWidgets": {},
     "nuid": "f2546fa6-11c8-4399-b1be-a6373024d04e",
     "showTitle": false,
     "tableResultSettingsMap": {},
     "title": ""
    }
   },
   "outputs": [],
   "source": [
    "CREATE TABLE IF NOT EXISTS user_delta_generated_id (\n",
    "  id BIGINT GENERATED ALWAYS AS IDENTITY ( START WITH 10000 INCREMENT BY 1 ), \n",
    "  firstname STRING, \n",
    "  lastname STRING, \n",
    "  email STRING, \n",
    "  address STRING) ;\n",
    "\n",
    "-- Note that we don't insert data for the id. The engine will handle that for us:\n",
    "INSERT INTO user_delta_generated_id (firstname, lastname, email, address) SELECT\n",
    "    firstname,\n",
    "    lastname,\n",
    "    email,\n",
    "    address\n",
    "  FROM user_delta;\n",
    "\n",
    "-- The ID is automatically generated!\n",
    "SELECT * from user_delta_generated_id;"
   ]
  },
  {
   "cell_type": "code",
   "execution_count": 0,
   "metadata": {
    "application/vnd.databricks.v1+cell": {
     "cellMetadata": {},
     "inputWidgets": {},
     "nuid": "33a4c526-f5f4-4f31-bb4b-b3562dd10ab7",
     "showTitle": false,
     "tableResultSettingsMap": {},
     "title": ""
    }
   },
   "outputs": [],
   "source": [
    "%python\n",
    "DBDemos.stop_all_streams()"
   ]
  },
  {
   "cell_type": "markdown",
   "metadata": {
    "application/vnd.databricks.v1+cell": {
     "cellMetadata": {},
     "inputWidgets": {},
     "nuid": "a3ea43f4-7aa0-4998-b783-e6c1450fd296",
     "showTitle": false,
     "tableResultSettingsMap": {},
     "title": ""
    }
   },
   "source": [
    "## ![](https://pages.databricks.com/rs/094-YMS-629/images/delta-lake-tiny-logo.png) Going further with Delta Lake\n",
    "\n",
    "### Schema evolution \n",
    "\n",
    "Delta Lake support schema evolution. You can add a new column and even more advanced operation such as [updating partition](https://docs.databricks.com/delta/delta-batch.html#change-column-type-or-name). For SQL MERGE operation you easily add new columns with `SET spark.databricks.delta.schema.autoMerge.enabled = true`\n",
    "\n",
    "More details from the [documentation](https://docs.databricks.com/spark/latest/spark-sql/language-manual/sql-ref-syntax-ddl-alter-table.html). \n",
    "\n",
    "### Identity columns, PK & FK \n",
    "\n",
    "You can add auto-increment columns in your tables: `id BIGINT GENERATED ALWAYS AS IDENTITY ( START WITH 0 INCREMENT BY 1 )`, but also define Primary Keys and Foreign Keys.  \n",
    "\n",
    "For more details, check our demo `dbdemos.install('identity-pk-fk')` !\n",
    "\n",
    "### Delta Sharing, open data sharing protocol\n",
    "\n",
    "[Delta Sharing](https://delta.io/sharing/) is an open standard to easily share your tables with external organization, using Databricks or any other system / cloud provider.\n",
    "\n",
    "For more details, check our demo `dbdemos.install('delta-sharing')` !"
   ]
  },
  {
   "cell_type": "markdown",
   "metadata": {
    "application/vnd.databricks.v1+cell": {
     "cellMetadata": {},
     "inputWidgets": {},
     "nuid": "13bf58e9-fd59-4bb7-a358-02daf92aa300",
     "showTitle": false,
     "tableResultSettingsMap": {},
     "title": ""
    }
   },
   "source": [
    "\n",
    "Next: Discover how to boost your queries with [Delta Lake performance features]($./02-Delta-Lake-Performance) or go back to [00-Delta-Lake-Introduction]($./00-Delta-Lake-Introduction).\n",
    "\n"
   ]
  }
 ],
 "metadata": {
  "application/vnd.databricks.v1+notebook": {
   "computePreferences": null,
   "dashboards": [],
   "environmentMetadata": {
    "environment_version": "2"
   },
   "language": "sql",
   "notebookMetadata": {
    "pythonIndentUnit": 2
   },
   "notebookName": "01-Getting-Started-With-Delta-Lake",
   "widgets": {}
  },
  "language_info": {
   "name": "sql"
  }
 },
 "nbformat": 4,
 "nbformat_minor": 0
}
