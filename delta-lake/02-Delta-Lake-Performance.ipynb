{
 "cells": [
  {
   "cell_type": "markdown",
   "metadata": {
    "application/vnd.databricks.v1+cell": {
     "cellMetadata": {},
     "inputWidgets": {},
     "nuid": "5c21bab5-3cd5-46b4-9703-7162409abe45",
     "showTitle": false,
     "tableResultSettingsMap": {},
     "title": ""
    }
   },
   "source": [
    "\n",
    "<img src=\"https://github.com/QuentinAmbard/databricks-demo/raw/main/retail/resources/images/delta-lake-perf-bench.png\" width=\"500\" style=\"float: right; margin-left: 50px\"/>\n",
    "\n",
    "# Delta Lake: Performance made simple\n",
    "\n",
    "## Blazing fast query at scale\n",
    "\n",
    "Delta Lake saves all your table metadata in an efficient format, ranging from efficient queries on small tables (GB) to massive PB-scale tables. \n",
    "\n",
    "Delta Lake is designed to be smart and do all the hard job for you. It'll automatically tune your table and read the minimum data required to be able to satisfied your query.\n",
    "\n",
    "This result in **fast read query**, even with a growing number of data/partitions!\n",
    "\n",
    "\n",
    "In this notebook, we'll see how we can leverage Delta Lake unique capabilities to speedup requests and simplify maintenance operation. For more details, we recommend to read the [documentation](https://docs.databricks.com/delta/file-mgmt.html).\n",
    "\n",
    "<!-- Collect usage data (view). Remove it to disable collection. View README for more details.  -->\n",
    "<img width=\"1px\" src=\"https://ppxrzfxige.execute-api.us-west-2.amazonaws.com/v1/analytics?category=data-engineering&org_id=4214571749987147&notebook=%2F02-Delta-Lake-Performance&demo_name=delta-lake&event=VIEW&path=%2F_dbdemos%2Fdata-engineering%2Fdelta-lake%2F02-Delta-Lake-Performance&version=1\">\n",
    "<!-- [metadata={\"description\":\"Quick introduction to Delta Lake. <br/><i>Use this content for quick Delta demo.</i>\",\n",
    " \"authors\":[\"quentin.ambard@databricks.com\"],\n",
    " \"db_resources\":{}}] -->"
   ]
  },
  {
   "cell_type": "code",
   "execution_count": 0,
   "metadata": {
    "application/vnd.databricks.v1+cell": {
     "cellMetadata": {},
     "inputWidgets": {},
     "nuid": "5558cf1c-d448-4c5f-9054-5214d7cc1a68",
     "showTitle": true,
     "tableResultSettingsMap": {},
     "title": "Init the demo data under ${raw_data_location}/user_parquet."
    },
    "jupyter": {
     "outputs_hidden": true
    }
   },
   "outputs": [],
   "source": [
    "%run ./_resources/00-setup $reset_all_data=false"
   ]
  },
  {
   "cell_type": "markdown",
   "metadata": {
    "application/vnd.databricks.v1+cell": {
     "cellMetadata": {},
     "inputWidgets": {},
     "nuid": "38c443dd-d35b-4012-839e-2488232d423b",
     "showTitle": false,
     "tableResultSettingsMap": {},
     "title": ""
    }
   },
   "source": [
    "##![](https://pages.databricks.com/rs/094-YMS-629/images/delta-lake-tiny-logo.png) Delta Lake Liquid Clustering\n",
    "\n",
    "<img src=\"https://github.com/databricks-demos/dbdemos-resources/blob/main/images/product/delta/delta-liquid-1.png?raw=true\" style=\"float: right\" width=\"450px\">\n",
    "\n",
    "Data Layout is key to increase performance and query speed. Manual tuning trough hive-style partitioning is not efficient (creating too big or small partitions) and hard to maintain.\n",
    "\n",
    "To solve this issue, Delta Lake released Liquid Clustering. Liquid will automatically adjusts the data layout based on clustering keys, which helps to avoid the over or under-partitioning problems that can occur with Hive partitioning.\n",
    "\n",
    "Liquid clustering can be specified on any columns to provide fast access, including high cardinality or data skew. \n",
    "\n",
    "* **Liquid is simple**: You set Liquid clustering keys on the columns that are most often queried - no more worrying about traditional considerations like column cardinality, partition ordering, or creating artificial columns that act as perfect partitioning keys.\n",
    "* **Liquid is efficient**: It incrementally clusters new data, so you don't need to trade off between improving performance with reducing cost/write amplification.\n",
    "* **Liquid is flexible**: You can quickly change which columns are clustered by Liquid without rewriting existing data.\n",
    "\n",
    "**Delta Liquid Clustering requires DBR 13.2**\n",
    "\n",
    "For more details, [please read the documentation](https://docs.databricks.com/delta/clustering.html)"
   ]
  },
  {
   "cell_type": "code",
   "execution_count": 0,
   "metadata": {
    "application/vnd.databricks.v1+cell": {
     "cellMetadata": {},
     "inputWidgets": {},
     "nuid": "2f9cb795-15e7-464e-bf20-febc06e121ae",
     "showTitle": false,
     "tableResultSettingsMap": {},
     "title": ""
    }
   },
   "outputs": [],
   "source": [
    "-- Liquid will properly layout the data to speedup queries by firstname or lastname.\n",
    "-- this is done by adding the CLUSTER BY keyword during your standard table creation. Clustered table can't have partitions.\n",
    "CREATE OR REPLACE TABLE user_clustering CLUSTER BY (firstname, lastname)\n",
    "  AS SELECT * FROM user_delta;"
   ]
  },
  {
   "cell_type": "code",
   "execution_count": 0,
   "metadata": {
    "application/vnd.databricks.v1+cell": {
     "cellMetadata": {},
     "inputWidgets": {},
     "nuid": "69ea770a-6a8f-411c-9d9b-023a84ac9e31",
     "showTitle": false,
     "tableResultSettingsMap": {},
     "title": ""
    }
   },
   "outputs": [],
   "source": [
    "-- review the table definition, Liquid Clustering appears under \"Clustering Information\"\n",
    "DESCRIBE TABLE user_clustering;"
   ]
  },
  {
   "cell_type": "markdown",
   "metadata": {
    "application/vnd.databricks.v1+cell": {
     "cellMetadata": {},
     "inputWidgets": {},
     "nuid": "1e207cf7-3f6e-4341-9a21-6fba21596562",
     "showTitle": false,
     "tableResultSettingsMap": {},
     "title": ""
    }
   },
   "source": [
    "\n",
    "### How to trigger liquid clustering\n",
    "<img src=\"https://github.com/databricks-demos/dbdemos-resources/blob/main/images/product/delta/delta-liquid-2.png?raw=true\" style=\"float: right\" width=\"400px\">\n",
    "\n",
    "\n",
    "Liquid clustering is incremental, meaning that data is only rewritten as necessary to accommodate data that needs to be clustered.\n",
    "\n",
    "For best performance, Databricks recommends scheduling regular OPTIMIZE jobs to cluster data. \n",
    "\n",
    "For tables experiencing many updates or inserts, Databricks recommends scheduling an OPTIMIZE job every one or two hours. \n",
    "\n",
    "Because liquid clustering is incremental, most OPTIMIZE jobs for clustered tables run quickly. No need to specify any ZORDER columns.\n",
    "\n",
    "*Note: Liquid clustering will automatically re-arrange your data during writes above a given threshold. As with all indexes, this will add a small write cost.*"
   ]
  },
  {
   "cell_type": "code",
   "execution_count": 0,
   "metadata": {
    "application/vnd.databricks.v1+cell": {
     "cellMetadata": {},
     "inputWidgets": {},
     "nuid": "ef203c53-3427-4c01-94b1-9f8a56a9d1c9",
     "showTitle": true,
     "tableResultSettingsMap": {},
     "title": "Trigger liquid clustering"
    }
   },
   "outputs": [],
   "source": [
    "OPTIMIZE user_clustering;"
   ]
  },
  {
   "cell_type": "code",
   "execution_count": 0,
   "metadata": {
    "application/vnd.databricks.v1+cell": {
     "cellMetadata": {},
     "inputWidgets": {},
     "nuid": "439be9b2-94c2-4058-accd-d8c5d9c4ad3f",
     "showTitle": true,
     "tableResultSettingsMap": {},
     "title": "Don't forget to the table periodically to remove your history and previous files"
    }
   },
   "outputs": [],
   "source": [
    "VACUUM user_clustering;"
   ]
  },
  {
   "cell_type": "code",
   "execution_count": 0,
   "metadata": {
    "application/vnd.databricks.v1+cell": {
     "cellMetadata": {},
     "inputWidgets": {},
     "nuid": "ea9494db-fc2a-4906-a9b5-24e3e4caa985",
     "showTitle": true,
     "tableResultSettingsMap": {},
     "title": "Our requests using firstname and lastname are now super fast!"
    }
   },
   "outputs": [],
   "source": [
    "SELECT * FROM user_clustering where firstname = 'Teresa'"
   ]
  },
  {
   "cell_type": "markdown",
   "metadata": {
    "application/vnd.databricks.v1+cell": {
     "cellMetadata": {},
     "inputWidgets": {},
     "nuid": "69ce44e6-d977-4f79-a7de-4899e786f070",
     "showTitle": false,
     "tableResultSettingsMap": {},
     "title": ""
    }
   },
   "source": [
    "### Dynamically changing your clustering columns\n",
    "\n",
    "Liquid table are flexible, you can change your clustering columns without having to re-write all your data. \n",
    "\n",
    "Let's make sure our table provides fast queries for ID:"
   ]
  },
  {
   "cell_type": "code",
   "execution_count": 0,
   "metadata": {
    "application/vnd.databricks.v1+cell": {
     "cellMetadata": {},
     "inputWidgets": {},
     "nuid": "ee7b901c-305f-4ce6-91c8-ae5459ba4659",
     "showTitle": true,
     "tableResultSettingsMap": {},
     "title": "Dynamically changing your clustering columns"
    }
   },
   "outputs": [],
   "source": [
    "ALTER TABLE user_clustering CLUSTER BY (id, firstname, lastname);"
   ]
  },
  {
   "cell_type": "code",
   "execution_count": 0,
   "metadata": {
    "application/vnd.databricks.v1+cell": {
     "cellMetadata": {},
     "inputWidgets": {},
     "nuid": "613dfeb3-af3d-4711-bd7c-c25db0119228",
     "showTitle": true,
     "tableResultSettingsMap": {},
     "title": "Disabling liquid clustering:"
    }
   },
   "outputs": [],
   "source": [
    "-- Disable liquid clustering:\n",
    "ALTER TABLE user_clustering CLUSTER BY NONE;\n",
    "-- Note: this does not rewrite data that has already been clustered, but prevents future OPTIMIZE operations from using clustering keys."
   ]
  },
  {
   "cell_type": "markdown",
   "metadata": {
    "application/vnd.databricks.v1+cell": {
     "cellMetadata": {},
     "inputWidgets": {},
     "nuid": "1b93373d-5ea9-407a-9ab7-c1961671261e",
     "showTitle": false,
     "tableResultSettingsMap": {},
     "title": ""
    }
   },
   "source": [
    "###![](https://pages.databricks.com/rs/094-YMS-629/images/delta-lake-tiny-logo.png) Compacting without Liquid Clustering\n",
    "\n",
    "While recommended to accelerate your queries, some tables might not always have Liquid Clustering enabled.\n",
    "\n",
    "Adding data to the table results in new file creation, and your table can quickly have way too many small files which is going to impact performances over time.\n",
    "\n",
    "This becomes expecially true with streaming operation where you add new data every few seconds, in near realtime.\n",
    "\n",
    "Just like for Liquid Clusteing, Delta Lake solves this operation with the `OPTIMIZE` command, which is going to optimize the file layout for you, picking the proper file size based on heuristics. As no Cluster are defined, this will simply compact the files."
   ]
  },
  {
   "cell_type": "code",
   "execution_count": 0,
   "metadata": {
    "application/vnd.databricks.v1+cell": {
     "cellMetadata": {},
     "inputWidgets": {},
     "nuid": "d7be86dc-67d2-4bf3-b981-530d37adbf96",
     "showTitle": false,
     "tableResultSettingsMap": {},
     "title": ""
    }
   },
   "outputs": [],
   "source": [
    "-- let's compact our table. Note that the engine decided to compact 8 files into 1 (\"numFilesAdded\": 1, \"numFilesRemoved\": 8)\n",
    "OPTIMIZE user_delta "
   ]
  },
  {
   "cell_type": "markdown",
   "metadata": {
    "application/vnd.databricks.v1+cell": {
     "cellMetadata": {},
     "inputWidgets": {},
     "nuid": "787123f0-d76b-4f3a-aa89-ae519cb9b51c",
     "showTitle": false,
     "tableResultSettingsMap": {},
     "title": ""
    }
   },
   "source": [
    "These maintenance operation have to be triggered frequently to keep our table properly optimized.\n",
    "\n",
    "Using Databricks, you can have your table automatically optimized out of the box, without having you to worry about it. All you have to do is set the [proper table properties](https://docs.databricks.com/optimizations/auto-optimize.html), and the engine will optimize your table when needed, without having you to run manual OPTIMIZE operation.\n",
    "\n",
    "We strongly recommend to enable this option for all your tables."
   ]
  },
  {
   "cell_type": "code",
   "execution_count": 0,
   "metadata": {
    "application/vnd.databricks.v1+cell": {
     "cellMetadata": {},
     "inputWidgets": {},
     "nuid": "831edaa1-ea56-467f-92c4-a3133031c98d",
     "showTitle": false,
     "tableResultSettingsMap": {},
     "title": ""
    }
   },
   "outputs": [],
   "source": [
    "ALTER TABLE user_delta SET TBLPROPERTIES (delta.autoOptimize.optimizeWrite = true, delta.autoOptimize.autoCompact = true);"
   ]
  },
  {
   "cell_type": "markdown",
   "metadata": {
    "application/vnd.databricks.v1+cell": {
     "cellMetadata": {},
     "inputWidgets": {},
     "nuid": "422ac7f0-9d52-41e2-99e5-d254f79494b3",
     "showTitle": false,
     "tableResultSettingsMap": {},
     "title": ""
    }
   },
   "source": [
    "### Note: Auto Optimize with Liquid Clustering\n",
    "\n",
    "Liquid Clustering will automatically kick off eager optimization starting from a given write size, based on heuristic. \n",
    "You can also turn on `delta.autoOptimize.optimizeWrite = true` on your liquid table starting from DBR 13.3 to make sure all writes will be optimized. While you can enable `delta.autoOptimize.autoCompact = true`, it won't have any effect for now (as of DBR 13.3, this might change in the future)."
   ]
  },
  {
   "cell_type": "markdown",
   "metadata": {
    "application/vnd.databricks.v1+cell": {
     "cellMetadata": {},
     "inputWidgets": {},
     "nuid": "6f02b8b1-9ae0-4d37-b639-ebbff440a9bc",
     "showTitle": false,
     "tableResultSettingsMap": {},
     "title": ""
    }
   },
   "source": [
    "## Legacy file layout optimizations\n",
    "\n",
    "Liquid Clustering is the future of Delta Lake optimization and query speedup, and we now recommend starting with Liquid Clustering.\n",
    "\n",
    "Below are previous Delta Lake optimization leveraging Zordering and Partitioning techniques. "
   ]
  },
  {
   "cell_type": "markdown",
   "metadata": {
    "application/vnd.databricks.v1+cell": {
     "cellMetadata": {},
     "inputWidgets": {},
     "nuid": "3762c86a-0152-457b-a9f9-668925b9707e",
     "showTitle": false,
     "tableResultSettingsMap": {},
     "title": ""
    }
   },
   "source": [
    "### ZORDER\n",
    "\n",
    "\n",
    "ZORDER will optimize the file layout by multiple columns, but it's often used in addition to partitioning and is not as efficient as Liquid Clustering. It'll increase the write amplification and won't solve your small partitions issues.\n",
    "\n",
    "Below are a few examples on how you can leverage ZORDER, but we strongly recommend switching to Liquid Tables instead."
   ]
  },
  {
   "cell_type": "markdown",
   "metadata": {
    "application/vnd.databricks.v1+cell": {
     "cellMetadata": {},
     "inputWidgets": {},
     "nuid": "567f7e42-04b8-4e5f-b2eb-1c530c9a3d04",
     "showTitle": false,
     "tableResultSettingsMap": {},
     "title": ""
    }
   },
   "source": [
    "### ![](https://pages.databricks.com/rs/094-YMS-629/images/delta-lake-tiny-logo.png) Adding indexes (ZORDER) to your table\n",
    "\n",
    "If you request your table using a specific predicat (ex: username), you can speedup your request by adding an index on these columns. We call this operation ZORDER.\n",
    "\n",
    "You can ZORDER on any column, especially the one having high cardinality (id, firstname etc). \n",
    "\n",
    "*Note: We recommand to stay below 4 ZORDER columns for better query performance.*"
   ]
  },
  {
   "cell_type": "code",
   "execution_count": 0,
   "metadata": {
    "application/vnd.databricks.v1+cell": {
     "cellMetadata": {},
     "inputWidgets": {},
     "nuid": "57cd1f4b-748b-4d6d-8a34-90e4d52f6063",
     "showTitle": false,
     "tableResultSettingsMap": {},
     "title": ""
    }
   },
   "outputs": [],
   "source": [
    "OPTIMIZE user_delta ZORDER BY (id, firstname);\n",
    "\n",
    "-- our next queries using a filter on id or firstname will be much faster\n",
    "SELECT * FROM user_delta where id = 4 or firstname = 'Quentin';"
   ]
  },
  {
   "cell_type": "markdown",
   "metadata": {
    "application/vnd.databricks.v1+cell": {
     "cellMetadata": {},
     "inputWidgets": {},
     "nuid": "5fb7f5e8-6eb5-4673-9612-9f15aad9c3f0",
     "showTitle": false,
     "tableResultSettingsMap": {},
     "title": ""
    }
   },
   "source": [
    "### ![Delta Lake Tiny Logo](https://pages.databricks.com/rs/094-YMS-629/images/delta-lake-tiny-logo.png) Delta Lake Generated columns for dynamic partitions\n",
    "\n",
    "Adding partitions to your table is a way of saving data having the same column under the same location. Our engine will then be able to read less data and have better read performances.\n",
    "\n",
    "Using Delta Lake, partitions can be generated based on expression, and the engine will push-down your predicate applying the same expression even if the request is on the original field.\n",
    "\n",
    "A typical use-case is to partition per a given time (ex: year, month or even day). \n",
    "\n",
    "Our user table has a `creation_date` field. We'll generate a `creation_day` field based on an expression and use it as partition for our table with `GENERATED ALWAYS`.\n",
    "\n",
    "In addition, we'll let the engine generate incremental ID.\n",
    "\n",
    "*Note: Remember that partition will also create more files under the hood. You have to be careful using them. Make sure you don't over-partition your table (aim for 100's of partition max, having at least 1GB of data). We don't recommend creating partition on table smaller than 1TB. Use LIQUID CLUSTERING instead.*"
   ]
  },
  {
   "cell_type": "code",
   "execution_count": 0,
   "metadata": {
    "application/vnd.databricks.v1+cell": {
     "cellMetadata": {},
     "inputWidgets": {},
     "nuid": "4df953df-626c-42c0-83af-dce84fd0cd88",
     "showTitle": false,
     "tableResultSettingsMap": {},
     "title": ""
    }
   },
   "outputs": [],
   "source": [
    "CREATE TABLE IF NOT EXISTS user_delta_partition (\n",
    "  id BIGINT GENERATED ALWAYS AS IDENTITY ( START WITH 10000 INCREMENT BY 1 ), \n",
    "  firstname STRING, \n",
    "  lastname STRING, \n",
    "  email STRING, \n",
    "  address STRING, \n",
    "  gender INT, \n",
    "  age_group INT,\n",
    "  creation_date timestamp, \n",
    "  creation_day date GENERATED ALWAYS AS ( CAST(creation_date AS DATE) ) )\n",
    "PARTITIONED BY (creation_day);"
   ]
  },
  {
   "cell_type": "code",
   "execution_count": 0,
   "metadata": {
    "application/vnd.databricks.v1+cell": {
     "cellMetadata": {},
     "inputWidgets": {},
     "nuid": "44486a6d-af93-4c35-b52e-e2a2a93db263",
     "showTitle": false,
     "tableResultSettingsMap": {},
     "title": ""
    }
   },
   "outputs": [],
   "source": [
    "-- Note that we don't insert data for the creation_day field or id. The engine will handle that for us:\n",
    "INSERT INTO user_delta_partition (firstname, lastname, email, address, gender, age_group, creation_date) SELECT\n",
    "  firstname,\n",
    "  lastname,\n",
    "  email,\n",
    "  address,\n",
    "  gender,\n",
    "  age_group,\n",
    "  creation_date\n",
    "FROM user_delta;"
   ]
  },
  {
   "cell_type": "code",
   "execution_count": 0,
   "metadata": {
    "application/vnd.databricks.v1+cell": {
     "cellMetadata": {},
     "inputWidgets": {},
     "nuid": "dabd6625-5c47-4d7b-809c-704c9f011c96",
     "showTitle": false,
     "tableResultSettingsMap": {},
     "title": ""
    }
   },
   "outputs": [],
   "source": [
    "SELECT * FROM user_delta_partition where creation_day = CAST(NOW() as DATE) ;"
   ]
  },
  {
   "cell_type": "markdown",
   "metadata": {
    "application/vnd.databricks.v1+cell": {
     "cellMetadata": {},
     "inputWidgets": {},
     "nuid": "0ea27a79-4dde-492d-b93f-6097a4d36ffe",
     "showTitle": false,
     "tableResultSettingsMap": {},
     "title": ""
    }
   },
   "source": [
    "That's it! You know how to have super fast queries on top of your Delta Lake tables!\n",
    "\n",
    "\n",
    "Next: Discover how Delta Lake is an Universal Format with [the 03-Delta-Lake-Uniform notebook]($./03-Delta-Lake-Uniform) or go back to [00-Delta-Lake-Introduction]($./00-Delta-Lake-Introduction).\n"
   ]
  }
 ],
 "metadata": {
  "application/vnd.databricks.v1+notebook": {
   "computePreferences": null,
   "dashboards": [],
   "environmentMetadata": {
    "environment_version": "2"
   },
   "language": "sql",
   "notebookMetadata": {
    "pythonIndentUnit": 2
   },
   "notebookName": "02-Delta-Lake-Performance",
   "widgets": {}
  },
  "language_info": {
   "name": "sql"
  }
 },
 "nbformat": 4,
 "nbformat_minor": 0
}
