{
 "cells": [
  {
   "cell_type": "markdown",
   "metadata": {
    "application/vnd.databricks.v1+cell": {
     "cellMetadata": {},
     "inputWidgets": {},
     "nuid": "7e0735fa-04d6-4b10-af49-1afa74cedabe",
     "showTitle": false,
     "tableResultSettingsMap": {},
     "title": ""
    }
   },
   "source": [
    "\n",
    "# Delta Lake Uniform: Universal Format for all your Lakehouse tools\n",
    "\n",
    "\n",
    "<img src=\"https://cms.databricks.com/sites/default/files/inline-images/image1_5.png\" width=\"700px\" style=\"float: right; margin-left: 50px\"/>\n",
    "\n",
    "Companies want to leverage open format and stay away from vendor lockin. Migration is costly and difficult, so they want to make the right decision up front and only have to save data once. \n",
    "\n",
    "They ultimately want the best performance at the cheapest price for all of their data workloads including ETL, BI, and AI, and the flexibility to consume that data anywhere.\n",
    "\n",
    "\n",
    "Delta Universal Format (UniForm) automatically unifies table formats, without creating additional copies of data or more data silos. \n",
    "\n",
    "Teams that use query engines designed to work with Iceberg or Hudi data will be able to read Delta tables seamlessly, without having to copy data over or convert it. \n",
    "\n",
    "Customers don’t have to choose a single format, because **tables written by Delta will be universally accessible by Iceberg and Hudi readers.**\n",
    "\n",
    "\n",
    "<!-- Collect usage data (view). Remove it to disable collection. View README for more details.  -->\n",
    "<img width=\"1px\" src=\"https://ppxrzfxige.execute-api.us-west-2.amazonaws.com/v1/analytics?category=data-engineering&org_id=4214571749987147&notebook=%2F03-Delta-Lake-Uniform&demo_name=delta-lake&event=VIEW&path=%2F_dbdemos%2Fdata-engineering%2Fdelta-lake%2F03-Delta-Lake-Uniform&version=1\">\n",
    "<!-- [metadata={\"description\":\"Quick introduction to Delta Lake. <br/><i>Use this content for quick Delta demo.</i>\",\n",
    " \"authors\":[\"quentin.ambard@databricks.com\"],\n",
    " \"db_resources\":{}}] -->"
   ]
  },
  {
   "cell_type": "code",
   "execution_count": 0,
   "metadata": {
    "application/vnd.databricks.v1+cell": {
     "cellMetadata": {},
     "inputWidgets": {},
     "nuid": "c383c7a3-36d4-42fa-811d-e7a01587d37e",
     "showTitle": true,
     "tableResultSettingsMap": {},
     "title": "Init the demo data"
    },
    "jupyter": {
     "outputs_hidden": true
    }
   },
   "outputs": [],
   "source": [
    "%run ./_resources/00-setup $reset_all_data=false"
   ]
  },
  {
   "cell_type": "markdown",
   "metadata": {
    "application/vnd.databricks.v1+cell": {
     "cellMetadata": {},
     "inputWidgets": {},
     "nuid": "c55b6df7-4655-4a1c-8684-7bd3c03faf55",
     "showTitle": false,
     "tableResultSettingsMap": {},
     "title": ""
    }
   },
   "source": [
    "##![](https://pages.databricks.com/rs/094-YMS-629/images/delta-lake-tiny-logo.png) Leveraging Delta Lake power across all formats\n",
    "\n",
    "<img src=\"https://cms.databricks.com/sites/default/files/inline-images/image3_2.png\" style=\"float: right\" width=\"650px\" />\n",
    "\n",
    "UniForm takes advantage of the fact that all three open lakehouse formats are thin layers of metadata atop Parquet data files. As writes are made, UniForm will incrementally generate this layer of metadata to spec for Hudi, Iceberg and Delta.\n",
    "\n",
    "UniForm introduces negligible performance and resource overhead. \n",
    "\n",
    "We also saw improved read performance on UniForm-enabled tables relative to native Iceberg tables, thanks to Delta’s improved data layout capabilities .\n",
    "\n",
    "With UniForm, customers can choose Delta with confidence, knowing that they’ll have broad support from any tool that supports lakehouse formats."
   ]
  },
  {
   "cell_type": "code",
   "execution_count": 0,
   "metadata": {
    "application/vnd.databricks.v1+cell": {
     "cellMetadata": {},
     "inputWidgets": {},
     "nuid": "91f88a0c-4939-40f8-be19-6e9d51d6a0a8",
     "showTitle": false,
     "tableResultSettingsMap": {},
     "title": ""
    }
   },
   "outputs": [],
   "source": [
    "%sql\n",
    "CREATE TABLE IF NOT EXISTS user_uniform ( id BIGINT, firstname STRING, lastname STRING, email STRING)\n",
    "    TBLPROPERTIES ('delta.universalFormat.enabledFormats' = 'iceberg', \n",
    "                   'delta.enableIcebergCompatV2' = 'true')"
   ]
  },
  {
   "cell_type": "code",
   "execution_count": 0,
   "metadata": {
    "application/vnd.databricks.v1+cell": {
     "cellMetadata": {},
     "inputWidgets": {},
     "nuid": "db056afa-17ef-400e-87d0-24c8161d4f8c",
     "showTitle": false,
     "tableResultSettingsMap": {},
     "title": ""
    }
   },
   "outputs": [],
   "source": [
    "%sql\n",
    "INSERT INTO user_uniform SELECT id, firstname, lastname, email FROM user_delta;  \n",
    "\n",
    "SELECT * FROM user_uniform;"
   ]
  },
  {
   "cell_type": "markdown",
   "metadata": {
    "application/vnd.databricks.v1+cell": {
     "cellMetadata": {},
     "inputWidgets": {},
     "nuid": "4039c5e2-50ae-4bbd-8082-a871a8efb516",
     "showTitle": false,
     "tableResultSettingsMap": {},
     "title": ""
    }
   },
   "source": [
    "Uniform delta tables are available as any other table. Because we enabled `iceberg` as format, each subsequential write will update the Delta and Iceberg metadata. <br>\n",
    "Technically speaking, your table now contains 2 metadata folders:\n",
    "\n",
    "* `delta_log` containing all Delta Lake format metadata\n",
    "* `metadata` containing Iceberg format metadata\n",
    "\n",
    "\n",
    "Your Delta Lake table is still available like any other table:"
   ]
  },
  {
   "cell_type": "code",
   "execution_count": 0,
   "metadata": {
    "application/vnd.databricks.v1+cell": {
     "cellMetadata": {},
     "inputWidgets": {},
     "nuid": "55d05600-17a5-4ac0-937f-ad18be8bff22",
     "showTitle": false,
     "tableResultSettingsMap": {},
     "title": ""
    }
   },
   "outputs": [],
   "source": [
    "%sql\n",
    "SHOW TBLPROPERTIES user_uniform;"
   ]
  },
  {
   "cell_type": "markdown",
   "metadata": {
    "application/vnd.databricks.v1+cell": {
     "cellMetadata": {},
     "inputWidgets": {},
     "nuid": "870fd99a-1111-46e2-a9f2-2decbb84eab2",
     "showTitle": false,
     "tableResultSettingsMap": {},
     "title": ""
    }
   },
   "source": [
    "### Access your Delta Lake table using Iceberg REST Catalog API\n",
    "\n",
    "Our Delta Lake table is now available by any system reading Iceberg tables, such as native Iceberg reader or external system like Big Query.\n",
    "\n",
    "If you're using an external storage, Databricks expose the table information through:"
   ]
  },
  {
   "cell_type": "code",
   "execution_count": 0,
   "metadata": {
    "application/vnd.databricks.v1+cell": {
     "cellMetadata": {},
     "inputWidgets": {},
     "nuid": "95dbf808-e4cc-480f-91f9-b93b3bd9de30",
     "showTitle": false,
     "tableResultSettingsMap": {},
     "title": ""
    }
   },
   "outputs": [],
   "source": [
    "from databricks.sdk import WorkspaceClient\n",
    "ws = WorkspaceClient() \n",
    "table_info = ws.api_client.do('GET', f'/api/2.1/unity-catalog/tables/{catalog}.{schema}.user_uniform')\n",
    "table_info['delta_uniform_iceberg']"
   ]
  },
  {
   "cell_type": "markdown",
   "metadata": {
    "application/vnd.databricks.v1+cell": {
     "cellMetadata": {},
     "inputWidgets": {},
     "nuid": "c4acb838-d446-4298-8098-0fc34354c713",
     "showTitle": false,
     "tableResultSettingsMap": {},
     "title": ""
    }
   },
   "source": [
    "To read a managed table, you can leverage the Iceberg Catalog:\n",
    "\n",
    "```\n",
    "curl -X GET -H \"Authentication: Bearer $OAUTH_TOKEN\" -H \"Accept: application/json\" \\\n",
    "https://<workspace-instance>/api/2.1/unity-catalog/iceberg/v1/catalogs/<uc_catalog_name>/namespaces/<uc_schema_name>/tables/<uc_table_name>\n",
    "```\n",
    "\n",
    "You should then receive a response like this:\n",
    "\n",
    "```\n",
    "{\n",
    "  \"metadata-location\": \"s3://bucket/path/to/iceberg/table/metadata/file\",\n",
    "  \"metadata\": <iceberg-table-metadata-json>,\n",
    "  \"config\": {\n",
    "    \"expires-at-ms\": \"<epoch-ts-in-millis>\",\n",
    "    \"s3.access-key-id\": \"<temporary-s3-access-key-id>\",\n",
    "    \"s3.session-token\":\"<temporary-s3-session-token>\",\n",
    "    \"s3.secret-access-key\":\"<temporary-secret-access-key>\",\n",
    "    \"client.region\":\"<aws-bucket-region-for-metadata-location>\"\n",
    "  }\n",
    "}\n",
    "```\n",
    "\n",
    "For more details, see [the Uniform Documentation](https://docs.databricks.com/en/delta/uniform.html)"
   ]
  },
  {
   "cell_type": "markdown",
   "metadata": {
    "application/vnd.databricks.v1+cell": {
     "cellMetadata": {},
     "inputWidgets": {},
     "nuid": "dc1830ad-5413-4da3-b03d-8cb1705adc7f",
     "showTitle": false,
     "tableResultSettingsMap": {},
     "title": ""
    }
   },
   "source": [
    "That's it! You can now access all your Delta Lake table as Iceberg table, while getting the power of Delta Lake and bazing fast queries with Liquid Clustering.\n",
    "\n",
    "Your lakehouse is now fully open, without any vender lock-in. \n",
    "\n",
    "\n",
    "Next: Deep dive into Delta Lake Change Data Capture capability with [the 04-Delta-Lake-CDF notebook]($./04-Delta-Lake-CDF) or go back to [00-Delta-Lake-Introduction]($./00-Delta-Lake-Introduction).\n"
   ]
  }
 ],
 "metadata": {
  "application/vnd.databricks.v1+notebook": {
   "computePreferences": null,
   "dashboards": [],
   "environmentMetadata": {
    "environment_version": "2"
   },
   "language": "python",
   "notebookMetadata": {
    "pythonIndentUnit": 2
   },
   "notebookName": "03-Delta-Lake-Uniform",
   "widgets": {}
  },
  "language_info": {
   "name": "python"
  }
 },
 "nbformat": 4,
 "nbformat_minor": 0
}
