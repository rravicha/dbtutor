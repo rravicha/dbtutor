{
 "cells": [
  {
   "cell_type": "markdown",
   "metadata": {
    "application/vnd.databricks.v1+cell": {
     "cellMetadata": {},
     "inputWidgets": {},
     "nuid": "eab18686-949e-44ea-8c32-3c5041168cc3",
     "showTitle": false,
     "tableResultSettingsMap": {},
     "title": ""
    }
   },
   "source": [
    "\n",
    "# Delta Lake internals\n",
    "<img src=\"https://pages.databricks.com/rs/094-YMS-629/images/delta-lake-logo-whitebackground.png\" style=\"width:200px; float: right\"/>\n",
    "\n",
    "Let's deep dive into Delta Lake internals.\n",
    "\n",
    "## Exploring delta structure\n",
    "\n",
    "Under the hood, Delta is composed of parquet files and a transactional log. Transactional log contains all the metadata operation. Databricks leverage this information to perform efficient data skipping at scale among other things.\n",
    "\n",
    "<!-- Collect usage data (view). Remove it to disable collection. View README for more details.  -->\n",
    "<img width=\"1px\" src=\"https://ppxrzfxige.execute-api.us-west-2.amazonaws.com/v1/analytics?category=data-engineering&org_id=4214571749987147&notebook=%2F05-Advanced-Delta-Lake-Internal&demo_name=delta-lake&event=VIEW&path=%2F_dbdemos%2Fdata-engineering%2Fdelta-lake%2F05-Advanced-Delta-Lake-Internal&version=1\">\n",
    "<!-- [metadata={\"description\":\"Quick introduction to Delta Lake. <br/><i>Use this content for quick Delta demo.</i>\",\n",
    " \"authors\":[\"quentin.ambard@databricks.com\"],\n",
    " \"db_resources\":{}}] -->"
   ]
  },
  {
   "cell_type": "code",
   "execution_count": 0,
   "metadata": {
    "application/vnd.databricks.v1+cell": {
     "cellMetadata": {},
     "inputWidgets": {},
     "nuid": "5f47269b-6ba6-482a-9b13-36a7f9e1b7aa",
     "showTitle": true,
     "tableResultSettingsMap": {},
     "title": "Init the demo data"
    },
    "jupyter": {
     "outputs_hidden": true
    }
   },
   "outputs": [],
   "source": [
    "%run ./_resources/00-setup $reset_all_data=false"
   ]
  },
  {
   "cell_type": "markdown",
   "metadata": {
    "application/vnd.databricks.v1+cell": {
     "cellMetadata": {},
     "inputWidgets": {},
     "nuid": "22c90d15-4be9-4677-9532-9c132c1d425f",
     "showTitle": false,
     "tableResultSettingsMap": {},
     "title": ""
    }
   },
   "source": [
    "### Exploring delta structure\n",
    "\n",
    "Delta is composed of parquet files and a transactional log"
   ]
  },
  {
   "cell_type": "code",
   "execution_count": 0,
   "metadata": {
    "application/vnd.databricks.v1+cell": {
     "cellMetadata": {},
     "inputWidgets": {},
     "nuid": "1f5178fd-1689-454b-8c3b-dc367fe5bc6a",
     "showTitle": false,
     "tableResultSettingsMap": {},
     "title": ""
    }
   },
   "outputs": [],
   "source": [
    "%python\n",
    "spark.table('user_delta').write.mode('overwrite').save(f'/Volumes/{catalog}/{schema}/{volume_name}/user_delta_table')"
   ]
  },
  {
   "cell_type": "code",
   "execution_count": 0,
   "metadata": {
    "application/vnd.databricks.v1+cell": {
     "cellMetadata": {},
     "inputWidgets": {},
     "nuid": "e5f24837-9836-4d9c-9fea-4c197abc6e73",
     "showTitle": false,
     "tableResultSettingsMap": {},
     "title": ""
    }
   },
   "outputs": [],
   "source": [
    "\n",
    "DESCRIBE DETAIL `delta`.`/Volumes/pds/dbdemos_sharing_airlinedata/delta_lake_raw_data/user_delta_table`"
   ]
  },
  {
   "cell_type": "code",
   "execution_count": 0,
   "metadata": {
    "application/vnd.databricks.v1+cell": {
     "cellMetadata": {},
     "inputWidgets": {},
     "nuid": "76928808-4911-44a3-a567-3169cfe13fa0",
     "showTitle": true,
     "tableResultSettingsMap": {},
     "title": "Delta is composed of parquet files"
    }
   },
   "outputs": [],
   "source": [
    "%python\n",
    "delta_folder = spark.sql(f\"DESCRIBE DETAIL `delta`.`/Volumes/{catalog}/{schema}/{volume_name}/user_delta_table`\").collect()[0]['location']\n",
    "print(delta_folder)\n",
    "display(dbutils.fs.ls(delta_folder))"
   ]
  },
  {
   "cell_type": "code",
   "execution_count": 0,
   "metadata": {
    "application/vnd.databricks.v1+cell": {
     "cellMetadata": {},
     "inputWidgets": {},
     "nuid": "72490789-ae2d-41c1-9e60-eafe2e33e565",
     "showTitle": true,
     "tableResultSettingsMap": {},
     "title": "And a transactional log"
    }
   },
   "outputs": [],
   "source": [
    "%python\n",
    "display(dbutils.fs.ls(delta_folder+\"/_delta_log\"))"
   ]
  },
  {
   "cell_type": "code",
   "execution_count": 0,
   "metadata": {
    "application/vnd.databricks.v1+cell": {
     "cellMetadata": {},
     "inputWidgets": {},
     "nuid": "8d811b5e-c103-4bd8-bcca-84b71d3bc5fe",
     "showTitle": false,
     "tableResultSettingsMap": {},
     "title": ""
    }
   },
   "outputs": [],
   "source": [
    "%python\n",
    "commit_log = dbutils.fs.head(delta_folder+\"/_delta_log/00000000000000000000.json\", 10000)\n",
    "print(json.dumps(json.loads(commit_log.split('\\n')[0]), indent = 2))"
   ]
  },
  {
   "cell_type": "markdown",
   "metadata": {
    "application/vnd.databricks.v1+cell": {
     "cellMetadata": {},
     "inputWidgets": {},
     "nuid": "888bd0c3-0dd5-4efa-a0e7-57984b6de253",
     "showTitle": false,
     "tableResultSettingsMap": {},
     "title": ""
    }
   },
   "source": [
    "## OPTIMIZE in action\n",
    "Running an `OPTIMIZE` + `VACUUM` will re-order all our files.\n",
    "\n",
    "As you can see, we have multiple small parquet files in our folder:"
   ]
  },
  {
   "cell_type": "code",
   "execution_count": 0,
   "metadata": {
    "application/vnd.databricks.v1+cell": {
     "cellMetadata": {},
     "inputWidgets": {},
     "nuid": "2f6ccf10-8784-43eb-9462-620594e7e184",
     "showTitle": false,
     "tableResultSettingsMap": {},
     "title": ""
    }
   },
   "outputs": [],
   "source": [
    "%python\n",
    "display(dbutils.fs.ls(delta_folder))"
   ]
  },
  {
   "cell_type": "markdown",
   "metadata": {
    "application/vnd.databricks.v1+cell": {
     "cellMetadata": {},
     "inputWidgets": {},
     "nuid": "b2ddd2df-fdea-4fb8-adb4-7881a6c381b7",
     "showTitle": false,
     "tableResultSettingsMap": {},
     "title": ""
    }
   },
   "source": [
    "Let's OPTIMIZE our table to see how the engine will compact the table:"
   ]
  },
  {
   "cell_type": "code",
   "execution_count": 0,
   "metadata": {
    "application/vnd.databricks.v1+cell": {
     "cellMetadata": {},
     "inputWidgets": {},
     "nuid": "51b05f77-925d-4ca9-a9ab-7aa9427bfc8c",
     "showTitle": false,
     "tableResultSettingsMap": {},
     "title": ""
    }
   },
   "outputs": [],
   "source": [
    "OPTIMIZE `delta`.`/Volumes/pds/dbdemos_sharing_airlinedata/delta_lake_raw_data/user_delta_table`;\n",
    "-- as we vacuum with 0 hours, we need to remove the safety check:\n",
    "\n",
    "-- Note: commented out as this option isn't available on serverless compute for now - see ES-1302674\n",
    "-- set spark.databricks.delta.retentionDurationCheck.enabled = false;\n",
    "\n",
    "-- VACUUM `delta`.`/Volumes/pds/dbdemos_sharing_airlinedata/delta_lake_raw_data/user_delta_table` retain 0 hours;"
   ]
  },
  {
   "cell_type": "code",
   "execution_count": 0,
   "metadata": {
    "application/vnd.databricks.v1+cell": {
     "cellMetadata": {},
     "inputWidgets": {},
     "nuid": "3113b72c-a529-455a-a52c-33dfc4735bff",
     "showTitle": true,
     "tableResultSettingsMap": {},
     "title": "Only one parquet file remains after the OPTIMIZE+VACUUM operation"
    }
   },
   "outputs": [],
   "source": [
    "%python\n",
    "display(dbutils.fs.ls(delta_folder))"
   ]
  },
  {
   "cell_type": "markdown",
   "metadata": {
    "application/vnd.databricks.v1+cell": {
     "cellMetadata": {},
     "inputWidgets": {},
     "nuid": "ea14057c-e0c0-443d-aa80-c686ed6d5945",
     "showTitle": false,
     "tableResultSettingsMap": {},
     "title": ""
    }
   },
   "source": [
    "That's it! You know everything about Delta Lake!\n",
    "\n",
    "As next step, you learn more about Delta Live Table to simplify your ingestion pipeline: `dbdemos.install('delta-live-table')`\n",
    "\n",
    "Go back to [00-Delta-Lake-Introduction]($./00-Delta-Lake-Introduction)."
   ]
  },
  {
   "cell_type": "code",
   "execution_count": 0,
   "metadata": {
    "application/vnd.databricks.v1+cell": {
     "cellMetadata": {
      "byteLimit": 2048000,
      "rowLimit": 10000
     },
     "inputWidgets": {},
     "nuid": "ea830e90-838e-47f3-acd0-90bad4f4ffa9",
     "showTitle": false,
     "tableResultSettingsMap": {},
     "title": ""
    }
   },
   "outputs": [],
   "source": [
    "COPY INTO `delta`.`/Volumes/pds/dbdemos_sharing_airlinedata/delta_lake_raw_data/user_delta_table`\n",
    "FROM 'https://dbc-092fbfc3-eebd.cloud.databricks.com/browse/folders/1990082293548072?o=4214571749987147'\n",
    "FILES = ('https://dbc-092fbfc3-eebd.cloud.databricks.com/browse/folders/357045988982663?o=4214571749987147')\n"
   ]
  }
 ],
 "metadata": {
  "application/vnd.databricks.v1+notebook": {
   "computePreferences": null,
   "dashboards": [],
   "environmentMetadata": {
    "environment_version": "2"
   },
   "language": "sql",
   "notebookMetadata": {
    "pythonIndentUnit": 2
   },
   "notebookName": "05-Advanced-Delta-Lake-Internal",
   "widgets": {}
  },
  "language_info": {
   "name": "sql"
  }
 },
 "nbformat": 4,
 "nbformat_minor": 0
}
