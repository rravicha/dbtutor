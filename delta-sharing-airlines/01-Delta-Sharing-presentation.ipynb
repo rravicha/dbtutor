{
 "cells": [
  {
   "cell_type": "markdown",
   "metadata": {
    "application/vnd.databricks.v1+cell": {
     "cellMetadata": {},
     "inputWidgets": {},
     "nuid": "8bc49d19-246b-4923-a25c-3064e91c02d0",
     "showTitle": false,
     "tableResultSettingsMap": {},
     "title": ""
    }
   },
   "source": [
    "# Delta Sharing: Easily Share & distribute Data as a Product   <img src=\"https://i.ibb.co/vdNHFZN/deltasharingimage.png\" width = \"100\"></a>\n",
    "\n",
    "With Delta Sharing, organizations can better govern, package, and share their data to both <b>Internal</b> and <b>External Customers.</b>\n",
    "\n",
    "Delta Sharing is an Open protocol, meaning that any recipient can access the data regardless of their data platform, without any locking. \n",
    "\n",
    "This allow you to extend your reach and share data with any organization.\n",
    "\n",
    "<img width=\"1px\" src=\"https://ppxrzfxige.execute-api.us-west-2.amazonaws.com/v1/analytics?category=governance&org_id=4214571749987147&notebook=%2F01-Delta-Sharing-presentation&demo_name=delta-sharing-airlines&event=VIEW&path=%2F_dbdemos%2Fgovernance%2Fdelta-sharing-airlines%2F01-Delta-Sharing-presentation&version=1\">"
   ]
  },
  {
   "cell_type": "markdown",
   "metadata": {
    "application/vnd.databricks.v1+cell": {
     "cellMetadata": {},
     "inputWidgets": {},
     "nuid": "93d5a39c-a41b-4424-86a4-cc8ee43fe034",
     "showTitle": false,
     "tableResultSettingsMap": {},
     "title": ""
    }
   },
   "source": [
    "\n",
    "## 1/ Sharing data as a Provider\n",
    "\n",
    "In this [first notebook: 02-provider-delta-sharing-demo]($./02-provider-delta-sharing-demo), we'll discover how a Data Provider can securely share data with external organization."
   ]
  },
  {
   "cell_type": "markdown",
   "metadata": {
    "application/vnd.databricks.v1+cell": {
     "cellMetadata": {},
     "inputWidgets": {},
     "nuid": "1ba4bc72-8144-4242-af88-2df3bc2c9fb0",
     "showTitle": false,
     "tableResultSettingsMap": {},
     "title": ""
    }
   },
   "source": [
    "\n",
    "## 2/ Accessing Delta Share data as a Receiver\n",
    "\n",
    "Now that our data is shared, discover in the [second notebook 03-receiver-delta-sharing-demo]($./03-receiver-delta-sharing-demo) how a recipient can access the data from any system."
   ]
  },
  {
   "cell_type": "markdown",
   "metadata": {
    "application/vnd.databricks.v1+cell": {
     "cellMetadata": {},
     "inputWidgets": {},
     "nuid": "a228b1ec-bb4d-495f-b71c-0dc5877625f1",
     "showTitle": false,
     "tableResultSettingsMap": {},
     "title": ""
    }
   },
   "source": [
    "\n",
    "## 3/ Sharing data between Databricks customers with Unity Catalog\n",
    "\n",
    "If the organization receiving the data also has a Lakehouse with Databricks, sharing data between entities is even simpler.\n",
    "\n",
    "Open the [last notebook 04-share-data-within-databricks]($./04-share-data-within-databricks) to discover how this is done."
   ]
  }
 ],
 "metadata": {
  "application/vnd.databricks.v1+notebook": {
   "computePreferences": null,
   "dashboards": [],
   "environmentMetadata": {
    "environment_version": "2"
   },
   "language": "python",
   "notebookMetadata": {
    "pythonIndentUnit": 2
   },
   "notebookName": "01-Delta-Sharing-presentation",
   "widgets": {}
  },
  "language_info": {
   "name": "python"
  }
 },
 "nbformat": 4,
 "nbformat_minor": 0
}
