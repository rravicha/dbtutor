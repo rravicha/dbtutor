{
 "cells": [
  {
   "cell_type": "markdown",
   "metadata": {
    "application/vnd.databricks.v1+cell": {
     "cellMetadata": {},
     "inputWidgets": {},
     "nuid": "bc9bd72d-fd15-4f19-b5cf-c29d72f4f54f",
     "showTitle": false,
     "tableResultSettingsMap": {},
     "title": ""
    }
   },
   "source": [
    "\n",
    "# B2B Data Exchange with Delta Sharing\n",
    "\n",
    "On this notebook, we'll explore how to create a SHARE to share data with another organization.\n",
    "\n",
    "\n",
    "##  Discovering the data\n",
    "To Illustrate let's consider us a company like **TripActions**, a Corporate Travel & Spend Management Platform. \n",
    "\n",
    "We have already adopted a <b> Delta Lakehouse Architecture </b> for servicing all of our data internally. \n",
    "\n",
    "A few of our largest partnered airlines, <b>American Airlines</b> & <b>Southwest</b> just let us know that they are looking to partner to add reward and recommendation programs to airline customers using TripActions data. In order to pilot this new feature, they need daily data of scheduled and results of flights taking within TripActions.\n",
    "\n",
    "We'll leverage Delta Sharing to grant data access to Americal Airlines and Southwest without data duplication and replication. \n",
    "\n",
    "<img width=\"1px\" src=\"https://ppxrzfxige.execute-api.us-west-2.amazonaws.com/v1/analytics?category=governance&org_id=4214571749987147&notebook=%2F02-provider-delta-sharing-demo&demo_name=delta-sharing-airlines&event=VIEW&path=%2F_dbdemos%2Fgovernance%2Fdelta-sharing-airlines%2F02-provider-delta-sharing-demo&version=1\">"
   ]
  },
  {
   "cell_type": "markdown",
   "metadata": {
    "application/vnd.databricks.v1+cell": {
     "cellMetadata": {},
     "inputWidgets": {},
     "nuid": "656481c1-b3ab-4fe0-a7d4-dd55ee815a0f",
     "showTitle": false,
     "tableResultSettingsMap": {},
     "title": ""
    }
   },
   "source": [
    "## Cluster setup for UC\n",
    "\n",
    "<img src=\"https://github.com/QuentinAmbard/databricks-demo/raw/main/product_demos/uc/uc-cluster-setup-single-user.png\" style=\"float: right\"/>\n",
    "\n",
    "\n",
    "To be able to run this demo, make sure you create a cluster with the security mode enabled.\n",
    "\n",
    "Go in the compute page, create a new cluster.\n",
    "\n",
    "Select \"Single User\" and your UC-user (the user needs to exist at the workspace and the account level)\n",
    "\n",
    "**Make sure your cluster is using DBR 11.2+**"
   ]
  },
  {
   "cell_type": "code",
   "execution_count": 0,
   "metadata": {
    "application/vnd.databricks.v1+cell": {
     "cellMetadata": {},
     "inputWidgets": {},
     "nuid": "fef0b473-20b7-46dd-aac9-ea8b33ce0499",
     "showTitle": false,
     "tableResultSettingsMap": {},
     "title": ""
    },
    "jupyter": {
     "outputs_hidden": true
    }
   },
   "outputs": [],
   "source": [
    "%run ./_resources/00-setup $reset_all_data=false"
   ]
  },
  {
   "cell_type": "markdown",
   "metadata": {
    "application/vnd.databricks.v1+cell": {
     "cellMetadata": {},
     "inputWidgets": {},
     "nuid": "b32f0f15-5e8b-4b14-9d9a-5c56d7cb9649",
     "showTitle": false,
     "tableResultSettingsMap": {},
     "title": ""
    }
   },
   "source": [
    "## Delta Sharing\n",
    "\n",
    "Delta Sharing let you share data with external recipient without creating copy of the data. Once they're authorized, recipients can access and download your data directly.\n",
    "\n",
    "In Delta Sharing, it all starts with a Delta Lake table registered in the Delta Sharing Server by the data provider. <br/>\n",
    "This is done with the following steps:\n",
    "- Create a RECIPIENT and share activation link with your recipient \n",
    "- Create a SHARE\n",
    "- Add your Delta tables to the given SHARE\n",
    "- GRANT SELECT on your SHARE to your RECIPIENT\n",
    " \n",
    "Once this is done, your customer will be able to download the credential files and use it to access the data directly:\n",
    "\n",
    "- Client authenticates to Sharing Server\n",
    "- Client requests a table (including filters)\n",
    "- Server checks access permissions\n",
    "- Server generates and returns pre-signed short-lived URLs\n",
    "- Client uses URLs to directly read files from object storage\n",
    "<br>\n",
    "<img src=\"https://raw.githubusercontent.com/QuentinAmbard/databricks-demo/main/product_demos/delta-sharing-flow.png\" width=\"1000\" />\n",
    "\n",
    "## Unity Catalog\n",
    "Databricks Unity Catalog is the central place to administer your data governance and security.<br/>\n",
    "Unity Catalog’s security model is based on standard ANSI SQL, to grant permissions at the level of databases, tables, views, rows and columns<br/>\n",
    "Using Databricks, we'll leverage the Unity Catalog to easily share data with our customers."
   ]
  },
  {
   "cell_type": "code",
   "execution_count": 0,
   "metadata": {
    "application/vnd.databricks.v1+cell": {
     "cellMetadata": {},
     "inputWidgets": {},
     "nuid": "5a993c2e-5956-4ede-99e1-159646061191",
     "showTitle": true,
     "tableResultSettingsMap": {},
     "title": "Unity Catalog’s security model is based on standard ANSI SQL, to grant permissions at the level of databases, tables, views, rows and columns "
    }
   },
   "outputs": [],
   "source": [
    "-- the catalog has been created for your user and is defined as default. All shares will be created inside.\n",
    "-- make sure you run the 00-setup cell above to init the catalog to your user. \n",
    "SELECT CURRENT_CATALOG(), CURRENT_SCHEMA();"
   ]
  },
  {
   "cell_type": "markdown",
   "metadata": {
    "application/vnd.databricks.v1+cell": {
     "cellMetadata": {},
     "inputWidgets": {},
     "nuid": "4bbf1dd3-e964-4835-93a3-a9f26125535b",
     "showTitle": false,
     "tableResultSettingsMap": {},
     "title": ""
    }
   },
   "source": [
    "### Step 1: Create a Share\n",
    "\n",
    "<img src=\"https://raw.githubusercontent.com/QuentinAmbard/databricks-demo/main/product_demos/delta-sharing-flow-1.png\" width=\"700\" style=\"float:right\" />\n",
    "\n",
    "We'll use the UNITY catalog to create 2 shares:\n",
    "- One for American Airlines data\n",
    "- One for Southwest Airlines data"
   ]
  },
  {
   "cell_type": "code",
   "execution_count": 0,
   "metadata": {
    "application/vnd.databricks.v1+cell": {
     "cellMetadata": {},
     "inputWidgets": {},
     "nuid": "a4f0936a-d017-46d3-89f3-264c8635baed",
     "showTitle": false,
     "tableResultSettingsMap": {},
     "title": ""
    }
   },
   "outputs": [],
   "source": [
    "-- Note: you need to be account ADMIN to create the shares or GRANT CREATE PERMISSION to another principal:\n",
    "-- GRANT CREATE SHARE ON metastore TO `<my_principal@xx.com>`;\n",
    "-- GRANT CREATE RECIPIENT ON metastore TO `<my_principal@xx.com>`;\n",
    "\n",
    "CREATE SHARE IF NOT EXISTS dbdemos_americanairlines \n",
    "COMMENT 'Daily Flight Data provided by Tripactions to American Airlines for Extended Rewards';\n",
    "\n",
    "CREATE SHARE IF NOT EXISTS dbdemos_southwestairlines \n",
    "COMMENT 'Daily Flight Data provided by Tripactions to Southwest Airlines for Extended Rewards';\n",
    "\n",
    "-- You can grant ownership to other users. Typical deployments wouls have admin groups or similar.\n",
    "-- ALTER SHARE dbdemos_americanairlines OWNER TO `<my_principal@xx.com>`;\n",
    "-- ALTER SHARE dbdemos_southwestairlines OWNER TO `<my_principal@xx.com>`;"
   ]
  },
  {
   "cell_type": "code",
   "execution_count": 0,
   "metadata": {
    "application/vnd.databricks.v1+cell": {
     "cellMetadata": {},
     "inputWidgets": {},
     "nuid": "cc20284d-273d-4fb0-953d-39a559523e58",
     "showTitle": true,
     "tableResultSettingsMap": {},
     "title": "View a Share’s Metadata"
    }
   },
   "outputs": [],
   "source": [
    "DESCRIBE SHARE dbdemos_southwestairlines;"
   ]
  },
  {
   "cell_type": "markdown",
   "metadata": {
    "application/vnd.databricks.v1+cell": {
     "cellMetadata": {},
     "inputWidgets": {},
     "nuid": "84cba98b-333c-42c0-b109-fe1bda16853d",
     "showTitle": false,
     "tableResultSettingsMap": {},
     "title": ""
    }
   },
   "source": [
    "\n",
    "<img src=\"https://github.com/QuentinAmbard/databricks-demo/raw/main/product_demos/delta-sharing-create-recipient.png\" width=\"500\" style=\"float:right\" />\n",
    "\n",
    "**Did you know?** Delta Sharing isn't about SQL only. \n",
    "\n",
    "You can visualize all your Delta Sharing Shares using Databricks Data Explorer UI!\n",
    "\n",
    "You can also create your share and recipient with just a few click.<br/>\n",
    "Select \"Delta Sharing\" in the Data Explorer menu, then \"Create Share\", \"Create recipient\" ..."
   ]
  },
  {
   "cell_type": "markdown",
   "metadata": {
    "application/vnd.databricks.v1+cell": {
     "cellMetadata": {},
     "inputWidgets": {},
     "nuid": "f6abdba1-49ab-49a4-8838-ff5fcf1d2ffc",
     "showTitle": false,
     "tableResultSettingsMap": {},
     "title": ""
    }
   },
   "source": [
    "### Step 2: Add the tables to the SHARES\n",
    "\n",
    "<img src=\"https://raw.githubusercontent.com/QuentinAmbard/databricks-demo/main/product_demos/delta-sharing-flow-2.png\" width=\"700\" style=\"float:right\" />\n",
    "\n",
    "We'll add our main table `airlinedata.lookupcodes` to the 2 SHARES:"
   ]
  },
  {
   "cell_type": "code",
   "execution_count": 0,
   "metadata": {
    "application/vnd.databricks.v1+cell": {
     "cellMetadata": {},
     "inputWidgets": {},
     "nuid": "32e7cf6b-21b5-4972-b09b-7bf24ea64f31",
     "showTitle": true,
     "tableResultSettingsMap": {},
     "title": "Add our airlines tables to the SHARE"
    }
   },
   "outputs": [],
   "source": [
    "ALTER SHARE dbdemos_americanairlines  ADD TABLE lookupcodes ;\n",
    "ALTER SHARE dbdemos_southwestairlines ADD TABLE lookupcodes;"
   ]
  },
  {
   "cell_type": "code",
   "execution_count": 0,
   "metadata": {
    "application/vnd.databricks.v1+cell": {
     "cellMetadata": {},
     "inputWidgets": {},
     "nuid": "f0400258-348c-4e95-a160-8c4909ac2fa6",
     "showTitle": true,
     "tableResultSettingsMap": {},
     "title": "Get In-House Unique Carrier Codes to Filter Specifically to Only the Relevant Airlines"
    }
   },
   "outputs": [],
   "source": [
    "SELECT * FROM lookupcodes WHERE Description = \"Southwest Airlines Co.\" OR Description = \"American Airlines Inc.\""
   ]
  },
  {
   "cell_type": "markdown",
   "metadata": {
    "application/vnd.databricks.v1+cell": {
     "cellMetadata": {},
     "inputWidgets": {},
     "nuid": "67b05446-5e8f-483e-a19b-fbfb0b4b75d8",
     "showTitle": false,
     "tableResultSettingsMap": {},
     "title": ""
    }
   },
   "source": [
    "### Sharing a subset of a table to a SHARE recipient based on dynamic properties\n",
    "We shouldn't share all the historical flights to all Airline. It might be private information and we don't want all our consumers accessing the entire `flights` table. \n",
    "<br>\n",
    "#### Customizing Consumer Experience\n",
    "To restrict the data access, we can properties on the recipient Shares, and then create a dynamic view that will query these properties.\n",
    "\n",
    "Note: before supporting VIEW, you could also restrict the access through Delta partition, but this is much less flexible.\n",
    "```\n",
    " ALTER SHARE americanairlines \n",
    "   ADD TABLE dbdemos_sharing_airlinedata.flights \n",
    "   PARTITION (UniqueCarrier = \"AA\") as dbdemos_sharing_airlinedata.`aa_flights`;\n",
    "```"
   ]
  },
  {
   "cell_type": "code",
   "execution_count": 0,
   "metadata": {
    "application/vnd.databricks.v1+cell": {
     "cellMetadata": {},
     "inputWidgets": {},
     "nuid": "dd736556-601e-4db2-a1ce-5b7536864981",
     "showTitle": false,
     "tableResultSettingsMap": {},
     "title": ""
    }
   },
   "outputs": [],
   "source": [
    "-- current_recipient('carrier_id') will be resolved to 'WN' or 'AA' based on the current recipient properties (see below to set the property value)\n",
    "CREATE VIEW pds.dbdemos_sharing_airlinedata.flights_protected AS\n",
    "    SELECT * FROM pds.dbdemos_sharing_airlinedata.flights\n",
    "    WHERE UniqueCarrier = current_recipient('carrier_id');"
   ]
  },
  {
   "cell_type": "code",
   "execution_count": 0,
   "metadata": {
    "application/vnd.databricks.v1+cell": {
     "cellMetadata": {},
     "inputWidgets": {},
     "nuid": "eaeace71-1cef-421a-9392-b90573aaa852",
     "showTitle": true,
     "tableResultSettingsMap": {},
     "title": "Add Filter to Only Share a Portion of the Flights Table"
    }
   },
   "outputs": [],
   "source": [
    "ALTER SHARE dbdemos_americanairlines \n",
    "  ADD VIEW pds.dbdemos_sharing_airlinedata.flights_protected;\n",
    "\n",
    "ALTER SHARE dbdemos_southwestairlines \n",
    "  ADD VIEW pds.dbdemos_sharing_airlinedata.flights_protected;"
   ]
  },
  {
   "cell_type": "code",
   "execution_count": 0,
   "metadata": {
    "application/vnd.databricks.v1+cell": {
     "cellMetadata": {},
     "inputWidgets": {},
     "nuid": "a8657c74-abfc-45ba-ab86-8d34f4a4b048",
     "showTitle": true,
     "tableResultSettingsMap": {},
     "title": "Display all Tables and Views Inside a Share"
    }
   },
   "outputs": [],
   "source": [
    "SHOW ALL IN SHARE dbdemos_southwestairlines;"
   ]
  },
  {
   "cell_type": "markdown",
   "metadata": {
    "application/vnd.databricks.v1+cell": {
     "cellMetadata": {},
     "inputWidgets": {},
     "nuid": "2d89ca01-c649-4a34-9862-256ebdfebbde",
     "showTitle": false,
     "tableResultSettingsMap": {},
     "title": ""
    }
   },
   "source": [
    "### Step 3: Create a Recipient(s)\n",
    "\n",
    "<img src=\"https://raw.githubusercontent.com/QuentinAmbard/databricks-demo/main/product_demos/delta-sharing-flow-3.png\" width=\"700\" style=\"float:right\" />\n",
    "\n",
    "Our next step is now to create the `RECIPIENT`.\n",
    "\n",
    "We can have multiple RECIPIENT, and assign them to multiple SHARE."
   ]
  },
  {
   "cell_type": "code",
   "execution_count": 0,
   "metadata": {
    "application/vnd.databricks.v1+cell": {
     "cellMetadata": {},
     "inputWidgets": {},
     "nuid": "daeca8ad-c090-42b6-94f9-44dd8dc9294b",
     "showTitle": false,
     "tableResultSettingsMap": {},
     "title": ""
    }
   },
   "outputs": [],
   "source": [
    "CREATE RECIPIENT IF NOT EXISTS dbdemos_southwestairlines_recipient;\n",
    "CREATE RECIPIENT IF NOT EXISTS dbdemos_americanairlines_recipient;\n",
    "\n",
    "ALTER RECIPIENT dbdemos_southwestairlines_recipient SET PROPERTIES ('carrier_id' = 'WN');\n",
    "ALTER RECIPIENT dbdemos_americanairlines_recipient SET PROPERTIES ('carrier_id' = 'AA');\n",
    "\n",
    "-- You can set the ownership to a group of admin or similar.\n",
    "-- ALTER RECIPIENT dbdemos_southwestairlines_recipient OWNER TO `<my_principal>`;\n",
    "-- ALTER RECIPIENT dbdemos_americanairlines_recipient OWNER TO `<my_principal>`;"
   ]
  },
  {
   "cell_type": "markdown",
   "metadata": {
    "application/vnd.databricks.v1+cell": {
     "cellMetadata": {},
     "inputWidgets": {},
     "nuid": "8e04c907-95cb-4680-a440-c987c1bf156f",
     "showTitle": false,
     "tableResultSettingsMap": {},
     "title": ""
    }
   },
   "source": [
    "### Step 4: Share the activation link with external consumers\n",
    "\n",
    "\n",
    "<img src=\"https://raw.githubusercontent.com/QuentinAmbard/databricks-demo/main/product_demos/delta-sharing-flow-5.png\" width=\"700\" style=\"float:right\" />\n",
    "\n",
    "Each Recipient has an activation link that the consumer can use to download it's credential.\n",
    "\n",
    "<img src=\"https://raw.githubusercontent.com/QuentinAmbard/databricks-demo/main/product_demos/delta-sharing-credential.png\" width=400>\n",
    "\n",
    "The credentials are typically saved as a file containing. The Delta Server identify and authorize consumer based on these identifiants.<br/>\n",
    "Note that the activation link is single use. You can only access it once (it'll return null if already used)"
   ]
  },
  {
   "cell_type": "markdown",
   "metadata": {
    "application/vnd.databricks.v1+cell": {
     "cellMetadata": {},
     "inputWidgets": {},
     "nuid": "7ad488ab-872d-4ce5-853c-d1b1b2b329c8",
     "showTitle": false,
     "tableResultSettingsMap": {},
     "title": ""
    }
   },
   "source": [
    "### Sharing data with customers using Databricks\n",
    "\n",
    "Sharing data within Databricks is even simpler. All you need to do is get the Metastore ID from your recipient and create the share using it. <br/>\n",
    "You won't need any credential file doing so, Databricks Unity Catalog does all the security for you.\n",
    "\n",
    "`CREATE RECIPIENT IF NOT EXISTS southwestairlines_recipient USING ID 'aws:us-west-2:<the_reciever_recipient>' COMMENT 'Recipient for my external customer using Databricks';`\n",
    "\n",
    "For more details, open the [Sharing data within Databricks]($./04-share-data-within-databricks) demo."
   ]
  },
  {
   "cell_type": "code",
   "execution_count": 0,
   "metadata": {
    "application/vnd.databricks.v1+cell": {
     "cellMetadata": {},
     "inputWidgets": {},
     "nuid": "01df3b68-b518-4ff6-b525-9bd2dbae04e8",
     "showTitle": false,
     "tableResultSettingsMap": {},
     "title": ""
    }
   },
   "outputs": [],
   "source": [
    "DESCRIBE RECIPIENT dbdemos_southwestairlines_recipient"
   ]
  },
  {
   "cell_type": "code",
   "execution_count": 0,
   "metadata": {
    "application/vnd.databricks.v1+cell": {
     "cellMetadata": {},
     "inputWidgets": {},
     "nuid": "55df7d88-1fa9-4d71-b7ce-a593ef49eb57",
     "showTitle": true,
     "tableResultSettingsMap": {},
     "title": "Let's download our RECIPIENT authentication file under /FileStore/southwestairlines.share"
    }
   },
   "outputs": [],
   "source": [
    "%python\n",
    "#This function just download the credential file for the RECIPIENT and save it under the given location as we'll need it next to access the data.\n",
    "download_recipient_credential(\"dbdemos_southwestairlines_recipient\", \"/Volumes/pds/dbdemos_sharing_airlinedata/raw_data/southwestairlines.share\")\n",
    "download_recipient_credential(\"dbdemos_americanairlines_recipient\", \"/Volumes/pds/dbdemos_sharing_airlinedata/raw_data/americanairlines.share\")"
   ]
  },
  {
   "cell_type": "markdown",
   "metadata": {
    "application/vnd.databricks.v1+cell": {
     "cellMetadata": {},
     "inputWidgets": {},
     "nuid": "70cde4c7-fc36-461f-a090-03da2523ce8b",
     "showTitle": false,
     "tableResultSettingsMap": {},
     "title": ""
    }
   },
   "source": [
    "### Step 5: Define which Data to Share, and Access Level \n",
    "\n",
    "<img src=\"https://raw.githubusercontent.com/QuentinAmbard/databricks-demo/main/product_demos/delta-sharing-flow-4.png\" width=\"600\" style=\"float:right\" />\n",
    "\n",
    "We now have RECIPIENT and SHARE.\n",
    "\n",
    "The next logical step is to make sure our RECIPIENT can have SELECT access to our SHARE.\n",
    "\n",
    "As usual, this is done using standard SQL:"
   ]
  },
  {
   "cell_type": "code",
   "execution_count": 0,
   "metadata": {
    "application/vnd.databricks.v1+cell": {
     "cellMetadata": {},
     "inputWidgets": {},
     "nuid": "f8068b4c-c029-4388-ad1f-621fdcfd7b4f",
     "showTitle": false,
     "tableResultSettingsMap": {},
     "title": ""
    }
   },
   "outputs": [],
   "source": [
    "GRANT SELECT ON SHARE dbdemos_southwestairlines TO RECIPIENT dbdemos_southwestairlines_recipient;\n",
    "GRANT SELECT ON SHARE dbdemos_americanairlines TO RECIPIENT dbdemos_americanairlines_recipient;"
   ]
  },
  {
   "cell_type": "code",
   "execution_count": 0,
   "metadata": {
    "application/vnd.databricks.v1+cell": {
     "cellMetadata": {},
     "inputWidgets": {},
     "nuid": "a58459dc-9a61-4c08-8879-1ca6cf3ced09",
     "showTitle": true,
     "tableResultSettingsMap": {},
     "title": "Step 9: Audit Who has Access to a Share"
    }
   },
   "outputs": [],
   "source": [
    "SHOW GRANT ON SHARE dbdemos_southwestairlines;"
   ]
  },
  {
   "cell_type": "code",
   "execution_count": 0,
   "metadata": {
    "application/vnd.databricks.v1+cell": {
     "cellMetadata": {},
     "inputWidgets": {},
     "nuid": "9b0f222d-46c2-4471-8506-a1b6940cd9b0",
     "showTitle": true,
     "tableResultSettingsMap": {},
     "title": "Audit Recipient Level of Access"
    }
   },
   "outputs": [],
   "source": [
    "SHOW GRANT TO RECIPIENT dbdemos_southwestairlines_recipient;"
   ]
  },
  {
   "cell_type": "code",
   "execution_count": 0,
   "metadata": {
    "application/vnd.databricks.v1+cell": {
     "cellMetadata": {},
     "inputWidgets": {},
     "nuid": "03197697-231c-4f4a-9d5a-c656d8b3b03b",
     "showTitle": true,
     "tableResultSettingsMap": {},
     "title": "Revoke Access if Needed"
    }
   },
   "outputs": [],
   "source": [
    "REVOKE SELECT ON SHARE dbdemos_southwestairlines FROM RECIPIENT dbdemos_americanairlines_recipient;"
   ]
  },
  {
   "cell_type": "code",
   "execution_count": 0,
   "metadata": {
    "application/vnd.databricks.v1+cell": {
     "cellMetadata": {},
     "inputWidgets": {},
     "nuid": "7ca60ce0-e699-4034-80bb-abf4490d2395",
     "showTitle": true,
     "tableResultSettingsMap": {},
     "title": "View Shares tables"
    }
   },
   "outputs": [],
   "source": [
    "SHOW ALL IN SHARE dbdemos_southwestairlines;"
   ]
  },
  {
   "cell_type": "code",
   "execution_count": 0,
   "metadata": {
    "application/vnd.databricks.v1+cell": {
     "cellMetadata": {},
     "inputWidgets": {},
     "nuid": "e70d45b8-49b3-4a40-9246-70b8301c1a74",
     "showTitle": true,
     "tableResultSettingsMap": {},
     "title": "Make sure you delete your demo catalog at the end of the demo"
    }
   },
   "outputs": [],
   "source": [
    "%python\n",
    "#CLEANUP THE DEMO FOR FRESH START, delete all share and recipient created\n",
    "#cleanup_demo()"
   ]
  },
  {
   "cell_type": "markdown",
   "metadata": {
    "application/vnd.databricks.v1+cell": {
     "cellMetadata": {},
     "inputWidgets": {},
     "nuid": "8cb51b9d-7f15-4625-8c23-4c251205a414",
     "showTitle": false,
     "tableResultSettingsMap": {},
     "title": ""
    }
   },
   "source": [
    "\n",
    "## Let's now see how a Receiver can access the data\n",
    "\n",
    "We saw how to create the \n",
    "\n",
    "\n",
    "\n",
    "Next: Discover how an external [receiver can your access]($./03-receiver-delta-sharing-demo) or easily [share data within Databricks with Unity Catalog]($./04-share-data-within-databricks)\n",
    "\n",
    "[Back to Overview]($./01-Delta-Sharing-presentation)"
   ]
  }
 ],
 "metadata": {
  "application/vnd.databricks.v1+notebook": {
   "computePreferences": null,
   "dashboards": [],
   "environmentMetadata": {
    "environment_version": "2"
   },
   "language": "sql",
   "notebookMetadata": {
    "pythonIndentUnit": 2
   },
   "notebookName": "02-provider-delta-sharing-demo",
   "widgets": {}
  },
  "language_info": {
   "name": "sql"
  }
 },
 "nbformat": 4,
 "nbformat_minor": 0
}
