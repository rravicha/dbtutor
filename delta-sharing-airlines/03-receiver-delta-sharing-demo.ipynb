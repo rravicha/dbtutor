{
 "cells": [
  {
   "cell_type": "markdown",
   "metadata": {
    "application/vnd.databricks.v1+cell": {
     "cellMetadata": {},
     "inputWidgets": {},
     "nuid": "fbc41c54-dc5c-477e-9ce5-be6d3da5417d",
     "showTitle": false,
     "tableResultSettingsMap": {},
     "title": ""
    }
   },
   "source": [
    "# Accessing the data as a Consumer\n",
    "\n",
    "In the previous notebook, we shared our data and granted read access to our RECIPIENT.\n",
    "\n",
    "Let's now see how external consumers can directly access the data.\n",
    "\n",
    "<img src=\"https://github.com/QuentinAmbard/databricks-demo/raw/main/delta-sharing/resources/images/delta-sharing-flow.png\" width=\"900px\"/>\n",
    "\n",
    "<img width=\"1px\" src=\"https://ppxrzfxige.execute-api.us-west-2.amazonaws.com/v1/analytics?category=governance&org_id=4214571749987147&notebook=%2F03-receiver-delta-sharing-demo&demo_name=delta-sharing-airlines&event=VIEW&path=%2F_dbdemos%2Fgovernance%2Fdelta-sharing-airlines%2F03-receiver-delta-sharing-demo&version=1\">"
   ]
  },
  {
   "cell_type": "markdown",
   "metadata": {
    "application/vnd.databricks.v1+cell": {
     "cellMetadata": {},
     "inputWidgets": {},
     "nuid": "48e05668-89fc-4f8c-ac5a-43e3fe635351",
     "showTitle": false,
     "tableResultSettingsMap": {},
     "title": ""
    }
   },
   "source": [
    "\n",
    "## Delta Sharing Credentials\n",
    "\n",
    "When a new Recipient entity is created for a Delta Share an activation link for that recipient will be generated. That URL will lead to a website for data recipients to download a credential file that contains a long-term access token for that recipient. Following the link will be take the recipient to an activation page that looks similar to this:\n",
    "\n",
    "<img src=\"https://raw.githubusercontent.com/databricks/tech-talks/master/images/kanonymity_share_activation.png\" width=600>\n",
    "\n",
    "\n",
    "From this site the .share credential file can be downloaded by the recipient. This file contains the information and authorization token needed to access the Share. The contents of the file will look similar to the following example.\n",
    "\n",
    "\n",
    "<img src=\"https://raw.githubusercontent.com/databricks/tech-talks/master/images/delta_sharing_cred_file_3.png\" width=\"800\">\n",
    "\n",
    "Due to the sensitive nature of the token, be sure to save it in a secure location and be careful when visualising or displaying the contents. "
   ]
  },
  {
   "cell_type": "markdown",
   "metadata": {
    "application/vnd.databricks.v1+cell": {
     "cellMetadata": {},
     "inputWidgets": {},
     "nuid": "52fa3f33-0983-442f-b359-00d16b732073",
     "showTitle": false,
     "tableResultSettingsMap": {},
     "title": "Let's Start With the Vast and Trusted Python Developers as Consumers"
    }
   },
   "source": [
    "# Accessing the data using plain Python\n",
    "\n",
    "`delta-sharing` is available as a python package that can be installed via pip. <br>\n",
    "\n",
    "This simplifies the consumer side integration; anyone who can run python can consume shared data via SharingClient object. <br>"
   ]
  },
  {
   "cell_type": "code",
   "execution_count": 0,
   "metadata": {
    "application/vnd.databricks.v1+cell": {
     "cellMetadata": {},
     "inputWidgets": {},
     "nuid": "d0b29ea7-d9ab-4452-b8cc-16ab85ce36d8",
     "showTitle": true,
     "tableResultSettingsMap": {},
     "title": "Step 0: Installing Delta Sharing library"
    }
   },
   "outputs": [],
   "source": [
    "%pip install delta-sharing"
   ]
  },
  {
   "cell_type": "code",
   "execution_count": 0,
   "metadata": {
    "application/vnd.databricks.v1+cell": {
     "cellMetadata": {},
     "inputWidgets": {},
     "nuid": "aeaed4e0-9945-4879-baa0-cf2dfad597f9",
     "showTitle": false,
     "tableResultSettingsMap": {},
     "title": ""
    }
   },
   "outputs": [],
   "source": [
    "import delta_sharing\n",
    "# Southwest Airlines\n",
    "# In the previous notebook, we saved the credential file under dbfs:/FileStore/southwestairlines.share\n",
    "# Let's re-use it directly to access our data. If you get access error, please re-run the previous notebook\n",
    "americanairlines_profile = '/Volumes/pds/dbdemos_sharing_airlinedata/raw_data/americanairlines.share'\n",
    "\n",
    "# Create a SharingClient\n",
    "client = delta_sharing.SharingClient(americanairlines_profile)\n",
    "\n",
    "# List all shared tables.\n",
    "client.list_all_tables()"
   ]
  },
  {
   "cell_type": "markdown",
   "metadata": {
    "application/vnd.databricks.v1+cell": {
     "cellMetadata": {},
     "inputWidgets": {},
     "nuid": "3a76c4a8-f67b-4709-9015-b8d303d5a528",
     "showTitle": false,
     "tableResultSettingsMap": {},
     "title": ""
    }
   },
   "source": [
    "\n",
    "It is possible to iterate through the list to view all of the tables along with their corresponding schemas and shares. <br>\n",
    "The share file can be stored on a remote storage."
   ]
  },
  {
   "cell_type": "code",
   "execution_count": 0,
   "metadata": {
    "application/vnd.databricks.v1+cell": {
     "cellMetadata": {},
     "inputWidgets": {},
     "nuid": "e0af14cc-ec3e-4476-9cd1-2ae5778c8440",
     "showTitle": false,
     "tableResultSettingsMap": {},
     "title": ""
    }
   },
   "outputs": [],
   "source": [
    "shares = client.list_shares()\n",
    "\n",
    "for share in shares:\n",
    "    schemas = client.list_schemas(share)\n",
    "    for schema in schemas:\n",
    "        tables = client.list_tables(schema)\n",
    "        for table in tables:\n",
    "            print(f'Table Name = {table.name}, share = {table.share}, schema = {table.schema}')"
   ]
  },
  {
   "cell_type": "markdown",
   "metadata": {
    "application/vnd.databricks.v1+cell": {
     "cellMetadata": {},
     "inputWidgets": {},
     "nuid": "81890286-b142-46ea-b3aa-ffb2847843f7",
     "showTitle": false,
     "tableResultSettingsMap": {},
     "title": ""
    }
   },
   "source": [
    "# Query the Shared Table Using the Ever so Popular Pandas"
   ]
  },
  {
   "cell_type": "markdown",
   "metadata": {
    "application/vnd.databricks.v1+cell": {
     "cellMetadata": {},
     "inputWidgets": {},
     "nuid": "490a9cc6-b486-464d-b95d-b59cbf7a5de9",
     "showTitle": false,
     "tableResultSettingsMap": {},
     "title": ""
    }
   },
   "source": [
    "Delta sharing allows us to access data via Pandas connector. <br>\n",
    "To access the shared data we require a properly constructed url. <br>\n",
    "The expected format of the url is: < profile_file \\>#< share_id \\>.< database \\>.< table \\><br>"
   ]
  },
  {
   "cell_type": "code",
   "execution_count": 0,
   "metadata": {
    "application/vnd.databricks.v1+cell": {
     "cellMetadata": {},
     "inputWidgets": {},
     "nuid": "f92d6dc9-7748-47e1-87e7-e9b2259b303d",
     "showTitle": false,
     "tableResultSettingsMap": {},
     "title": ""
    }
   },
   "outputs": [],
   "source": [
    "table_url = f\"{americanairlines_profile}#dbdemos_americanairlines.dbdemos_sharing_airlinedata.lookupcodes\"\n",
    "\n",
    "# Use delta sharing client to load data\n",
    "flights_df = delta_sharing.load_as_pandas(table_url)\n",
    "\n",
    "flights_df.head(10)"
   ]
  },
  {
   "cell_type": "markdown",
   "metadata": {
    "application/vnd.databricks.v1+cell": {
     "cellMetadata": {},
     "inputWidgets": {},
     "nuid": "5cd295be-3f40-4b29-bd45-9b4ad6803880",
     "showTitle": false,
     "tableResultSettingsMap": {},
     "title": ""
    }
   },
   "source": [
    "# Query Big Dataset using Spark"
   ]
  },
  {
   "cell_type": "markdown",
   "metadata": {
    "application/vnd.databricks.v1+cell": {
     "cellMetadata": {},
     "inputWidgets": {},
     "nuid": "d4a37643-2651-4e7e-b92e-b165a7fde188",
     "showTitle": false,
     "tableResultSettingsMap": {},
     "title": ""
    }
   },
   "source": [
    "Similarly to Pandas connect delta sharing comes with a spark connector. <br>\n",
    "The way to specify the location of profile file slightly differs between connectors. <br>\n",
    "For spark connector the profile file path needs to be HDFS compliant. <br>"
   ]
  },
  {
   "cell_type": "markdown",
   "metadata": {
    "application/vnd.databricks.v1+cell": {
     "cellMetadata": {},
     "inputWidgets": {},
     "nuid": "12e3f0f9-49bb-40e6-91f5-03d9ee9d774a",
     "showTitle": false,
     "tableResultSettingsMap": {},
     "title": ""
    }
   },
   "source": [
    "To load the data into spark, we can use delta sharing client."
   ]
  },
  {
   "cell_type": "code",
   "execution_count": 0,
   "metadata": {
    "application/vnd.databricks.v1+cell": {
     "cellMetadata": {},
     "inputWidgets": {},
     "nuid": "af66b00e-3746-4ceb-bae5-87ef3e5787ce",
     "showTitle": false,
     "tableResultSettingsMap": {},
     "title": ""
    }
   },
   "outputs": [],
   "source": [
    "spark_flights_df = delta_sharing.load_as_spark(f\"{americanairlines_profile}#dbdemos_americanairlines.dbdemos_sharing_airlinedata.flights_protected\")\n",
    "\n",
    "from pyspark.sql.functions import sum, col, count\n",
    "\n",
    "display(spark_flights_df.\n",
    "        where('cancelled = 1').\n",
    "        groupBy('UniqueCarrier', 'month', 'year').\n",
    "        agg(count('FlightNum').alias('Total Cancellations')).\n",
    "        orderBy(col('year').asc(), col('month').asc(), col('Total Cancellations').desc()))"
   ]
  },
  {
   "cell_type": "markdown",
   "metadata": {
    "application/vnd.databricks.v1+cell": {
     "cellMetadata": {},
     "inputWidgets": {},
     "nuid": "1eee2be4-94fa-4174-a981-0eb0cb49c056",
     "showTitle": false,
     "tableResultSettingsMap": {},
     "title": ""
    }
   },
   "source": [
    "Alternatively, we can use 'deltaSharing' fromat in spark reader. "
   ]
  },
  {
   "cell_type": "code",
   "execution_count": 0,
   "metadata": {
    "application/vnd.databricks.v1+cell": {
     "cellMetadata": {},
     "inputWidgets": {},
     "nuid": "98c8b0c5-d84e-4a37-b22e-e5552ba28d79",
     "showTitle": false,
     "tableResultSettingsMap": {},
     "title": ""
    }
   },
   "outputs": [],
   "source": [
    "spark_flights_df = spark.read.format('deltaSharing').load(f\"{americanairlines_profile}#dbdemos_americanairlines.dbdemos_sharing_airlinedata.flights_protected\")\n",
    "\n",
    "display(spark_flights_df.\n",
    "        where('cancelled = 1').\n",
    "        groupBy('UniqueCarrier', 'month').\n",
    "        agg(count('FlightNum').alias('Total Cancellations')).\n",
    "        orderBy(col('month').asc(), col('Total Cancellations').desc()))"
   ]
  },
  {
   "cell_type": "markdown",
   "metadata": {
    "application/vnd.databricks.v1+cell": {
     "cellMetadata": {},
     "inputWidgets": {},
     "nuid": "98dcd6db-db4f-416b-8d30-5aed39e546d0",
     "showTitle": false,
     "tableResultSettingsMap": {},
     "title": ""
    }
   },
   "source": [
    "# Query your Delta Sharing table using plain SQL with Databricks!\n",
    "\n",
    "As a Databricks user, you can experience Delta Sharing using plain SQL directly in your notebook, making data access even easier.\n",
    "\n",
    "It's then super simple to do any kind of queries using the remote table, including joining a Delta Sharing table with a local one or any other operation."
   ]
  },
  {
   "cell_type": "markdown",
   "metadata": {
    "application/vnd.databricks.v1+cell": {
     "cellMetadata": {},
     "inputWidgets": {},
     "nuid": "03a66e79-d1d5-4f0a-96f7-b216017f4786",
     "showTitle": false,
     "tableResultSettingsMap": {},
     "title": ""
    }
   },
   "source": [
    "We can create a SQL table and use `'deltaSharing'` as a datasource. <br>\n",
    "As usual, we need to provide the url as: `< profile_file >#< share_id >.< database >.< table >` <br>\n",
    "Note that in this case we cannot use secrets since other parties would be able to see the token in clear text via table properties."
   ]
  },
  {
   "cell_type": "code",
   "execution_count": 0,
   "metadata": {
    "application/vnd.databricks.v1+cell": {
     "cellMetadata": {},
     "inputWidgets": {},
     "nuid": "189a5ef2-94b8-4173-93ef-5e8761d5b5b4",
     "showTitle": false,
     "tableResultSettingsMap": {},
     "title": ""
    }
   },
   "outputs": [],
   "source": [
    "%sql\n",
    "DROP TABLE IF EXISTS dbdemos_delta_sharing_demo_flights;\n",
    "-- CREATE TABLE IF NOT EXISTS dbdemos_delta_sharing_demo_flights\n",
    "--     USING deltaSharing\n",
    "--     LOCATION \"/<ADD YOUR PATH>>americanairlines.share#dbdemos_americanairlines.dbdemos_sharing_airlinedata.flights_protected\";"
   ]
  },
  {
   "cell_type": "code",
   "execution_count": 0,
   "metadata": {
    "application/vnd.databricks.v1+cell": {
     "cellMetadata": {},
     "inputWidgets": {},
     "nuid": "9936c2d2-be42-4352-931e-93ed00835f7e",
     "showTitle": false,
     "tableResultSettingsMap": {},
     "title": ""
    }
   },
   "outputs": [],
   "source": [
    "%sql \n",
    "-- select * from dbdemos_delta_sharing_demo_flights"
   ]
  },
  {
   "cell_type": "code",
   "execution_count": 0,
   "metadata": {
    "application/vnd.databricks.v1+cell": {
     "cellMetadata": {},
     "inputWidgets": {},
     "nuid": "b62edd50-8282-4620-b261-2218992e1dd1",
     "showTitle": true,
     "tableResultSettingsMap": {},
     "title": "Make sure you delete your demo catalog at the end of the demo"
    }
   },
   "outputs": [],
   "source": [
    "#CLEANUP THE DEMO FOR FRESH START, delete all share and recipient created\n",
    "#cleanup_demo()"
   ]
  },
  {
   "cell_type": "markdown",
   "metadata": {
    "application/vnd.databricks.v1+cell": {
     "cellMetadata": {},
     "inputWidgets": {},
     "nuid": "9e443292-e1f9-4c41-aeb6-7184abf44fba",
     "showTitle": false,
     "tableResultSettingsMap": {},
     "title": ""
    }
   },
   "source": [
    "# Integration with external tools such as Power BI\n",
    "\n",
    "Delta Sharing is natively integrated with many tools outside of Databricks. \n",
    "\n",
    "As example, users can natively access a Delta Sharing table within powerBI directly:"
   ]
  },
  {
   "cell_type": "markdown",
   "metadata": {
    "application/vnd.databricks.v1+cell": {
     "cellMetadata": {},
     "inputWidgets": {},
     "nuid": "e65b1617-aab1-4105-9331-0a5b48eb85e9",
     "showTitle": false,
     "tableResultSettingsMap": {},
     "title": ""
    }
   },
   "source": [
    "\n",
    "<iframe width=\"560\" height=\"315\" src=\"https://www.youtube.com/embed/vZ1jcDh_tsw\" title=\"YouTube video player\" frameborder=\"0\" allow=\"accelerometer; autoplay; clipboard-write; encrypted-media; gyroscope; picture-in-picture; web-share\" allowfullscreen></iframe>"
   ]
  },
  {
   "cell_type": "markdown",
   "metadata": {
    "application/vnd.databricks.v1+cell": {
     "cellMetadata": {},
     "inputWidgets": {},
     "nuid": "e08aa6d2-a00a-450f-aac5-bd9133de8559",
     "showTitle": false,
     "tableResultSettingsMap": {},
     "title": ""
    }
   },
   "source": [
    "\n",
    "# Conclusion\n",
    "To recap, Delta Sharing is a cloud and platform agnostic solution to share your data with external consumer. \n",
    "\n",
    "It's simple (pure SQL), open (can be used on any system) and scalable.\n",
    "\n",
    "All recipients can access your data, using Databricks or any other system on any Cloud.\n",
    "\n",
    "Delta Sharing enable critical use cases around Data Sharing and Data Marketplace. \n",
    "\n",
    "When combined with Databricks Unity catalog, it's the perfect too to accelerate your Datamesh deployment and improve your data governance.\n",
    "\n",
    "Next: Discover how to easily [Share data within Databricks with Unity Catalog]($./04-share-data-within-databricks)\n",
    "\n",
    "\n",
    "[Back to Overview]($./01-Delta-Sharing-presentation)"
   ]
  }
 ],
 "metadata": {
  "application/vnd.databricks.v1+notebook": {
   "computePreferences": null,
   "dashboards": [],
   "environmentMetadata": {
    "environment_version": "2"
   },
   "language": "python",
   "notebookMetadata": {
    "pythonIndentUnit": 2
   },
   "notebookName": "03-receiver-delta-sharing-demo",
   "widgets": {}
  },
  "language_info": {
   "name": "python"
  }
 },
 "nbformat": 4,
 "nbformat_minor": 0
}
