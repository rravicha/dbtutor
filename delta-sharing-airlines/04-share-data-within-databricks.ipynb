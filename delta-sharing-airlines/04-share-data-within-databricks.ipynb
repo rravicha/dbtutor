{
 "cells": [
  {
   "cell_type": "markdown",
   "metadata": {
    "application/vnd.databricks.v1+cell": {
     "cellMetadata": {},
     "inputWidgets": {},
     "nuid": "8266a920-0bdf-4bc8-908a-bb18c97506c8",
     "showTitle": false,
     "tableResultSettingsMap": {},
     "title": ""
    }
   },
   "source": [
    "# Sharing data between organization using Databricks\n",
    "\n",
    "With Databricks Unity Catalog and Delta Sharing, sharing data within organization is much easier.\n",
    "\n",
    "We often reference this as Sharing Data from Databricks to Databricks (D2D).\n",
    "\n",
    "All you need to do is to provide your metastore id to the organization sharing the data, and they'll be able to grant you access directly, without having to worry about credential file & security.\n",
    "\n",
    "<img width=\"1px\" src=\"https://ppxrzfxige.execute-api.us-west-2.amazonaws.com/v1/analytics?category=governance&org_id=4214571749987147&notebook=%2F04-share-data-within-databricks&demo_name=delta-sharing-airlines&event=VIEW&path=%2F_dbdemos%2Fgovernance%2Fdelta-sharing-airlines%2F04-share-data-within-databricks&version=1\">"
   ]
  },
  {
   "cell_type": "code",
   "execution_count": 0,
   "metadata": {
    "application/vnd.databricks.v1+cell": {
     "cellMetadata": {},
     "inputWidgets": {},
     "nuid": "ff810fdf-747c-4066-8568-ddae54716d20",
     "showTitle": false,
     "tableResultSettingsMap": {},
     "title": ""
    },
    "jupyter": {
     "outputs_hidden": true
    }
   },
   "outputs": [],
   "source": [
    "%run ./_resources/00-setup $reset_all_data=false"
   ]
  },
  {
   "cell_type": "markdown",
   "metadata": {
    "application/vnd.databricks.v1+cell": {
     "cellMetadata": {},
     "inputWidgets": {},
     "nuid": "824b51db-1ef9-450c-b67f-1e327ce9dd20",
     "showTitle": false,
     "tableResultSettingsMap": {},
     "title": ""
    }
   },
   "source": [
    "## Step 1: Receiver needs to share its metastore ID\n",
    "\n",
    "To get access to your provider data, you need to send him your metastore ID. This can be retrived very easily.\n",
    "\n",
    "As a **Receiver**, send your metastore ID to the provider"
   ]
  },
  {
   "cell_type": "code",
   "execution_count": 0,
   "metadata": {
    "application/vnd.databricks.v1+cell": {
     "cellMetadata": {},
     "inputWidgets": {},
     "nuid": "beef3b3f-0d85-435c-b777-d2cf074780e6",
     "showTitle": false,
     "tableResultSettingsMap": {},
     "title": ""
    }
   },
   "outputs": [],
   "source": [
    "SELECT current_metastore();"
   ]
  },
  {
   "cell_type": "markdown",
   "metadata": {
    "application/vnd.databricks.v1+cell": {
     "cellMetadata": {},
     "inputWidgets": {},
     "nuid": "98674452-5d87-4763-a89c-96eecdb5c8bc",
     "showTitle": false,
     "tableResultSettingsMap": {},
     "title": ""
    }
   },
   "source": [
    "## Step 2: Providers creates the recipient using the receiver metastore id\n",
    "\n",
    "The data provider can now easily create a recipient using this metastore id:\n",
    "\n",
    "As a **Receiver**, send your metastore ID to the provider"
   ]
  },
  {
   "cell_type": "code",
   "execution_count": 0,
   "metadata": {
    "application/vnd.databricks.v1+cell": {
     "cellMetadata": {},
     "inputWidgets": {},
     "nuid": "7224d8a0-bc75-4b87-8c19-9495f8390892",
     "showTitle": true,
     "tableResultSettingsMap": {},
     "title": "Full steps to create a share & recipient using the metastore id"
    }
   },
   "outputs": [],
   "source": [
    "-- Start with the share creation\n",
    "CREATE SHARE IF NOT EXISTS dbdemos_my_d2d_share COMMENT 'My share containing data for other organization';\n",
    "-- For the demo we'll grant ownership to all users. Typical deployments wouls have admin groups or similar.\n",
    "-- ALTER SHARE dbdemos_my_d2d_share OWNER TO `account users`;\n",
    "-- Add our tables (as many as you want, see previous notebook for more details)\n",
    "-- Note that we can turn on Change Data Feed on the table and share (Note:  this not yet supported with serverless/managed storage)\n",
    "-- ALTER TABLE dbdemos_sharing_airlinedata.lookupcodes SET TBLPROPERTIES (delta.enableChangeDataFeed = true);\n",
    "ALTER SHARE dbdemos_my_d2d_share ADD TABLE pds.dbdemos_sharing_airlinedata.lookupcodes ; --WITH CHANGE DATA FEED\n",
    "\n",
    "-- Create the recipient using the metastore id shared by the receiver (see previous cell)\n",
    "CREATE RECIPIENT IF NOT EXISTS dbdemos_databricks_to_databricks_demo USING ID 'aws:us-west-2:<the_reciever_recipient>' COMMENT 'Recipient for my external customer using Databricks';\n",
    "-- Grant select access to the share\n",
    "GRANT SELECT ON SHARE dbdemos_my_d2d_share TO RECIPIENT dbdemos_databricks_to_databricks_demo;"
   ]
  },
  {
   "cell_type": "markdown",
   "metadata": {
    "application/vnd.databricks.v1+cell": {
     "cellMetadata": {},
     "inputWidgets": {},
     "nuid": "82c4c41c-5153-4a26-a23b-751b5c982a05",
     "showTitle": false,
     "tableResultSettingsMap": {},
     "title": ""
    }
   },
   "source": [
    "## Step 3: accept and mount the share as a receiver\n",
    "\n",
    "As a receiver, we can now see the data listed as provider. It'll appear as `PROVIDER`."
   ]
  },
  {
   "cell_type": "code",
   "execution_count": 0,
   "metadata": {
    "application/vnd.databricks.v1+cell": {
     "cellMetadata": {},
     "inputWidgets": {},
     "nuid": "6a49bda2-eeac-4121-a6fc-ea07465ebc4d",
     "showTitle": true,
     "tableResultSettingsMap": {},
     "title": "List all your providers. The one created previously (databricks_to_databricks) will appear"
    }
   },
   "outputs": [],
   "source": [
    "SHOW PROVIDERS;"
   ]
  },
  {
   "cell_type": "code",
   "execution_count": 0,
   "metadata": {
    "application/vnd.databricks.v1+cell": {
     "cellMetadata": {},
     "inputWidgets": {},
     "nuid": "14533401-078c-4a32-9373-8106e3310c31",
     "showTitle": true,
     "tableResultSettingsMap": {},
     "title": "List your provider details"
    }
   },
   "outputs": [],
   "source": [
    "DESC PROVIDER `dbdemos_databricks_to_databricks_demo`"
   ]
  },
  {
   "cell_type": "code",
   "execution_count": 0,
   "metadata": {
    "application/vnd.databricks.v1+cell": {
     "cellMetadata": {},
     "inputWidgets": {},
     "nuid": "6b8e5db4-bae6-4930-ba94-16b5a110af8a",
     "showTitle": true,
     "tableResultSettingsMap": {},
     "title": "List the shares details from this provider (what is being shared with me)"
    }
   },
   "outputs": [],
   "source": [
    "SHOW SHARES IN PROVIDER `dbdemos_databricks_to_databricks_demo`"
   ]
  },
  {
   "cell_type": "markdown",
   "metadata": {
    "application/vnd.databricks.v1+cell": {
     "cellMetadata": {},
     "inputWidgets": {},
     "nuid": "114f2517-71db-49a9-92b0-255530b86371",
     "showTitle": false,
     "tableResultSettingsMap": {},
     "title": ""
    }
   },
   "source": [
    "To make the data available to all your organization, all you now need to do as Metastore Admin is to add a new catalog using this share.\n",
    "\n",
    "You'll then be able to GRANT permission as you'd do with any other table, and start querying the data directly:"
   ]
  },
  {
   "cell_type": "code",
   "execution_count": 0,
   "metadata": {
    "application/vnd.databricks.v1+cell": {
     "cellMetadata": {},
     "inputWidgets": {},
     "nuid": "95435e46-24ff-4eec-8c7d-9328ca8d7534",
     "showTitle": true,
     "tableResultSettingsMap": {},
     "title": "Create a catalog from the providers share"
    }
   },
   "outputs": [],
   "source": [
    "CREATE CATALOG IF NOT EXISTS USING SHARE `dbdemos_databricks_to_databricks_demo`.dbdemos_my_d2d_share;"
   ]
  },
  {
   "cell_type": "code",
   "execution_count": 0,
   "metadata": {
    "application/vnd.databricks.v1+cell": {
     "cellMetadata": {},
     "inputWidgets": {},
     "nuid": "27ac03ea-e112-4640-81f7-31d0cc24071f",
     "showTitle": true,
     "tableResultSettingsMap": {},
     "title": "Thats it! Our data is now ready to be used:"
    }
   },
   "outputs": [],
   "source": [
    "SELECT * FROM  `dbdemos_databricks_to_databricks_demo`.dbdemos_my_d2d_share.lookupcodes"
   ]
  },
  {
   "cell_type": "markdown",
   "metadata": {
    "application/vnd.databricks.v1+cell": {
     "cellMetadata": {},
     "inputWidgets": {},
     "nuid": "6c1e7632-d313-463f-a039-944a9dc9c489",
     "showTitle": false,
     "tableResultSettingsMap": {},
     "title": ""
    }
   },
   "source": [
    "## Subscribing to Change Data Feed\n",
    "If your data is being updated or deleted, you'll likely want to share the increment so that external organization can access them.\n",
    "\n",
    "A typical use-case is GDPR deletion: you want to make sure other organization also capture this information so that they can DELETE the data downstream.\n",
    "\n",
    "To do so, you can simply use Delta Lake `table_changes()` capability on top of your share (see [the documentation](https://docs.databricks.com/delta/delta-change-data-feed.html) for more details): \n",
    "\n",
    "Note that as a provider, you need to turn on CDF at the table level before:\n",
    "\n",
    "`ALTER TABLE dbdemos_sharing_airlinedata.lookupcodes SET TBLPROPERTIES (delta.enableChangeDataFeed = true);`<br/>\n",
    "`ALTER SHARE my_share ADD TABLE dbdemos_sharing_airlinedata.lookupcodes WITH CHANGE DATA FEED;`\n",
    "\n",
    "**Note: this isn't supported yet with Databricks managed storage - stay tuned as we'll update the content accordingly**"
   ]
  },
  {
   "cell_type": "code",
   "execution_count": 0,
   "metadata": {
    "application/vnd.databricks.v1+cell": {
     "cellMetadata": {},
     "inputWidgets": {},
     "nuid": "302ddc0a-f37e-4e14-889a-149257927c65",
     "showTitle": false,
     "tableResultSettingsMap": {},
     "title": ""
    }
   },
   "outputs": [],
   "source": [
    "SELECT * FROM table_changes('dbdemos_databricks_to_databricks_demo.dbdemos_my_d2d_share.lookupcodes', 2, 4)"
   ]
  },
  {
   "cell_type": "markdown",
   "metadata": {
    "application/vnd.databricks.v1+cell": {
     "cellMetadata": {},
     "inputWidgets": {},
     "nuid": "99554db2-b4df-443a-b06c-a6997f7450e8",
     "showTitle": false,
     "tableResultSettingsMap": {},
     "title": ""
    }
   },
   "source": [
    "\n",
    "# Conclusion\n",
    "To recap, Delta Sharing is a cloud and platform agnostic solution to share your data with external consumer. \n",
    "\n",
    "It's simple (pure SQL), open (can be used on any system) and scalable.\n",
    "\n",
    "All recipients can access your data, using Databricks or any other system on any Cloud.\n",
    "\n",
    "Delta Sharing enable critical use cases around Data Sharing and Data Marketplace. \n",
    "\n",
    "When combined with Databricks Unity catalog, it's the perfect too to accelerate your Datamesh deployment and improve your data governance.\n",
    "\n",
    "[Back to Overview]($./01-Delta-Sharing-presentation)"
   ]
  }
 ],
 "metadata": {
  "application/vnd.databricks.v1+notebook": {
   "computePreferences": null,
   "dashboards": [],
   "environmentMetadata": {
    "environment_version": "2"
   },
   "language": "sql",
   "notebookMetadata": {
    "pythonIndentUnit": 2
   },
   "notebookName": "04-share-data-within-databricks",
   "widgets": {}
  },
  "language_info": {
   "name": "sql"
  }
 },
 "nbformat": 4,
 "nbformat_minor": 0
}
