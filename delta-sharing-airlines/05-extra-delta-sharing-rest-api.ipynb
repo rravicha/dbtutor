{
 "cells": [
  {
   "cell_type": "markdown",
   "metadata": {
    "application/vnd.databricks.v1+cell": {
     "cellMetadata": {},
     "inputWidgets": {},
     "nuid": "1c331175-31e5-46f5-bbb7-a6ffd4075df9",
     "showTitle": false,
     "tableResultSettingsMap": {},
     "title": ""
    }
   },
   "source": [
    "\n",
    "# Delta Sharing - consuming data using REST API\n",
    "\n",
    "Let's deep dive on how Delta Sharing can be used to consume data using the native REST api.\n",
    "\n",
    "<img src=\"https://github.com/QuentinAmbard/databricks-demo/raw/main/delta-sharing/resources/images/delta-sharing-flow.png\" width=\"900px\"/>\n",
    "<img width=\"1px\" src=\"https://ppxrzfxige.execute-api.us-west-2.amazonaws.com/v1/analytics?category=governance&org_id=4214571749987147&notebook=%2F05-extra-delta-sharing-rest-api&demo_name=delta-sharing-airlines&event=VIEW&path=%2F_dbdemos%2Fgovernance%2Fdelta-sharing-airlines%2F05-extra-delta-sharing-rest-api&version=1\">"
   ]
  },
  {
   "cell_type": "markdown",
   "metadata": {
    "application/vnd.databricks.v1+cell": {
     "cellMetadata": {},
     "inputWidgets": {},
     "nuid": "c0b713ce-81b6-45e9-acc0-d372288b6be5",
     "showTitle": false,
     "tableResultSettingsMap": {},
     "title": ""
    }
   },
   "source": [
    "## Exporing REST API Using Databricks OSS Delta Sharing Server\n",
    "\n",
    "Databricks hosts a sharing server for test: https://sharing.delta.io/ \n",
    "\n",
    "*Note: it doesn't require authentification, real-world scenario require a Bearer token in your calls*"
   ]
  },
  {
   "cell_type": "code",
   "execution_count": 0,
   "metadata": {
    "application/vnd.databricks.v1+cell": {
     "cellMetadata": {},
     "inputWidgets": {},
     "nuid": "fd8f271e-e1a5-4e5d-b14a-0cf227f06ddb",
     "showTitle": true,
     "tableResultSettingsMap": {},
     "title": "List Shares, a share is a top level container"
    }
   },
   "outputs": [],
   "source": [
    "import requests\n",
    "import json\n",
    "\n",
    "data = requests.get('https://sharing.delta.io/delta-sharing/shares').json()\n",
    "# Pretty-print the JSON data\n",
    "print(json.dumps(data, indent=4))"
   ]
  },
  {
   "cell_type": "code",
   "execution_count": 0,
   "metadata": {
    "application/vnd.databricks.v1+cell": {
     "cellMetadata": {},
     "inputWidgets": {},
     "nuid": "66f7127c-9568-437e-af03-2a65f49d7050",
     "showTitle": false,
     "tableResultSettingsMap": {},
     "title": ""
    }
   },
   "outputs": [],
   "source": [
    "data = requests.get('https://sharing.delta.io/delta-sharing/shares/delta_sharing/schemas').json()\n",
    "# Pretty-print the JSON data\n",
    "print(json.dumps(data, indent=4))"
   ]
  },
  {
   "cell_type": "code",
   "execution_count": 0,
   "metadata": {
    "application/vnd.databricks.v1+cell": {
     "cellMetadata": {},
     "inputWidgets": {},
     "nuid": "27516669-0da0-4f0e-9b24-5df5d7d32c59",
     "showTitle": true,
     "tableResultSettingsMap": {},
     "title": "List the tables within our share"
    }
   },
   "outputs": [],
   "source": [
    "data = requests.get('https://sharing.delta.io/delta-sharing/shares/delta_sharing/schemas/default/tables').json()\n",
    "# Pretty-print the JSON data\n",
    "print(json.dumps(data, indent=4))"
   ]
  },
  {
   "cell_type": "markdown",
   "metadata": {
    "application/vnd.databricks.v1+cell": {
     "cellMetadata": {},
     "inputWidgets": {},
     "nuid": "f922c6f8-c6e4-4c52-aeb3-8f45fbd93a53",
     "showTitle": false,
     "tableResultSettingsMap": {},
     "title": ""
    }
   },
   "source": [
    "### Get metadata from our \"boston-housing\" table"
   ]
  },
  {
   "cell_type": "code",
   "execution_count": 0,
   "metadata": {
    "application/vnd.databricks.v1+cell": {
     "cellMetadata": {},
     "inputWidgets": {},
     "nuid": "59fd3a3e-49c8-4661-8bcf-ff93527c9ce9",
     "showTitle": false,
     "tableResultSettingsMap": {},
     "title": ""
    }
   },
   "outputs": [],
   "source": [
    "data = requests.get('https://sharing.delta.io/delta-sharing/shares/delta_sharing/schemas/default/tables/boston-housing/metadata')\n",
    "json_objects = data.text.strip().split('\\n')\n",
    "for obj in json_objects:\n",
    "    print(json.dumps(json.loads(obj), indent=4))"
   ]
  },
  {
   "cell_type": "markdown",
   "metadata": {
    "application/vnd.databricks.v1+cell": {
     "cellMetadata": {},
     "inputWidgets": {},
     "nuid": "c4f2c4c0-f160-4e1a-912e-c32c275b4133",
     "showTitle": false,
     "tableResultSettingsMap": {},
     "title": ""
    }
   },
   "source": [
    "### Getting the data\n",
    "Delta Share works by creating temporary self-signed links to download the underlying files. It leverages Delta Lake statistics to pushdown the query and only retrive a subset of file. \n",
    "\n",
    "The REST API allow you to get those links and download the data:"
   ]
  },
  {
   "cell_type": "code",
   "execution_count": 0,
   "metadata": {
    "application/vnd.databricks.v1+cell": {
     "cellMetadata": {},
     "inputWidgets": {},
     "nuid": "3fe5294c-3347-4a1e-bfc9-23d232b80703",
     "showTitle": true,
     "tableResultSettingsMap": {},
     "title": "Getting access to boston-housing data"
    }
   },
   "outputs": [],
   "source": [
    "import requests\n",
    "import json\n",
    "\n",
    "# Define the JSON payload\n",
    "payload = {\n",
    "    \"predicateHints\": [\n",
    "        \"date >= '2021-01-01'\",\n",
    "        \"date <= '2021-01-31'\"\n",
    "    ],\n",
    "    \"limitHint\": 1000\n",
    "}\n",
    "\n",
    "# Send the POST request\n",
    "response = requests.post(\"https://sharing.delta.io/delta-sharing/shares/delta_sharing/schemas/default/tables/boston-housing/query\", headers={\"Content-Type\": \"application/json\"}, json=payload)\n",
    "\n",
    "json_objects = response.text.strip().split('\\n')\n",
    "for obj in json_objects:\n",
    "    print(json.dumps(json.loads(obj), indent=4))"
   ]
  }
 ],
 "metadata": {
  "application/vnd.databricks.v1+notebook": {
   "computePreferences": null,
   "dashboards": [],
   "environmentMetadata": {
    "environment_version": "2"
   },
   "language": "python",
   "notebookMetadata": {
    "pythonIndentUnit": 2
   },
   "notebookName": "05-extra-delta-sharing-rest-api",
   "widgets": {}
  },
  "language_info": {
   "name": "python"
  }
 },
 "nbformat": 4,
 "nbformat_minor": 0
}
