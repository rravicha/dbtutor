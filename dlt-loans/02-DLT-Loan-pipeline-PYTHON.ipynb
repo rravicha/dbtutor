{
  "cells": [
    {
      "cell_type": "markdown",
      "metadata": {
        "application/vnd.databricks.v1+cell": {
          "cellMetadata": {},
          "inputWidgets": {},
          "nuid": "fe33f497-4dd9-43b5-a145-4554fef3a9df",
          "showTitle": false,
          "tableResultSettingsMap": {},
          "title": ""
        },
        "id": "JMy1Rstx1_0Q"
      },
      "source": [
        "# Simplify ETL with Delta Live Table\n",
        "\n",
        "DLT makes Data Engineering accessible for all. Just declare your transformations in SQL or Python, and DLT will handle the Data Engineering complexity for you.\n",
        "\n",
        "<img style=\"float:right\" src=\"https://github.com/QuentinAmbard/databricks-demo/raw/main/product_demos/dlt-golden-demo-loan-1.png\" width=\"700\"/>\n",
        "\n",
        "**Accelerate ETL development** <br/>\n",
        "Enable analysts and data engineers to innovate rapidly with simple pipeline development and maintenance\n",
        "\n",
        "**Remove operational complexity** <br/>\n",
        "By automating complex administrative tasks and gaining broader visibility into pipeline operations\n",
        "\n",
        "**Trust your data** <br/>\n",
        "With built-in quality controls and quality monitoring to ensure accurate and useful BI, Data Science, and ML\n",
        "\n",
        "**Simplify batch and streaming** <br/>\n",
        "With self-optimization and auto-scaling data pipelines for batch or streaming processing\n",
        "\n",
        "## Our Delta Live Table pipeline\n",
        "\n",
        "We'll be using as input a raw dataset containing information on our customers Loan and historical transactions.\n",
        "\n",
        "Our goal is to ingest this data in near real time and build table for our Analyst team while ensuring data quality.\n",
        "\n",
        "**Your DLT Pipeline is ready!** Your pipeline was started using the SQL notebook and is <a dbdemos-pipeline-id=\"dlt-loans\" href=\"/#joblist/pipelines/8bd6a281-9662-4a17-92c6-8bbafd2e4632\">available here</a>.\n",
        "\n",
        "<!-- Collect usage data (view). Remove it to disable collection. View README for more details.  -->\n",
        "<img width=\"1px\" src=\"https://ppxrzfxige.execute-api.us-west-2.amazonaws.com/v1/analytics?category=data-engineering&org_id=4214571749987147&notebook=%2F02-DLT-Loan-pipeline-PYTHON&demo_name=dlt-loans&event=VIEW&path=%2F_dbdemos%2Fdata-engineering%2Fdlt-loans%2F02-DLT-Loan-pipeline-PYTHON&version=1\">"
      ]
    },
    {
      "cell_type": "markdown",
      "metadata": {
        "application/vnd.databricks.v1+cell": {
          "cellMetadata": {},
          "inputWidgets": {},
          "nuid": "84f062ab-e17c-4caf-98fc-31855ff38f96",
          "showTitle": false,
          "tableResultSettingsMap": {},
          "title": ""
        },
        "id": "hHP1TADb1_0T"
      },
      "source": [
        "\n",
        "Our datasets are coming from 3 different systems and saved under a cloud storage folder (S3/ADLS/GCS):\n",
        "\n",
        "* `loans/raw_transactions` (loans uploader here in every few minutes)\n",
        "* `loans/ref_accounting_treatment` (reference table, mostly static)\n",
        "* `loans/historical_loan` (loan from legacy system, new data added every week)\n",
        "\n",
        "Let's ingest this data incrementally, and then compute a couple of aggregates that we'll need for our final Dashboard to report our KPI."
      ]
    },
    {
      "cell_type": "code",
      "execution_count": null,
      "metadata": {
        "application/vnd.databricks.v1+cell": {
          "cellMetadata": {},
          "inputWidgets": {},
          "nuid": "7a831cf3-16c0-4891-b7b9-c46673026c84",
          "showTitle": true,
          "tableResultSettingsMap": {},
          "title": "Let's review the incoming data"
        },
        "id": "7zen1UOM1_0T"
      },
      "outputs": [],
      "source": [
        "# Uncomment to explore the raw data\n",
        "# %fs ls /Volumes/pds/dbdemos_sharing_airlinedata/raw_data/raw_transactions"
      ]
    },
    {
      "cell_type": "markdown",
      "metadata": {
        "application/vnd.databricks.v1+cell": {
          "cellMetadata": {},
          "inputWidgets": {},
          "nuid": "fe4e831a-76c2-40d1-997d-028a2c9113c6",
          "showTitle": false,
          "tableResultSettingsMap": {},
          "title": ""
        },
        "id": "lezb0tfX1_0V"
      },
      "source": [
        "\n",
        "## Bronze layer: incrementally ingest data leveraging Databricks Autoloader\n",
        "\n",
        "<img style=\"float: right; padding-left: 10px\" src=\"https://github.com/QuentinAmbard/databricks-demo/raw/main/product_demos/dlt-golden-demo-loan-2.png\" width=\"600\"/>\n",
        "\n",
        "Our raw data is being sent to a blob storage.\n",
        "\n",
        "Autoloader simplify this ingestion, including schema inference, schema evolution while being able to scale to millions of incoming files.\n",
        "\n",
        "Autoloader is available in Python using the `cloud_files` format and can be used with a variety of format (json, csv, avro...):\n",
        "\n",
        "\n",
        "#### STREAMING LIVE TABLE\n",
        "Defining tables as `STREAMING` will guarantee that you only consume new incoming data. Without `STREAMING`, you will scan and ingest all the data available at once. See the [documentation](https://docs.databricks.com/data-engineering/delta-live-tables/delta-live-tables-incremental-data.html) for more details"
      ]
    },
    {
      "cell_type": "code",
      "execution_count": null,
      "metadata": {
        "application/vnd.databricks.v1+cell": {
          "cellMetadata": {},
          "inputWidgets": {},
          "nuid": "cd8fb3b3-7a3a-48f8-bccd-146b81480df1",
          "showTitle": false,
          "tableResultSettingsMap": {},
          "title": ""
        },
        "id": "sKnAG6Hx1_0W"
      },
      "outputs": [],
      "source": [
        "import dlt\n",
        "from pyspark.sql import functions as F\n",
        "\n",
        "\n",
        "@dlt.table(\n",
        "    comment=\"New raw loan data incrementally ingested from cloud object storage landing zone\"\n",
        ")\n",
        "def raw_txs():\n",
        "    return (\n",
        "        spark.readStream.format(\"cloudFiles\")\n",
        "        .option(\"cloudFiles.format\", \"json\")\n",
        "        .option(\"cloudFiles.inferColumnTypes\", \"true\")\n",
        "        .load(\"/Volumes/pds/dbdemos_sharing_airlinedata/raw_data/raw_transactions\")\n",
        "    )\n"
      ]
    },
    {
      "cell_type": "code",
      "execution_count": null,
      "metadata": {
        "application/vnd.databricks.v1+cell": {
          "cellMetadata": {},
          "inputWidgets": {},
          "nuid": "c0451cae-0b89-4594-8a58-2d4cfb543d5c",
          "showTitle": false,
          "tableResultSettingsMap": {},
          "title": ""
        },
        "id": "PayST2F31_0W"
      },
      "outputs": [],
      "source": [
        "\n",
        "@dlt.table(comment=\"Lookup mapping for accounting codes\")\n",
        "def ref_accounting_treatment():\n",
        "    return spark.read.format(\"delta\").load(\n",
        "        \"/Volumes/pds/dbdemos_sharing_airlinedata/raw_data/ref_accounting_treatment\"\n",
        "    )\n"
      ]
    },
    {
      "cell_type": "code",
      "execution_count": null,
      "metadata": {
        "application/vnd.databricks.v1+cell": {
          "cellMetadata": {},
          "inputWidgets": {},
          "nuid": "cde7dba5-fb55-4492-8069-c261ae501cb4",
          "showTitle": false,
          "tableResultSettingsMap": {},
          "title": ""
        },
        "id": "gGFmDXHp1_0W"
      },
      "outputs": [],
      "source": [
        "\n",
        "@dlt.table(comment=\"Raw historical transactions\")\n",
        "def raw_historical_loans():\n",
        "    return (\n",
        "        spark.readStream.format(\"cloudFiles\")\n",
        "        .option(\"cloudFiles.format\", \"csv\")\n",
        "        .option(\"cloudFiles.inferColumnTypes\", \"true\")\n",
        "        .load(\"/Volumes/pds/dbdemos_sharing_airlinedata/raw_data/historical_loans\")\n",
        "    )\n"
      ]
    },
    {
      "cell_type": "markdown",
      "metadata": {
        "application/vnd.databricks.v1+cell": {
          "cellMetadata": {},
          "inputWidgets": {},
          "nuid": "67660ce4-5a75-4ec6-b010-6177ec6bd87f",
          "showTitle": false,
          "tableResultSettingsMap": {},
          "title": ""
        },
        "id": "o0Wqse151_0W"
      },
      "source": [
        "\n",
        "## Silver layer: joining tables while ensuring data quality\n",
        "\n",
        "<img style=\"float: right; padding-left: 10px\" src=\"https://github.com/QuentinAmbard/databricks-demo/raw/main/product_demos/dlt-golden-demo-loan-3.png\" width=\"600\"/>\n",
        "\n",
        "Once the bronze layer is defined, we'll create the sliver layers by Joining data. Note that bronze tables are referenced using the `LIVE` spacename.\n",
        "\n",
        "To consume only increment from the Bronze layer like `BZ_raw_txs`, we'll be using the `read_stream` function: `dlt.read_stream(\"BZ_raw_txs\")`\n",
        "\n",
        "Note that we don't have to worry about compactions, DLT handles that for us.\n",
        "\n",
        "#### Expectations\n",
        "By defining expectations (`@dlt.expect`), you can enforce and track your data quality. See the [documentation](https://docs.databricks.com/data-engineering/delta-live-tables/delta-live-tables-expectations.html) for more details"
      ]
    },
    {
      "cell_type": "code",
      "execution_count": null,
      "metadata": {
        "application/vnd.databricks.v1+cell": {
          "cellMetadata": {},
          "inputWidgets": {},
          "nuid": "0af7c05f-2d4a-4a6e-9f69-62c57fdfe5ff",
          "showTitle": true,
          "tableResultSettingsMap": {},
          "title": "enrich transactions with metadata"
        },
        "id": "-lmt_1qi1_0W"
      },
      "outputs": [],
      "source": [
        "\n",
        "@dlt.view(comment=\"Livestream of new transactions\")\n",
        "def new_txs():\n",
        "    txs = dlt.read_stream(\"raw_txs\").alias(\"txs\")\n",
        "    ref = dlt.read(\"ref_accounting_treatment\").alias(\"ref\")\n",
        "    return txs.join(\n",
        "        ref, F.col(\"txs.accounting_treatment_id\") == F.col(\"ref.id\"), \"inner\"\n",
        "    ).selectExpr(\"txs.*\", \"ref.accounting_treatment as accounting_treatment\")\n"
      ]
    },
    {
      "cell_type": "code",
      "execution_count": null,
      "metadata": {
        "application/vnd.databricks.v1+cell": {
          "cellMetadata": {},
          "inputWidgets": {},
          "nuid": "b1ea6e0d-8fd2-4077-a950-80f991e73627",
          "showTitle": true,
          "tableResultSettingsMap": {},
          "title": "Keep only the proper transactions. Fail if cost center isn't correct, discard the others."
        },
        "id": "8sKGvcf41_0W"
      },
      "outputs": [],
      "source": [
        "\n",
        "@dlt.table(comment=\"Livestream of new transactions, cleaned and compliant\")\n",
        "@dlt.expect(\"Payments should be this year\", \"(next_payment_date > date('2020-12-31'))\")\n",
        "@dlt.expect_or_drop(\n",
        "    \"Balance should be positive\", \"(balance > 0 AND arrears_balance > 0)\"\n",
        ")\n",
        "@dlt.expect_or_fail(\"Cost center must be specified\", \"(cost_center_code IS NOT NULL)\")\n",
        "def cleaned_new_txs():\n",
        "    return dlt.read_stream(\"new_txs\")\n"
      ]
    },
    {
      "cell_type": "code",
      "execution_count": null,
      "metadata": {
        "application/vnd.databricks.v1+cell": {
          "cellMetadata": {},
          "inputWidgets": {},
          "nuid": "2735c2de-1334-4cef-9c52-812ecc796a58",
          "showTitle": true,
          "tableResultSettingsMap": {},
          "title": "Let's quarantine the bad transaction for further analysis"
        },
        "id": "xLCiOKji1_0X"
      },
      "outputs": [],
      "source": [
        "\n",
        "# This is the inverse condition of the above statement to quarantine incorrect data for further analysis.\n",
        "@dlt.table(comment=\"Incorrect transactions requiring human analysis\")\n",
        "@dlt.expect(\"Payments should be this year\", \"(next_payment_date <= date('2020-12-31'))\")\n",
        "@dlt.expect_or_drop(\n",
        "    \"Balance should be positive\", \"(balance <= 0 OR arrears_balance <= 0)\"\n",
        ")\n",
        "def quarantine_bad_txs():\n",
        "    return dlt.read_stream(\"new_txs\")\n"
      ]
    },
    {
      "cell_type": "code",
      "execution_count": null,
      "metadata": {
        "application/vnd.databricks.v1+cell": {
          "cellMetadata": {},
          "inputWidgets": {},
          "nuid": "3f1b8ba7-9a8d-4bb8-8cd8-8d051e858923",
          "showTitle": true,
          "tableResultSettingsMap": {},
          "title": "Enrich all historical transactions"
        },
        "id": "rFrUdorv1_0X"
      },
      "outputs": [],
      "source": [
        "\n",
        "@dlt.table(comment=\"Historical loan transactions\")\n",
        "@dlt.expect(\"Grade should be valid\", \"(grade in ('A', 'B', 'C', 'D', 'E', 'F', 'G'))\")\n",
        "@dlt.expect_or_drop(\"Recoveries shoud be int\", \"(CAST(recoveries as INT) IS NOT NULL)\")\n",
        "def historical_txs():\n",
        "    history = dlt.read_stream(\"raw_historical_loans\").alias(\"l\")\n",
        "    ref = dlt.read(\"ref_accounting_treatment\").alias(\"ref\")\n",
        "    return history.join(\n",
        "        ref, F.col(\"l.accounting_treatment_id\") == F.col(\"ref.id\"), \"inner\"\n",
        "    ).selectExpr(\"l.*\", \"ref.accounting_treatment as accounting_treatment\")\n"
      ]
    },
    {
      "cell_type": "markdown",
      "metadata": {
        "application/vnd.databricks.v1+cell": {
          "cellMetadata": {},
          "inputWidgets": {},
          "nuid": "266c4b8f-061e-4b27-b1e7-f472ffb4425a",
          "showTitle": false,
          "tableResultSettingsMap": {},
          "title": ""
        },
        "id": "cQHISC991_0X"
      },
      "source": [
        "\n",
        "## Gold layer\n",
        "\n",
        "<img style=\"float: right; padding-left: 10px\" src=\"https://github.com/QuentinAmbard/databricks-demo/raw/main/product_demos/dlt-golden-demo-loan-4.png\" width=\"600\"/>\n",
        "\n",
        "Our last step is to materialize the Gold Layer.\n",
        "\n",
        "Because these tables will be requested at scale using a SQL Endpoint, we'll add Liquid Clustering at the table level to organize data for faster queries, and DLT will handle the rest."
      ]
    },
    {
      "cell_type": "code",
      "execution_count": null,
      "metadata": {
        "application/vnd.databricks.v1+cell": {
          "cellMetadata": {},
          "inputWidgets": {},
          "nuid": "7e63d15a-dcb1-473d-982f-a613726836f0",
          "showTitle": true,
          "tableResultSettingsMap": {},
          "title": "Balance aggregate per cost location"
        },
        "id": "f-LfngqN1_0X"
      },
      "outputs": [],
      "source": [
        "\n",
        "@dlt.table(\n",
        "    comment=\"Combines historical and new loan data for unified rollup of loan balances\",\n",
        "    cluster_by=[\"location_code\"],\n",
        ")\n",
        "def total_loan_balances():\n",
        "    return (\n",
        "        dlt.read(\"historical_txs\")\n",
        "        .groupBy(\"addr_state\")\n",
        "        .agg(F.sum(\"revol_bal\").alias(\"bal\"))\n",
        "        .withColumnRenamed(\"addr_state\", \"location_code\")\n",
        "        .union(\n",
        "            dlt.read(\"cleaned_new_txs\")\n",
        "            .groupBy(\"country_code\")\n",
        "            .agg(F.sum(\"balance\").alias(\"bal\"))\n",
        "            .withColumnRenamed(\"country_code\", \"location_code\")\n",
        "        )\n",
        "    )\n"
      ]
    },
    {
      "cell_type": "code",
      "execution_count": null,
      "metadata": {
        "application/vnd.databricks.v1+cell": {
          "cellMetadata": {},
          "inputWidgets": {},
          "nuid": "38e723ba-766a-4338-a132-7ff906f18181",
          "showTitle": true,
          "tableResultSettingsMap": {},
          "title": "Balance aggregate per cost center"
        },
        "id": "qhhfiXuB1_0X"
      },
      "outputs": [],
      "source": [
        "\n",
        "@dlt.table(\n",
        "    comment=\"Live table of new loan balances for consumption by different cost centers\"\n",
        ")\n",
        "def new_loan_balances_by_cost_center():\n",
        "    return (\n",
        "        dlt.read(\"cleaned_new_txs\")\n",
        "        .groupBy(\"cost_center_code\")\n",
        "        .agg(F.sum(\"balance\").alias(\"sum_balance\"))\n",
        "    )\n"
      ]
    },
    {
      "cell_type": "code",
      "execution_count": null,
      "metadata": {
        "application/vnd.databricks.v1+cell": {
          "cellMetadata": {},
          "inputWidgets": {},
          "nuid": "37ac19e6-d131-493a-bf4b-be53b9171a4e",
          "showTitle": true,
          "tableResultSettingsMap": {},
          "title": "Balance aggregate per country"
        },
        "id": "JAi5MNb71_0X"
      },
      "outputs": [],
      "source": [
        "\n",
        "@dlt.table(comment=\"Live table of new loan balances per country\")\n",
        "def new_loan_balances_by_country():\n",
        "    return (\n",
        "        dlt.read(\"cleaned_new_txs\")\n",
        "        .groupBy(\"country_code\")\n",
        "        .agg(F.sum(\"count\").alias(\"sum_count\"))\n",
        "    )\n"
      ]
    },
    {
      "cell_type": "markdown",
      "metadata": {
        "application/vnd.databricks.v1+cell": {
          "cellMetadata": {},
          "inputWidgets": {},
          "nuid": "fff49d6e-3ce4-4e2b-b430-e5d5ee1f80c4",
          "showTitle": false,
          "tableResultSettingsMap": {},
          "title": ""
        },
        "id": "KVWltF-l1_0X"
      },
      "source": [
        "## Next steps\n",
        "\n",
        "Your DLT pipeline is ready to be started. <a dbdemos-pipeline-id=\"dlt-loans\" href=\"/#joblist/pipelines/8bd6a281-9662-4a17-92c6-8bbafd2e4632\">Click here to access the pipeline</a> created for you using the SQL notebook.\n",
        "\n",
        "To create a new one using this notebook, open the DLT menu, create a pipeline and select this notebook to run it. To generate sample data, please run the [companion notebook]($./_resources/00-Loan-Data-Generator) (make sure the path where you read and write the data are the same!)\n",
        "\n",
        "Datas Analyst can start using DBSQL to analyze data and track our Loan metrics.  Data Scientist can also access the data to start building models to predict payment default or other more advanced use-cases."
      ]
    },
    {
      "cell_type": "markdown",
      "metadata": {
        "application/vnd.databricks.v1+cell": {
          "cellMetadata": {},
          "inputWidgets": {},
          "nuid": "29df1f2e-0a39-4c0d-bcfc-ccf75b80f02c",
          "showTitle": false,
          "tableResultSettingsMap": {},
          "title": ""
        },
        "id": "ktwKN9-C1_0X"
      },
      "source": [
        "## Tracking data quality\n",
        "\n",
        "Expectations stats are automatically available as system table.\n",
        "\n",
        "This information let you monitor your data ingestion quality.\n",
        "\n",
        "You can leverage DBSQL to request these table and build custom alerts based on the metrics your business is tracking.\n",
        "\n",
        "\n",
        "See [how to access your DLT metrics]($./03-Log-Analysis)\n",
        "\n",
        "<img width=\"500\" src=\"https://github.com/QuentinAmbard/databricks-demo/raw/main/retail/resources/images/retail-dlt-data-quality-dashboard.png\">\n",
        "\n",
        "<a dbdemos-dashboard-id=\"dlt-expectations\" href='/sql/dashboardsv3/01eff48352781e3fa01816771dcc313d' target=\"_blank\">Data Quality Dashboard example</a>"
      ]
    },
    {
      "cell_type": "markdown",
      "source": [
        "Google Collab Content"
      ],
      "metadata": {
        "id": "ttWGFSZH4pjE"
      }
    },
    {
      "cell_type": "code",
      "source": [
        "# prompt: i am planning to cover dlt in databricks\n",
        "# would you help me with some sample code or notebooks\n",
        "\n",
        "import dlt\n",
        "from pyspark.sql import functions as F\n",
        "\n",
        "# Define the path to your data.  Replace with your actual paths.\n",
        "# These paths assume you've uploaded the data to your cloud storage\n",
        "# and mounted the storage to Databricks.\n",
        "raw_transactions_path = \"/mnt/your_data_path/raw_transactions\"\n",
        "ref_accounting_treatment_path = \"/mnt/your_data_path/ref_accounting_treatment\"\n",
        "historical_loans_path = \"/mnt/your_data_path/historical_loans\"\n",
        "\n",
        "\n",
        "@dlt.table(\n",
        "    comment=\"New raw loan data incrementally ingested from cloud object storage\"\n",
        ")\n",
        "def raw_txs():\n",
        "    return (\n",
        "        spark.readStream.format(\"cloudFiles\")\n",
        "        .option(\"cloudFiles.format\", \"json\")\n",
        "        .option(\"cloudFiles.inferColumnTypes\", \"true\")\n",
        "        .load(raw_transactions_path)\n",
        "    )\n",
        "\n",
        "\n",
        "@dlt.table(comment=\"Lookup mapping for accounting codes\")\n",
        "def ref_accounting_treatment():\n",
        "    return spark.read.format(\"delta\").load(ref_accounting_treatment_path)\n",
        "\n",
        "\n",
        "@dlt.table(comment=\"Raw historical transactions\")\n",
        "def raw_historical_loans():\n",
        "    return (\n",
        "        spark.readStream.format(\"cloudFiles\")\n",
        "        .option(\"cloudFiles.format\", \"csv\")\n",
        "        .option(\"cloudFiles.inferColumnTypes\", \"true\")\n",
        "        .load(historical_loans_path)\n",
        "    )\n",
        "\n",
        "\n",
        "@dlt.view(comment=\"Livestream of new transactions\")\n",
        "def new_txs():\n",
        "    # Example using a hardcoded date - replace with appropriate logic\n",
        "    txs = dlt.read_stream(\"raw_txs\").alias(\"txs\")\n",
        "    ref = dlt.read(\"ref_accounting_treatment\").alias(\"ref\")\n",
        "    return txs.join(\n",
        "        ref, F.col(\"txs.accounting_treatment_id\") == F.col(\"ref.id\"), \"inner\"\n",
        "    ).selectExpr(\"txs.*\", \"ref.accounting_treatment as accounting_treatment\")\n",
        "\n",
        "\n",
        "# ... (rest of your DLT pipeline code)\n"
      ],
      "metadata": {
        "id": "CxhOm9ZN4tGu"
      },
      "execution_count": null,
      "outputs": []
    },
    {
      "cell_type": "code",
      "source": [
        "from google.colab import drive\n",
        "drive.mount('/content/drive')"
      ],
      "metadata": {
        "id": "asI6S-OW5L0m"
      },
      "execution_count": null,
      "outputs": []
    }
  ],
  "metadata": {
    "application/vnd.databricks.v1+notebook": {
      "computePreferences": null,
      "dashboards": [],
      "environmentMetadata": {
        "environment_version": "2"
      },
      "language": "python",
      "notebookMetadata": {
        "pythonIndentUnit": 4
      },
      "notebookName": "02-DLT-Loan-pipeline-PYTHON",
      "widgets": {}
    },
    "language_info": {
      "name": "python"
    },
    "colab": {
      "provenance": []
    },
    "kernelspec": {
      "name": "python3",
      "display_name": "Python 3"
    }
  },
  "nbformat": 4,
  "nbformat_minor": 0
}