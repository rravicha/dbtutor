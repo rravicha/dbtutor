{
 "cells": [
  {
   "cell_type": "markdown",
   "metadata": {
    "application/vnd.databricks.v1+cell": {
     "cellMetadata": {},
     "inputWidgets": {},
     "nuid": "b32023f9-7566-4696-82d5-a758d2c18bbd",
     "showTitle": false,
     "tableResultSettingsMap": {},
     "title": ""
    }
   },
   "source": [
    "\n",
    "# DLT pipeline log analysis\n",
    "\n",
    "<img style=\"float:right\" width=\"500\" src=\"https://github.com/QuentinAmbard/databricks-demo/raw/main/retail/resources/images/retail-dlt-data-quality-dashboard.png\">\n",
    "\n",
    "Each DLT Pipeline saves events and expectations metrics in the Storage Location defined on the pipeline. From this table we can see what is happening and the quality of the data passing through it.\n",
    "\n",
    "You can leverage the expecations directly as a SQL table with Databricks SQL to track your expectation metrics and send alerts as required. \n",
    "\n",
    "This notebook extracts and analyses expectation metrics to build such KPIS.\n",
    "\n",
    "## Accessing the Delta Live Table pipeline events with Unity Catalog\n",
    "\n",
    "Databricks provides an `event_log` function which is automatically going to lookup the event log table. You can specify any table to get access to the logs:\n",
    "\n",
    "`SELECT * FROM event_log(TABLE(catalog.schema.my_table))`\n",
    "\n",
    "#### Using Legacy hive_metastore\n",
    "*Note: If you are not using Unity Catalog (legacy hive_metastore), you can find your event log location opening the Settings of your DLT pipeline, under `storage` :*\n",
    "\n",
    "```\n",
    "{\n",
    "    ...\n",
    "    \"name\": \"lakehouse_churn_dlt\",\n",
    "    \"storage\": \"/demos/dlt/loans\",\n",
    "    \"target\": \"your schema\"\n",
    "}\n",
    "```\n",
    "<!-- Collect usage data (view). Remove it to disable collection. View README for more details.  -->\n",
    "<img width=\"1px\" src=\"https://ppxrzfxige.execute-api.us-west-2.amazonaws.com/v1/analytics?category=data-engineering&org_id=4214571749987147&notebook=%2F03-Log-Analysis&demo_name=dlt-loans&event=VIEW&path=%2F_dbdemos%2Fdata-engineering%2Fdlt-loans%2F03-Log-Analysis&version=1\">"
   ]
  },
  {
   "cell_type": "code",
   "execution_count": 0,
   "metadata": {
    "application/vnd.databricks.v1+cell": {
     "cellMetadata": {},
     "inputWidgets": {},
     "nuid": "411e2cfb-f09f-4b84-9977-afd23298598d",
     "showTitle": false,
     "tableResultSettingsMap": {},
     "title": ""
    }
   },
   "outputs": [],
   "source": [
    "SELECT * FROM event_log(TABLE(pds.dbdemos_sharing_airlinedata.raw_txs))"
   ]
  },
  {
   "cell_type": "code",
   "execution_count": 0,
   "metadata": {
    "application/vnd.databricks.v1+cell": {
     "cellMetadata": {},
     "inputWidgets": {},
     "nuid": "cc8391cf-5c0b-4a97-bb94-e98f618efd4d",
     "showTitle": false,
     "tableResultSettingsMap": {},
     "title": ""
    }
   },
   "outputs": [],
   "source": [
    "CREATE OR REPLACE TEMPORARY VIEW demo_dlt_loans_system_event_log_raw \n",
    "  as SELECT * FROM event_log(TABLE(pds.dbdemos_sharing_airlinedata.raw_txs));\n",
    "SELECT * FROM demo_dlt_loans_system_event_log_raw order by timestamp desc;"
   ]
  },
  {
   "cell_type": "markdown",
   "metadata": {
    "application/vnd.databricks.v1+cell": {
     "cellMetadata": {},
     "inputWidgets": {},
     "nuid": "efc3ff8a-80a0-483c-ab88-664e6c7905c5",
     "showTitle": false,
     "tableResultSettingsMap": {},
     "title": ""
    }
   },
   "source": [
    "The `details` column contains metadata about each Event sent to the Event Log. There are different fields depending on what type of Event it is. Some examples include:\n",
    "* `user_action` Events occur when taking actions like creating the pipeline\n",
    "* `flow_definition` Events occur when a pipeline is deployed or updated and have lineage, schema, and execution plan information\n",
    "  * `output_dataset` and `input_datasets` - output table/view and its upstream table(s)/view(s)\n",
    "  * `flow_type` - whether this is a complete or append flow\n",
    "  * `explain_text` - the Spark explain plan\n",
    "* `flow_progress` Events occur when a data flow starts running or finishes processing a batch of data\n",
    "  * `metrics` - currently contains `num_output_rows`\n",
    "  * `data_quality` - contains an array of the results of the data quality rules for this particular dataset\n",
    "    * `dropped_records`\n",
    "    * `expectations`\n",
    "      * `name`, `dataset`, `passed_records`, `failed_records`\n",
    "  "
   ]
  },
  {
   "cell_type": "code",
   "execution_count": 0,
   "metadata": {
    "application/vnd.databricks.v1+cell": {
     "cellMetadata": {},
     "inputWidgets": {},
     "nuid": "389c2b45-93be-4d78-a39a-b447435a3350",
     "showTitle": true,
     "tableResultSettingsMap": {},
     "title": "Lineage Information"
    }
   },
   "outputs": [],
   "source": [
    "SELECT\n",
    "  details:flow_definition.output_dataset,\n",
    "  details:flow_definition.input_datasets,\n",
    "  details:flow_definition.flow_type,\n",
    "  details:flow_definition.schema,\n",
    "  details:flow_definition\n",
    "FROM demo_dlt_loans_system_event_log_raw\n",
    "WHERE details:flow_definition IS NOT NULL\n",
    "ORDER BY timestamp"
   ]
  },
  {
   "cell_type": "code",
   "execution_count": 0,
   "metadata": {
    "application/vnd.databricks.v1+cell": {
     "cellMetadata": {},
     "inputWidgets": {},
     "nuid": "e45052a9-1821-47fd-83d3-99ac42284cc1",
     "showTitle": true,
     "tableResultSettingsMap": {},
     "title": "Data Quality Results"
    }
   },
   "outputs": [],
   "source": [
    "SELECT\n",
    "  id,\n",
    "  expectations.dataset,\n",
    "  expectations.name,\n",
    "  expectations.failed_records,\n",
    "  expectations.passed_records\n",
    "FROM(\n",
    "  SELECT \n",
    "    id,\n",
    "    timestamp,\n",
    "    details:flow_progress.metrics,\n",
    "    details:flow_progress.data_quality.dropped_records,\n",
    "    explode(from_json(details:flow_progress:data_quality:expectations\n",
    "             ,schema_of_json(\"[{'name':'str', 'dataset':'str', 'passed_records':42, 'failed_records':42}]\"))) expectations\n",
    "  FROM demo_dlt_loans_system_event_log_raw\n",
    "  WHERE details:flow_progress.metrics IS NOT NULL) data_quality"
   ]
  },
  {
   "cell_type": "markdown",
   "metadata": {
    "application/vnd.databricks.v1+cell": {
     "cellMetadata": {},
     "inputWidgets": {},
     "nuid": "8a028aad-3a49-4fdc-81e8-8f52f7e606f7",
     "showTitle": false,
     "tableResultSettingsMap": {},
     "title": ""
    }
   },
   "source": [
    "Your expectations are ready to be queried in SQL! Open the <a dbdemos-dashboard-id=\"dlt-expectations\" href='/sql/dashboardsv3/01eff48352781e3fa01816771dcc313d' target=\"_blank\">data Quality Dashboard example</a> for more details."
   ]
  }
 ],
 "metadata": {
  "application/vnd.databricks.v1+notebook": {
   "computePreferences": null,
   "dashboards": [],
   "environmentMetadata": {
    "environment_version": "2"
   },
   "language": "sql",
   "notebookMetadata": {
    "pythonIndentUnit": 2
   },
   "notebookName": "03-Log-Analysis",
   "widgets": {}
  },
  "language_info": {
   "name": "sql"
  }
 },
 "nbformat": 4,
 "nbformat_minor": 0
}
