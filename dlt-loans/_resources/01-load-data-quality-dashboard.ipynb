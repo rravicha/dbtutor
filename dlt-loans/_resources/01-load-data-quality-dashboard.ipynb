{
 "cells": [
  {
   "cell_type": "markdown",
   "metadata": {
    "application/vnd.databricks.v1+cell": {
     "cellMetadata": {},
     "inputWidgets": {},
     "nuid": "8c02ed02-3f1d-40eb-9a8d-37a909ef9dba",
     "showTitle": false,
     "tableResultSettingsMap": {},
     "title": ""
    }
   },
   "source": [
    "# Data initialization for DLT expectation dashboard\n",
    "\n",
    "Run only once to reset the demo dashboard\n",
    "\n",
    "Let's load a couple of expectations to be able to build our dbsql dashboard."
   ]
  },
  {
   "cell_type": "code",
   "execution_count": 0,
   "metadata": {
    "application/vnd.databricks.v1+cell": {
     "cellMetadata": {
      "byteLimit": 2048000,
      "rowLimit": 10000
     },
     "inputWidgets": {},
     "nuid": "904be948-9ece-456d-89c5-c2c8cc9ed54f",
     "showTitle": false,
     "tableResultSettingsMap": {},
     "title": ""
    },
    "jupyter": {
     "outputs_hidden": true
    }
   },
   "outputs": [],
   "source": [
    "%run ./00-Loan-Data-Generator"
   ]
  },
  {
   "cell_type": "code",
   "execution_count": 0,
   "metadata": {
    "application/vnd.databricks.v1+cell": {
     "cellMetadata": {
      "byteLimit": 2048000,
      "rowLimit": 10000
     },
     "inputWidgets": {},
     "nuid": "f479c879-12bb-4777-8869-3504b685087a",
     "showTitle": false,
     "tableResultSettingsMap": {},
     "title": ""
    }
   },
   "outputs": [],
   "source": [
    "headers = \"\"\"id,dataset,name,passed_records,failed_records,status_update,dropped_records,output_records,timestamp\"\"\"\n",
    "data = \"\"\"ef810106-6251-4dae-b282-a99d75b34017,user_silver_dlt,valid_id,40000,400,COMPLETED,0,1000000,2021-10-02T14:05:00.000+0000\n",
    "5385937c-6c1e-4079-8002-bac0e1b9bc1a,user_gold_dlt,valid_age,40000,600,COMPLETED,600,100000,2021-10-02T14:05:00.000+0000\n",
    "5385937c-6c1e-4079-8002-bac0e1b9bc1a,user_gold_dlt,valid_score,30000,600,COMPLETED,600,100000,2021-10-02T14:05:00.000+0000\n",
    "5385937c-6c1e-4079-8002-bac0e1b9bc1a,user_gold_dlt,valid_income,30000,600,COMPLETED,600,100000,2021-10-02T14:05:00.000+0000\n",
    "c054f1c7-3765-49d6-aa76-debd6e76691c,spend_silver_dlt,valid_id,60000,124,COMPLETED,0,1000000,2021-10-03T14:06:00.000+0000\n",
    "c054f1c7-3765-49d6-aa76-debd6e76691c,users_bronze_dlt,correct_schema,60000,0,COMPLETED,0,1000000,2021-10-03T14:06:00.000+0000\n",
    "d5d76478-ff24-4bca-aede-c69f31b5b35e,user_silver_dlt,valid_id,50000,400,COMPLETED,0,1000000,2021-10-03T14:06:00.000+0000\n",
    "4b07c459-f414-492a-9f80-640a741c12c6,user_gold_dlt,valid_age,50000,600,COMPLETED,600,100000,2021-10-03T14:06:00.000+0000\n",
    "4b07c459-f414-492a-9f80-640a741c12c6,user_gold_dlt,valid_age,2000,26000,COMPLETED,26000,100000,2021-10-10T14:07:00.000+0000\n",
    "4b07c459-f414-492a-9f80-640a741c12c6,user_gold_dlt,valid_score,2000,26000,COMPLETED,26000,100000,2021-10-10T14:07:00.000+0000\n",
    "4b07c459-f414-492a-9f80-640a741c12c6,user_gold_dlt,valid_income,2000,26000,COMPLETED,26000,100000,2021-10-10T14:07:00.000+0000\n",
    "c054f1c7-3765-49d6-aa76-debd6e76691c,spend_silver_dlt,valid_id,1000,5000,COMPLETED,0,1000000,2021-10-11T14:07:00.000+0000\n",
    "c054f1c7-3765-49d6-aa76-debd6e76691c,users_bronze_dlt,correct_schema,3000,20000,COMPLETED,0,1000000,2021-10-11T14:07:00.000+0000\n",
    "d5d76478-ff24-4bca-aede-c69f31b5b35e,user_silver_dlt,valid_id,2000,44000,COMPLETED,0,1000000,2021-10-11T14:07:00.000+0000\n",
    "4b07c459-f414-492a-9f80-640a741c12c6,user_gold_dlt,valid_age,2000,36000,COMPLETED,36000,100000,2021-10-11T14:07:00.000+0000\n",
    "4b07c459-f414-492a-9f80-640a741c12c6,user_gold_dlt,valid_score,2000,36000,COMPLETED,36000,100000,2021-10-11T14:07:00.000+0000\n",
    "4b07c459-f414-492a-9f80-640a741c12c6,user_gold_dlt,valid_income,2000,36000,COMPLETED,36000,100000,2021-10-11T14:07:00.000+0000\n",
    "c054f1c7-3765-49d6-aa76-debd6e76691c,users_bronze_dlt,correct_schema,30000,2000,COMPLETED,0,1000000,2021-10-09T14:09:00.000+0000\n",
    "d5d76478-ff24-4bca-aede-c69f31b5b35e,user_silver_dlt,valid_id,20000,2400,COMPLETED,0,1000000,2021-10-09T14:09:00.000+0000\n",
    "4b07c459-f414-492a-9f80-640a741c12c6,user_gold_dlt,valid_age,20000,2600,COMPLETED,2600,100000,2021-10-09T14:09:00.000+0000\n",
    "4b07c459-f414-492a-9f80-640a741c12c6,user_gold_dlt,valid_score,20000,2600,COMPLETED,2600,100000,2021-10-09T14:09:00.000+0000\n",
    "4b07c459-f414-492a-9f80-640a741c12c6,user_gold_dlt,valid_income,20000,2600,COMPLETED,2600,100000,2021-10-09T14:09:00.000+0000\n",
    "c054f1c7-3765-49d6-aa76-debd6e76691c,spend_silver_dlt,valid_id,1000,5000,COMPLETED,0,1000000,2021-10-10T14:07:00.000+0000\n",
    "c054f1c7-3765-49d6-aa76-debd6e76691c,users_bronze_dlt,correct_schema,3000,20000,COMPLETED,0,1000000,2021-10-10T14:07:00.000+0000\n",
    "d5d76478-ff24-4bca-aede-c69f31b5b35e,user_silver_dlt,valid_id,2000,24000,COMPLETED,0,1000000,2021-10-10T14:07:00.000+0000\n",
    "c054f1c7-3765-49d6-aa76-debd6e76691c,spend_silver_dlt,valid_id,50000,246,COMPLETED,0,1000000,2021-10-05T14:05:00.000+0000\n",
    "c054f1c7-3765-49d6-aa76-debd6e76691c,users_bronze_dlt,correct_schema,50000,0,COMPLETED,0,1000000,2021-10-05T14:05:00.000+0000\n",
    "d5d76478-ff24-4bca-aede-c69f31b5b35e,user_silver_dlt,valid_id,40000,500,COMPLETED,0,1000000,2021-10-05T14:05:00.000+0000\n",
    "4b07c459-f414-492a-9f80-640a741c12c6,user_gold_dlt,valid_age,40000,700,COMPLETED,700,100000,2021-10-05T14:05:00.000+0000\n",
    "4b07c459-f414-492a-9f80-640a741c12c6,user_gold_dlt,valid_score,30000,700,COMPLETED,700,100000,2021-10-05T14:05:00.000+0000\n",
    "4b07c459-f414-492a-9f80-640a741c12c6,user_gold_dlt,valid_income,30000,700,COMPLETED,700,100000,2021-10-05T14:05:00.000+0000\n",
    "c054f1c7-3765-49d6-aa76-debd6e76691c,spend_silver_dlt,valid_id,60000,500,COMPLETED,0,1000000,2021-10-06T14:07:00.000+0000\n",
    "c054f1c7-3765-49d6-aa76-debd6e76691c,users_bronze_dlt,correct_schema,60000,0,COMPLETED,0,1000000,2021-10-06T14:07:00.000+0000\n",
    "d5d76478-ff24-4bca-aede-c69f31b5b35e,user_silver_dlt,valid_id,50000,400,COMPLETED,0,1000000,2021-10-06T14:07:00.000+0000\n",
    "4b07c459-f414-492a-9f80-640a741c12c6,user_gold_dlt,valid_income,60000,1600,COMPLETED,1600,100000,2021-10-07T14:02:00.000+0000\n",
    "c054f1c7-3765-49d6-aa76-debd6e76691c,spend_silver_dlt,valid_id,70000,500,COMPLETED,0,1000000,2021-10-08T14:09:00.000+0000\n",
    "c054f1c7-3765-49d6-aa76-debd6e76691c,users_bronze_dlt,correct_schema,70000,1000,COMPLETED,0,1000000,2021-10-08T14:09:00.000+0000\n",
    "d5d76478-ff24-4bca-aede-c69f31b5b35e,user_silver_dlt,valid_id,60000,1400,COMPLETED,0,1000000,2021-10-08T14:09:00.000+0000\n",
    "4b07c459-f414-492a-9f80-640a741c12c6,user_gold_dlt,valid_age,60000,1600,COMPLETED,1600,100000,2021-10-08T14:09:00.000+0000\n",
    "4b07c459-f414-492a-9f80-640a741c12c6,user_gold_dlt,valid_score,60000,1600,COMPLETED,1600,100000,2021-10-08T14:09:00.000+0000\n",
    "4b07c459-f414-492a-9f80-640a741c12c6,user_gold_dlt,valid_income,60000,1600,COMPLETED,1600,100000,2021-10-08T14:09:00.000+0000\n",
    "c054f1c7-3765-49d6-aa76-debd6e76691c,spend_silver_dlt,valid_id,30000,500,COMPLETED,0,1000000,2021-10-09T14:09:00.000+0000\n",
    "4b07c459-f414-492a-9f80-640a741c12c6,user_gold_dlt,valid_age,50000,600,COMPLETED,600,100000,2021-10-06T14:07:00.000+0000\n",
    "4b07c459-f414-492a-9f80-640a741c12c6,user_gold_dlt,valid_score,40000,600,COMPLETED,600,100000,2021-10-06T14:07:00.000+0000\n",
    "4b07c459-f414-492a-9f80-640a741c12c6,user_gold_dlt,valid_income,40000,600,COMPLETED,600,100000,2021-10-06T14:07:00.000+0000\n",
    "c054f1c7-3765-49d6-aa76-debd6e76691c,spend_silver_dlt,valid_id,70000,500,COMPLETED,0,1000000,2021-10-07T14:02:00.000+0000\n",
    "c054f1c7-3765-49d6-aa76-debd6e76691c,users_bronze_dlt,correct_schema,70000,1000,COMPLETED,0,1000000,2021-10-07T14:02:00.000+0000\n",
    "d5d76478-ff24-4bca-aede-c69f31b5b35e,user_silver_dlt,valid_id,60000,1400,COMPLETED,0,1000000,2021-10-07T14:02:00.000+0000\n",
    "4b07c459-f414-492a-9f80-640a741c12c6,user_gold_dlt,valid_age,60000,1600,COMPLETED,1600,100000,2021-10-07T14:02:00.000+0000\n",
    "4b07c459-f414-492a-9f80-640a741c12c6,user_gold_dlt,valid_score,60000,1600,COMPLETED,1600,100000,2021-10-07T14:02:00.000+0000\n",
    "4b07c459-f414-492a-9f80-640a741c12c6,user_gold_dlt,valid_score,40000,600,COMPLETED,600,100000,2021-10-03T14:06:00.000+0000\n",
    "4b07c459-f414-492a-9f80-640a741c12c6,user_gold_dlt,valid_income,40000,600,COMPLETED,600,100000,2021-10-03T14:06:00.000+0000\n",
    "c054f1c7-3765-49d6-aa76-debd6e76691c,spend_silver_dlt,valid_id,50000,120,COMPLETED,0,1000000,2021-10-04T14:08:00.000+0000\n",
    "c054f1c7-3765-49d6-aa76-debd6e76691c,users_bronze_dlt,correct_schema,50000,0,COMPLETED,0,1000000,2021-10-04T14:08:00.000+0000\n",
    "d5d76478-ff24-4bca-aede-c69f31b5b35e,user_silver_dlt,valid_id,40000,200,COMPLETED,0,1000000,2021-10-04T14:08:00.000+0000\n",
    "4b07c459-f414-492a-9f80-640a741c12c6,user_gold_dlt,valid_age,40000,300,COMPLETED,300,100000,2021-10-04T14:08:00.000+0000\n",
    "4b07c459-f414-492a-9f80-640a741c12c6,user_gold_dlt,valid_score,30000,300,COMPLETED,300,100000,2021-10-04T14:08:00.000+0000\n",
    "4b07c459-f414-492a-9f80-640a741c12c6,user_gold_dlt,valid_income,30000,300,COMPLETED,300,100000,2021-10-04T14:08:00.000+0000\n",
    "0ddbf700-31af-11ec-93be-00163e375cb1,spend_silver_dlt,valid_id,100000,112,COMPLETED,0,1000000,2021-10-01T14:05:00.000+0000\n",
    "0f0d7220-31af-11ec-93be-00163e375cb1,users_bronze_dlt,correct_schema,100000,0,COMPLETED,0,1000000,2021-10-01T14:05:00.000+0000\n",
    "149500f0-31af-11ec-93be-00163e375cb1,user_silver_dlt,valid_id,999999,335,COMPLETED,0,1000000,2021-10-01T14:05:00.000+0000\n",
    "1b43d1b0-31af-11ec-93be-00163e375cb1,user_gold_dlt,valid_age,100000,1005,COMPLETED,1005,100000,2021-10-01T14:05:00.000+0000\n",
    "1b43d1b0-31af-11ec-93be-00163e375cb1,user_gold_dlt,valid_score,100000,1005,COMPLETED,1005,100000,2021-10-01T14:05:00.000+0000\n",
    "1b43d1b0-31af-11ec-93be-00163e375cb1,user_gold_dlt,valid_income,100000,1005,COMPLETED,1005,100000,2021-10-01T14:05:00.000+0000\n",
    "d1ed9c4c-0fda-4ccc-b57f-aef51fc0a73f  ,spend_silver_dlt,valid_id,50000,124,COMPLETED,0,1000000,2021-10-02T14:05:00.000+0000\n",
    "d1ed9c4c-0fda-4ccc-b57f-aef51fc0a73f  ,users_bronze_dlt,correct_schema,50000,0,COMPLETED,0,1000000,2021-10-02T14:05:00.000+0000\"\"\""
   ]
  },
  {
   "cell_type": "code",
   "execution_count": 0,
   "metadata": {
    "application/vnd.databricks.v1+cell": {
     "cellMetadata": {
      "byteLimit": 2048000,
      "rowLimit": 10000
     },
     "inputWidgets": {},
     "nuid": "350fbe5b-c5a8-4d7a-89c4-0c47725e1e94",
     "showTitle": false,
     "tableResultSettingsMap": {},
     "title": ""
    }
   },
   "outputs": [],
   "source": [
    "import pyspark.sql.functions as F\n",
    "expectations = [d.split(\",\") for d in data.split(\"\\n\")]\n",
    "spark.createDataFrame(expectations, headers.split(\",\")) \\\n",
    "  .withColumn(\"passed_records\", F.col(\"passed_records\").cast(\"int\")) \\\n",
    "  .withColumn(\"output_records\", F.col(\"output_records\").cast(\"int\")) \\\n",
    "  .withColumn(\"timestamp\", F.to_timestamp(\"timestamp\")) \\\n",
    "  .withColumn(\"dropped_records\", F.col(\"dropped_records\").cast(\"int\")).write.mode(\"overwrite\").option(\"overwriteSchema\", \"true\").saveAsTable(\"dlt_expectations\")"
   ]
  },
  {
   "cell_type": "code",
   "execution_count": 0,
   "metadata": {
    "application/vnd.databricks.v1+cell": {
     "cellMetadata": {
      "byteLimit": 2048000,
      "implicitDf": true,
      "rowLimit": 10000
     },
     "inputWidgets": {},
     "nuid": "1dcc9250-292c-4cba-b7f3-b9cd4e462549",
     "showTitle": false,
     "tableResultSettingsMap": {},
     "title": ""
    }
   },
   "outputs": [],
   "source": [
    "%sql\n",
    "alter table dlt_expectations set tblproperties (delta.autoOptimize.optimizeWrite = true, delta.autoOptimize.autoCompact = true)"
   ]
  }
 ],
 "metadata": {
  "application/vnd.databricks.v1+notebook": {
   "computePreferences": null,
   "dashboards": [],
   "environmentMetadata": {
    "environment_version": "2"
   },
   "language": "python",
   "notebookMetadata": {
    "mostRecentlyExecutedCommandWithImplicitDF": {
     "commandId": 2924067204928369,
     "dataframes": [
      "_sqldf"
     ]
    },
    "pythonIndentUnit": 4
   },
   "notebookName": "01-load-data-quality-dashboard",
   "widgets": {}
  },
  "language_info": {
   "name": "python"
  }
 },
 "nbformat": 4,
 "nbformat_minor": 0
}
