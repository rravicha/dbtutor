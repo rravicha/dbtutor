{
 "cells": [
  {
   "cell_type": "markdown",
   "metadata": {
    "application/vnd.databricks.v1+cell": {
     "cellMetadata": {},
     "inputWidgets": {},
     "nuid": "817733ca-c0a9-496b-b1ea-2f6731b8e91b",
     "showTitle": false,
     "tableResultSettingsMap": {},
     "title": ""
    }
   },
   "source": [
    "\n",
    "# ![Delta Lake Tiny Logo](https://pages.databricks.com/rs/094-YMS-629/images/delta-lake-tiny-logo.png)  3/ GOLD table: extract the sessions\n",
    "\n",
    "<img style=\"float:right; height: 250px; margin: 0px 30px 0px 30px\" src=\"https://raw.githubusercontent.com/databricks-demos/dbdemos-resources/main/images/product/streaming-sessionization/session_diagram.png\">\n",
    "\n",
    "### Why is this a challenge?\n",
    "Because we don't have any event to flag the user disconnection, detecting the end of the session is hard. After 10 minutes without any events, we want to be notified that the session has ended.\n",
    "However, spark will only react on event, not the absence of event.\n",
    "\n",
    "Thanksfully, Spark Structured Streaming has the concept of timeout. \n",
    "\n",
    "**We can set a 10 minutes timeout in the state engine** and be notified 10 minutes later in order to close the session\n",
    "\n",
    "<!-- Collect usage data (view). Remove it to disable collection or disable tracker during installation. View README for more details.  -->\n",
    "<img width=\"1px\" src=\"https://ppxrzfxige.execute-api.us-west-2.amazonaws.com/v1/analytics?category=data-engineering&org_id=4214571749987147&notebook=%2F03-Delta-session-GOLD&demo_name=streaming-sessionization&event=VIEW&path=%2F_dbdemos%2Fdata-engineering%2Fstreaming-sessionization%2F03-Delta-session-GOLD&version=1\">"
   ]
  },
  {
   "cell_type": "code",
   "execution_count": 0,
   "metadata": {
    "application/vnd.databricks.v1+cell": {
     "cellMetadata": {},
     "inputWidgets": {},
     "nuid": "87373923-c868-4ece-bc2f-3052ed13522b",
     "showTitle": false,
     "tableResultSettingsMap": {},
     "title": ""
    },
    "jupyter": {
     "outputs_hidden": true
    }
   },
   "outputs": [],
   "source": [
    "%run ./_resources/00-setup $reset_all_data=false"
   ]
  },
  {
   "cell_type": "markdown",
   "metadata": {
    "application/vnd.databricks.v1+cell": {
     "cellMetadata": {},
     "inputWidgets": {},
     "nuid": "e5bcffbe-a93f-45d6-a2b9-8a984d0c1941",
     "showTitle": false,
     "tableResultSettingsMap": {},
     "title": ""
    }
   },
   "source": [
    "\n",
    "### Implementing the aggregation function to update our Session\n",
    "\n",
    "In this simple example, we'll just be counting the number of click in the session."
   ]
  },
  {
   "cell_type": "code",
   "execution_count": 0,
   "metadata": {
    "application/vnd.databricks.v1+cell": {
     "cellMetadata": {},
     "inputWidgets": {},
     "nuid": "0a40b9a1-ad35-49ff-98cd-8b1a335e2534",
     "showTitle": false,
     "tableResultSettingsMap": {},
     "title": ""
    }
   },
   "outputs": [],
   "source": [
    "from typing import Tuple, Iterator\n",
    "from pyspark.sql.streaming.state import GroupState, GroupStateTimeout\n",
    "\n",
    "DBDemos.wait_for_table(\"events\") #Wait until the previous table is created to avoid error if all notebooks are started at once\n",
    "\n",
    "\n",
    "#If we don't have activity after 30sec, close the session\n",
    "max_session_duration = 30000\n",
    "def func(\n",
    "    key: Tuple[str], events: Iterator[pd.DataFrame], state: GroupState\n",
    ") -> Iterator[pd.DataFrame]:\n",
    "  (user_id,) = key\n",
    "  print(user_id)\n",
    "  if state.exists:\n",
    "    (user_id, click_count, start_time, end_time) = state.get\n",
    "  else:\n",
    "    click_count = 0\n",
    "    start_time = sys.maxsize\n",
    "    end_time = 0\n",
    "  state.getOption\n",
    "  if state.hasTimedOut:\n",
    "    #Drop the session from the state and emit a final offline session update (end of the session)\n",
    "    state.remove() \n",
    "    yield pd.DataFrame({\"user_id\": [user_id], \"click_count\": [click_count], \"start_time\": [start_time], \"end_time\": [end_time],  \"status\": [\"offline\"]})\n",
    "  else:\n",
    "    # as we can receive out-of-order events, we need to get the min/max date and the sum\n",
    "    for df in events:\n",
    "      start_time = min(start_time, df['event_date'].min())\n",
    "      end_time = max(df['event_date'].max(), end_time)\n",
    "      click_count += len(df)\n",
    "    #update the state with the new values\n",
    "    state.update((user_id, int(click_count), int(start_time), int(end_time)))\n",
    "    # Set the timeout as max_session_duration seconds.\n",
    "    state.setTimeoutDuration(max_session_duration)\n",
    "    #compute the status to flag offline session in case of restart\n",
    "    now = int(time.time())\n",
    "    status = \"offline\" if end_time >= now - max_session_duration else \"online\"\n",
    "    #emit the change. We could also yield an empty dataframe if we only want to emit when the session is closed: yield pd.DataFrame()\n",
    "    yield pd.DataFrame({\"user_id\": [user_id], \"click_count\": [click_count], \"start_time\": [start_time], \"end_time\": [end_time],  \"status\": [status]})\n",
    "\n",
    "\n",
    "output_schema = \"user_id STRING, click_count LONG, start_time LONG, end_time LONG, status STRING\"\n",
    "state_schema = \"user_id STRING, click_count LONG, start_time LONG, end_time LONG\"\n",
    "\n",
    "sessions = spark.readStream.table(\"events\").groupBy(F.col(\"user_id\")).applyInPandasWithState(\n",
    "    func,\n",
    "    output_schema,\n",
    "    state_schema,\n",
    "    \"append\",\n",
    "    GroupStateTimeout.ProcessingTimeTimeout)\n",
    "\n",
    "display(sessions, checkpointLocation = get_chkp_folder())"
   ]
  },
  {
   "cell_type": "markdown",
   "metadata": {
    "application/vnd.databricks.v1+cell": {
     "cellMetadata": {},
     "inputWidgets": {},
     "nuid": "22dee7f9-1111-4d4e-88ac-ed2a54e3b048",
     "showTitle": false,
     "tableResultSettingsMap": {},
     "title": ""
    }
   },
   "source": [
    "# Updating the session table with number of clicks and end/start time\n",
    "\n",
    "We want to have the session information in real time for each user. \n",
    "\n",
    "To do that, we'll create a Session table. Everytime we update the state, we'll UPSERT the session information:\n",
    "\n",
    "- if the session doesn't exist, we add it\n",
    "- if it exists, we update it with the new count and potential new status\n",
    "\n",
    "This can easily be done with a MERGE operation using Delta and calling `foreachBatch`"
   ]
  },
  {
   "cell_type": "code",
   "execution_count": 0,
   "metadata": {
    "application/vnd.databricks.v1+cell": {
     "cellMetadata": {},
     "inputWidgets": {},
     "nuid": "421ada06-7fc0-4bb7-9ddc-3ef98bd95027",
     "showTitle": false,
     "tableResultSettingsMap": {},
     "title": ""
    }
   },
   "outputs": [],
   "source": [
    "from delta.tables import DeltaTable\n",
    "\n",
    "def upsert_sessions(df, epoch_id):\n",
    "  #Create the table if it's the first time (we need it to be able to perform the merge)\n",
    "  if epoch_id == 0 and not spark._jsparkSession.catalog().tableExists('sessions'):\n",
    "    df.limit(0).write.option('mergeSchema', 'true').mode('append').saveAsTable('sessions')\n",
    "\n",
    "  (DeltaTable.forName(spark, \"sessions\").alias(\"s\").merge(\n",
    "    source = df.alias(\"u\"),\n",
    "    condition = \"s.user_id = u.user_id\")\n",
    "  .whenMatchedUpdateAll()\n",
    "  .whenNotMatchedInsertAll()\n",
    "  .execute())\n",
    "  \n",
    "(sessions.writeStream\n",
    "  .option(\"checkpointLocation\", volume_folder+\"/checkpoints/sessions\")\n",
    "  .foreachBatch(upsert_sessions)\n",
    "  .start())\n",
    "\n",
    "DBDemos.wait_for_table(\"sessions\")"
   ]
  },
  {
   "cell_type": "code",
   "execution_count": 0,
   "metadata": {
    "application/vnd.databricks.v1+cell": {
     "cellMetadata": {},
     "inputWidgets": {},
     "nuid": "497fc399-7391-4855-802e-bba3c6839116",
     "showTitle": false,
     "tableResultSettingsMap": {},
     "title": ""
    }
   },
   "outputs": [],
   "source": [
    "%sql SELECT * FROM sessions"
   ]
  },
  {
   "cell_type": "code",
   "execution_count": 0,
   "metadata": {
    "application/vnd.databricks.v1+cell": {
     "cellMetadata": {},
     "inputWidgets": {},
     "nuid": "39abb09d-1f6b-42ab-b76e-783e3521ecad",
     "showTitle": false,
     "tableResultSettingsMap": {},
     "title": ""
    }
   },
   "outputs": [],
   "source": [
    "%sql SELECT CAST(avg(end_time - start_time) as INT) average_session_duration FROM sessions"
   ]
  },
  {
   "cell_type": "code",
   "execution_count": 0,
   "metadata": {
    "application/vnd.databricks.v1+cell": {
     "cellMetadata": {},
     "inputWidgets": {},
     "nuid": "15896c6b-6e81-4d8e-bb64-a2dcc4889066",
     "showTitle": true,
     "tableResultSettingsMap": {},
     "title": "Stop all the streams "
    }
   },
   "outputs": [],
   "source": [
    "DBDemos.stop_all_streams(sleep_time=120)"
   ]
  },
  {
   "cell_type": "markdown",
   "metadata": {
    "application/vnd.databricks.v1+cell": {
     "cellMetadata": {},
     "inputWidgets": {},
     "nuid": "b977bc90-ea6d-4b45-b5c8-0ff5a826caf5",
     "showTitle": false,
     "tableResultSettingsMap": {},
     "title": ""
    }
   },
   "source": [
    "### We now have our sessions stream running!\n",
    "\n",
    "We can set the output of this streaming job to a SQL database or another queuing system.\n",
    "\n",
    "We'll be able to automatically detect cart abandonments in our website and send an email to our customers, our maybe just give them a call asking if they need some help! "
   ]
  }
 ],
 "metadata": {
  "application/vnd.databricks.v1+notebook": {
   "computePreferences": null,
   "dashboards": [],
   "environmentMetadata": {
    "environment_version": "2"
   },
   "language": "python",
   "notebookMetadata": {
    "pythonIndentUnit": 2
   },
   "notebookName": "03-Delta-session-GOLD",
   "widgets": {}
  },
  "language_info": {
   "name": "python"
  }
 },
 "nbformat": 4,
 "nbformat_minor": 0
}
