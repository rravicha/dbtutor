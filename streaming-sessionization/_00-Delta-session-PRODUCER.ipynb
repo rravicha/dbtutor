{
 "cells": [
  {
   "cell_type": "code",
   "execution_count": 0,
   "metadata": {
    "application/vnd.databricks.v1+cell": {
     "cellMetadata": {},
     "inputWidgets": {},
     "nuid": "c0b460d5-6ee2-484a-93bf-77c5ec0d5df0",
     "showTitle": false,
     "tableResultSettingsMap": {},
     "title": ""
    }
   },
   "outputs": [],
   "source": [
    "dbutils.widgets.text(\"produce_time_sec\", \"300\", \"How long we'll produce data (sec)\")"
   ]
  },
  {
   "cell_type": "markdown",
   "metadata": {
    "application/vnd.databricks.v1+cell": {
     "cellMetadata": {},
     "inputWidgets": {},
     "nuid": "aa1b660e-2ced-4c30-826f-87ae91163dad",
     "showTitle": false,
     "tableResultSettingsMap": {},
     "title": ""
    }
   },
   "source": [
    "#Kafka producer\n",
    "\n",
    "Use this producer to create a stream of fake user in your website and sends the message to kafka, live.\n",
    "\n",
    "Run all the cells, once. Currently requires to run on a cluster with instance profile allowing kafka connection (one-env, aws).\n",
    "\n",
    "<!-- Collect usage data (view). Remove it to disable collection or disable tracker during installation. View README for more details.  -->\n",
    "<img width=\"1px\" src=\"https://ppxrzfxige.execute-api.us-west-2.amazonaws.com/v1/analytics?category=data-engineering&org_id=4214571749987147&notebook=%2F_00-Delta-session-PRODUCER&demo_name=streaming-sessionization&event=VIEW&path=%2F_dbdemos%2Fdata-engineering%2Fstreaming-sessionization%2F_00-Delta-session-PRODUCER&version=1\">"
   ]
  },
  {
   "cell_type": "code",
   "execution_count": 0,
   "metadata": {
    "application/vnd.databricks.v1+cell": {
     "cellMetadata": {},
     "inputWidgets": {},
     "nuid": "074f4f94-df9f-46c7-ada6-65410eea9b2d",
     "showTitle": false,
     "tableResultSettingsMap": {},
     "title": ""
    }
   },
   "outputs": [],
   "source": [
    "%pip install faker confluent-kafka"
   ]
  },
  {
   "cell_type": "code",
   "execution_count": 0,
   "metadata": {
    "application/vnd.databricks.v1+cell": {
     "cellMetadata": {},
     "inputWidgets": {},
     "nuid": "ec498b1c-e426-47b7-b69c-81dc85ffc84f",
     "showTitle": false,
     "tableResultSettingsMap": {},
     "title": ""
    }
   },
   "outputs": [],
   "source": [
    "from confluent_kafka import Producer\n",
    "import json\n",
    "import random\n",
    "\n",
    "kafka_bootstrap_servers_tls = \"b-1.oneenvkafka.fso631.c14.kafka.us-west-2.amazonaws.com:9092,b-2.oneenvkafka.fso631.c14.kafka.us-west-2.amazonaws.com:9092,b-3.oneenvkafka.fso631.c14.kafka.us-west-2.amazonaws.com:9092\"\n",
    "#kafka_bootstrap_servers_tls = \"<Replace by your own kafka servers>\"\n",
    "# Also make sure to have the proper instance profile to allow the access if you're on AWS.\n",
    "\n",
    "conf = {\n",
    "    'bootstrap.servers': kafka_bootstrap_servers_tls}\n",
    "\n",
    "producer = Producer(conf)\n",
    "\n",
    "def delivery_report(err, msg):\n",
    "    \"\"\"Callback for delivery reports.\"\"\"\n",
    "    if err is not None:\n",
    "        print(f\"Message delivery failed: {err}\")\n",
    "    else:\n",
    "        print(f\"Message delivered to {msg.topic()} [{msg.partition()}]\")\n",
    "\n",
    "def send_message(event, topic = 'dbdemos-sessions'):\n",
    "    event_json = json.dumps(event)\n",
    "    producer.produce(topic, value=event_json, callback=delivery_report)\n",
    "    producer.poll(0)  # Trigger delivery report callbacks\n",
    "\n",
    "    # Simulate duplicate events to test deduplication\n",
    "    if random.uniform(0, 1) > 0.96:\n",
    "        producer.produce(topic, value=event_json, callback=delivery_report)\n",
    "        producer.poll(0)\n",
    "    producer.flush()\n",
    "\n",
    "#send_message({\"test\": \"toto\"},  'test')"
   ]
  },
  {
   "cell_type": "code",
   "execution_count": 0,
   "metadata": {
    "application/vnd.databricks.v1+cell": {
     "cellMetadata": {},
     "inputWidgets": {},
     "nuid": "3d494319-2a54-421a-a6bd-33606c8f0824",
     "showTitle": false,
     "tableResultSettingsMap": {},
     "title": ""
    }
   },
   "outputs": [],
   "source": [
    "import re\n",
    "from faker import Faker\n",
    "from collections import OrderedDict \n",
    "from random import randrange\n",
    "import time\n",
    "import uuid\n",
    "fake = Faker()\n",
    "import random\n",
    "import json\n",
    "\n",
    "platform = OrderedDict([(\"ios\", 0.5),(\"android\", 0.1),(\"other\", 0.3),(None, 0.01)])\n",
    "action_type = OrderedDict([(\"view\", 0.5),(\"log\", 0.1),(\"click\", 0.3),(None, 0.01)])\n",
    "\n",
    "def create_event(user_id, timestamp):\n",
    "  fake_platform = fake.random_elements(elements=platform, length=1)[0]\n",
    "  fake_action = fake.random_elements(elements=action_type, length=1)[0]\n",
    "  fake_uri = re.sub(r'https?:\\/\\/.*?\\/', \"https://databricks.com/\", fake.uri())\n",
    "  #adds some noise in the timestamp to simulate out-of order events\n",
    "  timestamp = timestamp + randrange(10)-5\n",
    "  #event id with 2% of null event to have some errors/cleanup\n",
    "  fake_id = str(uuid.uuid4()) if random.uniform(0, 1) < 0.98 else None\n",
    "  return {\"user_id\": user_id, \"platform\": fake_platform, \"event_id\": fake_id, \"event_date\": timestamp, \"action\": fake_action, \"uri\": fake_uri}\n",
    "\n",
    "print(create_event(str(uuid.uuid4()), int(time.time())))"
   ]
  },
  {
   "cell_type": "code",
   "execution_count": 0,
   "metadata": {
    "application/vnd.databricks.v1+cell": {
     "cellMetadata": {},
     "inputWidgets": {},
     "nuid": "0fe30cce-a3f8-4f01-a9e7-83dbfb474b2d",
     "showTitle": false,
     "tableResultSettingsMap": {},
     "title": ""
    }
   },
   "outputs": [],
   "source": [
    "users = {}\n",
    "#How long it'll produce messages\n",
    "produce_time_sec = int(dbutils.widgets.get(\"produce_time_sec\"))\n",
    "#How many new users join the website per second\n",
    "user_creation_rate = 2\n",
    "#Max duration a user stays in the website (after this time user will stop producing events)\n",
    "user_max_duration_time = 120\n",
    "\n",
    "for _ in range(produce_time_sec):\n",
    "  #print(len(users))\n",
    "  for id in list(users.keys()):\n",
    "    user = users[id]\n",
    "    now = int(time.time())\n",
    "    if (user['end_date'] < now):\n",
    "      del users[id]\n",
    "      #print(f\"User {id} removed\")\n",
    "    else:\n",
    "      #10% chance to click on something\n",
    "      if (randrange(100) > 80):\n",
    "        event = create_event(id, now)\n",
    "        send_message(event)\n",
    "        #print(f\"User {id} sent event {event}\")\n",
    "        \n",
    "  #Re-create new users\n",
    "  for i in range(user_creation_rate):\n",
    "    #Add new user\n",
    "    user_id = str(uuid.uuid4())\n",
    "    now = int(time.time())\n",
    "    #end_date is when the user will leave and the session stops (so max user_max_duration_time sec and then leaves the website)\n",
    "    user = {\"id\": user_id, \"creation_date\": now, \"end_date\": now + randrange(user_max_duration_time) }\n",
    "    users[user_id] = user\n",
    "    #print(f\"User {user_id} created\")\n",
    "  time.sleep(1)\n",
    "\n",
    "\n",
    "# Ensure all messages are delivered before exiting\n",
    "producer.flush()"
   ]
  }
 ],
 "metadata": {
  "application/vnd.databricks.v1+notebook": {
   "computePreferences": null,
   "dashboards": [],
   "environmentMetadata": {
    "environment_version": "2"
   },
   "language": "python",
   "notebookMetadata": {
    "pythonIndentUnit": 2
   },
   "notebookName": "_00-Delta-session-PRODUCER",
   "widgets": {}
  },
  "language_info": {
   "name": "python"
  }
 },
 "nbformat": 4,
 "nbformat_minor": 0
}
