{
 "cells": [
  {
   "cell_type": "markdown",
   "metadata": {
    "application/vnd.databricks.v1+cell": {
     "cellMetadata": {},
     "inputWidgets": {},
     "nuid": "0df5583f-d38b-4a4b-9dc8-a78e1c4ca6e1",
     "showTitle": false,
     "tableResultSettingsMap": {},
     "title": ""
    }
   },
   "source": [
    "\n",
    "# Streaming on Databricks with Spark and Delta Lake - Scala version\n",
    "\n",
    "**Scala version:** This notebook implement the same logic as [the python]($../01-Delta-session-BRONZE), but using Scala.\n",
    "\n",
    "Streaming on Databricks is greatly simplified using Delta Live Table (DLT). <br/>\n",
    "DLT lets you write your entire data pipeline, supporting streaming transformation using SQL or python and removing all the technical challenges.\n",
    "\n",
    "We strongly recommend implementing your pipelines using DLT as this will allow for much robust pipelines, enforcing data quality and greatly accelerating project delivery.<br/>\n",
    "*For a DLT example, please install `dbdemos.install('dlt-loans')` or the C360 Lakehouse demo: `dbdemos.install('lakehouse-retail-churn')`*\n",
    "\n",
    "Spark Streaming API offers lower-level primitive offering more advanced control, such as `foreachBatch` and custom streaming operation with `applyInPandasWithState`.\n",
    "\n",
    "Some advanced use-case can be implemented using these APIs, and this is what we'll focus on.\n",
    "\n",
    "## Building a sessionization stream with Delta Lake and Spark Streaming\n",
    "\n",
    "### What's sessionization?\n",
    "<div style=\"float:right\" ><img src=\"https://raw.githubusercontent.com/databricks-demos/dbdemos-resources/main/images/product/streaming-sessionization/session_diagram.png\" style=\"height: 200px; margin:0px 0px 0px 10px\"/></div>\n",
    "\n",
    "Sessionization is the process of finding time-bounded user session from a flow of event, grouping all events happening around the same time (ex: number of clicks, pages most view etc)\n",
    "\n",
    "When there is a temporal gap greater than X minute, we decide to split the session in 2 distinct sessions\n",
    "\n",
    "### Why is that important?\n",
    "\n",
    "Understanding sessions is critical for a lot of use cases:\n",
    "\n",
    "- Detect cart abandonment in your online shot, and automatically trigger marketing actions as follow-up to increase your sales\n",
    "- Build better attribution model for your affiliation, based on the user actions during each session \n",
    "- Understand user journey in your website, and provide better experience to increase your user retention\n",
    "- ...\n",
    "\n",
    "\n",
    "### Sessionization with Spark & Delta\n",
    "\n",
    "Sessionization can be done in many ways. SQL windowing is often used but quickly become too restricted for complex use-case. \n",
    "\n",
    "Instead, we'll be using the following Delta Architecture:\n",
    "\n",
    "<img src=\"https://raw.githubusercontent.com/databricks-demos/dbdemos-resources/main/images/product/streaming-sessionization/sessionization.png\" width=\"1200px\">\n",
    "\n",
    "Being able to process and aggregate your sessions in a Batch and Streaming fashion can be a real challenge, especially when updates are required in your historical data!\n",
    "\n",
    "Thankfully, Delta and Spark can simplify our job, using Spark Streaming function with a custom stateful operation (`flatMapGroupsWithState` operator), in a streaming and batch fashion.\n",
    "\n",
    "Let's build our Session job to detect cart abandonment !\n",
    "\n",
    "\n",
    "*Note: again, this is an advanced demo - if you're starting with Databricks and are looking for a simple streaming pipeline we recommand going with DLT instead.*\n",
    "\n",
    "<!-- tracking, please Collect usage data (view). Remove it to disable collection. View README for more details.  -->\n",
    "<img width=\"1px\" src=\"https://ppxrzfxige.execute-api.us-west-2.amazonaws.com/v1/analytics?category=data-engineering&org_id=4214571749987147&notebook=%2Fscala%2F01-Delta-session-BRONZE-scala&demo_name=streaming-sessionization&event=VIEW&path=%2F_dbdemos%2Fdata-engineering%2Fstreaming-sessionization%2Fscala%2F01-Delta-session-BRONZE-scala&version=1\">"
   ]
  },
  {
   "cell_type": "code",
   "execution_count": 0,
   "metadata": {
    "application/vnd.databricks.v1+cell": {
     "cellMetadata": {},
     "inputWidgets": {},
     "nuid": "fa23bd1f-a4b0-4896-a37a-fcd19b09c9a5",
     "showTitle": false,
     "tableResultSettingsMap": {},
     "title": ""
    },
    "jupyter": {
     "outputs_hidden": true
    }
   },
   "outputs": [],
   "source": [
    "%run ../_resources/00-setup-scala $reset_all_data=false"
   ]
  },
  {
   "cell_type": "markdown",
   "metadata": {
    "application/vnd.databricks.v1+cell": {
     "cellMetadata": {},
     "inputWidgets": {},
     "nuid": "d23f993c-3945-4d64-9799-2d8e384b05b1",
     "showTitle": false,
     "tableResultSettingsMap": {},
     "title": ""
    }
   },
   "source": [
    "\n",
    "## ![](https://pages.databricks.com/rs/094-YMS-629/images/delta-lake-tiny-logo.png) 1/ Bronze table: store the stream as Delta Lake table\n",
    "\n",
    "<img style=\"float:right; height: 250px; margin: 0px 30px 0px 30px\" src=\"https://raw.githubusercontent.com/databricks-demos/dbdemos-resources/main/images/product/streaming-sessionization/sessionization_bronze.png\">\n",
    "\n",
    "\n",
    "The first step is to consume data from our streaming engine (Kafka, Kinesis, Pulsar etc.) and save it in our Data Lake.\n",
    "\n",
    "We won't be doing any transformation, the goal is to be able to re-process all the data and change/improve the downstream logic when needed\n",
    "\n",
    "#### Solving small files and compaction issues\n",
    "\n",
    "Everytime we capture kafka events, they'll be stored in our table and this will create new files. After several days, we'll endup with millions of small files leading to performance issues.<br/>\n",
    "Databricks solves that with autoOptimize & autoCompact, 2 properties to set at the table level.\n",
    "\n",
    "*Note that if the table isn't created with all the columns. The engine will automatically add the new column from kafka at write time, merging the schema gracefuly*"
   ]
  },
  {
   "cell_type": "code",
   "execution_count": 0,
   "metadata": {
    "application/vnd.databricks.v1+cell": {
     "cellMetadata": {},
     "inputWidgets": {},
     "nuid": "32f512a9-f6af-4309-be0d-8eaf185d9ddb",
     "showTitle": true,
     "tableResultSettingsMap": {},
     "title": "Create the table events_raw"
    }
   },
   "outputs": [],
   "source": [
    "%sql\n",
    "CREATE TABLE IF NOT EXISTS events_raw (key string, value string) TBLPROPERTIES (delta.autoOptimize.optimizeWrite = true, delta.autoOptimize.autoCompact = true);"
   ]
  },
  {
   "cell_type": "code",
   "execution_count": 0,
   "metadata": {
    "application/vnd.databricks.v1+cell": {
     "cellMetadata": {},
     "inputWidgets": {},
     "nuid": "c6eca3b4-a76c-40f6-bfea-67116dfda0bb",
     "showTitle": true,
     "tableResultSettingsMap": {},
     "title": "Read messages from Kafka and save them as events_raw"
    }
   },
   "outputs": [],
   "source": [
    "//NOTE: the demo runs with Kafka, and dbdemos doesn't publically expose its demo kafka servers. Use your own IPs to run the demo properly\n",
    "val kafkaBootstrapServersTLS = \"b-1.oneenvkafka.fso631.c14.kafka.us-west-2.amazonaws.com:9092,b-2.oneenvkafka.fso631.c14.kafka.us-west-2.amazonaws.com:9092,b-3.oneenvkafka.fso631.c14.kafka.us-west-2.amazonaws.com:9092\"\n",
    "//val kafkaBootstrapServersTLS = \"<Replace by your own kafka servers>\"\n",
    "\n",
    "val stream = spark\n",
    "  .readStream\n",
    "  // === Configurations for Kafka streams ===\n",
    "  .format(\"kafka\")\n",
    "  .option(\"kafka.bootstrap.servers\", kafkaBootstrapServersTLS) \n",
    "  .option(\"kafka.security.protocol\", \"PLAINTEXT\") //SSL\n",
    "  .option(\"subscribe\", \"dbdemos-sessions\") // kafka topic\n",
    "  .option(\"startingOffsets\", \"latest\") // Consume messages from the end\n",
    "  .option(\"maxOffsetsPerTrigger\", \"10000\") // Control ingestion rate - backpressure\n",
    "  .option(\"ignoreChanges\", \"true\")\n",
    "  .load()\n",
    "  .withColumn(\"key\", $\"key\".cast(\"string\"))\n",
    "  .withColumn(\"value\", $\"value\".cast(\"string\"))\n",
    "  .writeStream\n",
    "  // === Write to the delta table ===\n",
    "  .format(\"delta\")\n",
    "  .trigger(Trigger.ProcessingTime(\"20 seconds\"))\n",
    "  .option(\"checkpointLocation\", s\"$volumeFolder/checkpoints/bronze\")\n",
    "  .option(\"mergeSchema\", \"true\")\n",
    "  .outputMode(\"append\")\n",
    "  .table(\"events_raw\")\n",
    "\n",
    "waitForTable(\"events_raw\")"
   ]
  },
  {
   "cell_type": "code",
   "execution_count": 0,
   "metadata": {
    "application/vnd.databricks.v1+cell": {
     "cellMetadata": {},
     "inputWidgets": {},
     "nuid": "74223151-7e7c-464b-ae32-f14b95f7235d",
     "showTitle": true,
     "tableResultSettingsMap": {},
     "title": "Our table events_raw is ready and will contain all events"
    }
   },
   "outputs": [],
   "source": [
    "%sql SELECT * FROM events_raw;"
   ]
  },
  {
   "cell_type": "markdown",
   "metadata": {
    "application/vnd.databricks.v1+cell": {
     "cellMetadata": {},
     "inputWidgets": {},
     "nuid": "dce34e80-636f-40fa-a7b4-3dc3dc457d00",
     "showTitle": false,
     "tableResultSettingsMap": {},
     "title": ""
    }
   },
   "source": [
    "### Our Raw events are now ready to be analyzed\n",
    "\n",
    "It's now easy to run queries in our events_raw table. Our data is saved as JSON, databricks makes it easy to query:"
   ]
  },
  {
   "cell_type": "code",
   "execution_count": 0,
   "metadata": {
    "application/vnd.databricks.v1+cell": {
     "cellMetadata": {},
     "inputWidgets": {},
     "nuid": "7870b5be-0ca1-4294-9c0f-82dbd88177ae",
     "showTitle": true,
     "tableResultSettingsMap": {},
     "title": "Action per platform"
    }
   },
   "outputs": [],
   "source": [
    "%sql\n",
    "select count(*), value:platform as platform from events_raw group by platform;"
   ]
  },
  {
   "cell_type": "markdown",
   "metadata": {
    "application/vnd.databricks.v1+cell": {
     "cellMetadata": {},
     "inputWidgets": {},
     "nuid": "e4602bba-db3c-41d9-afc4-0a4e035dc354",
     "showTitle": false,
     "tableResultSettingsMap": {},
     "title": ""
    }
   },
   "source": [
    "## Searching for duplicate events\n",
    "\n",
    "As you can see, our producer sends incorrect messages.\n",
    "\n",
    "Not only we have null event_id from time to time, but we also have duplicate events (identical events being send twice with the same ID and exact same content)"
   ]
  },
  {
   "cell_type": "code",
   "execution_count": 0,
   "metadata": {
    "application/vnd.databricks.v1+cell": {
     "cellMetadata": {},
     "inputWidgets": {},
     "nuid": "223ce87b-c497-4de2-a944-72353d8baba1",
     "showTitle": false,
     "tableResultSettingsMap": {},
     "title": ""
    }
   },
   "outputs": [],
   "source": [
    "%sql\n",
    "select count(*) event_count, value :event_id event_id, first(value) from events_raw\n",
    "  group by event_id\n",
    "    having event_count > 1\n",
    "  order by event_id;"
   ]
  },
  {
   "cell_type": "code",
   "execution_count": 0,
   "metadata": {
    "application/vnd.databricks.v1+cell": {
     "cellMetadata": {},
     "inputWidgets": {},
     "nuid": "cdcc27f5-75e2-47ce-ab68-0d1d7e58474c",
     "showTitle": true,
     "tableResultSettingsMap": {},
     "title": "Stop all the streams "
    }
   },
   "outputs": [],
   "source": [
    "stopAllStreams(sleepTime=120)"
   ]
  },
  {
   "cell_type": "markdown",
   "metadata": {
    "application/vnd.databricks.v1+cell": {
     "cellMetadata": {},
     "inputWidgets": {},
     "nuid": "efcf7a12-b7bd-4789-a19b-3b3145e13ba4",
     "showTitle": false,
     "tableResultSettingsMap": {},
     "title": ""
    }
   },
   "source": [
    "## Next steps: Cleanup data and remove duplicates\n",
    "\n",
    "It looks like we have duplicate event in our dataset. Let's see how we can perform some cleanup. \n",
    "\n",
    "In addition, reading from JSON isn't super efficient, and what if our json changes over time ?\n",
    "\n",
    "While we can explore the dataset using spark json manipulation, this isn't ideal. For example is the json in our message changes after a few month, our request will fail.\n",
    "\n",
    "Futhermore, performances won't be great at scale: because all our data is stored as a unique, we can't leverage data skipping and a columnar format\n",
    "\n",
    "That's why we need another table:  **[A Silver Table!]($./02-Delta-session-SILVER-scala)**"
   ]
  }
 ],
 "metadata": {
  "application/vnd.databricks.v1+notebook": {
   "computePreferences": null,
   "dashboards": [],
   "environmentMetadata": {
    "environment_version": "2"
   },
   "language": "scala",
   "notebookMetadata": {
    "pythonIndentUnit": 4
   },
   "notebookName": "01-Delta-session-BRONZE-scala",
   "widgets": {}
  },
  "language_info": {
   "name": "scala"
  }
 },
 "nbformat": 4,
 "nbformat_minor": 0
}
