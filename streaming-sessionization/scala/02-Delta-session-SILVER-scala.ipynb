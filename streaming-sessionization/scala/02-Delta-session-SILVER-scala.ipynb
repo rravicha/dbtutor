{
 "cells": [
  {
   "cell_type": "markdown",
   "metadata": {
    "application/vnd.databricks.v1+cell": {
     "cellMetadata": {},
     "inputWidgets": {},
     "nuid": "1fee1df8-10d8-4a7d-8d49-e287303e0c98",
     "showTitle": false,
     "tableResultSettingsMap": {},
     "title": ""
    }
   },
   "source": [
    "\n",
    "# ![Delta Lake Tiny Logo](https://pages.databricks.com/rs/094-YMS-629/images/delta-lake-tiny-logo.png)  2/ SILVER table: store the content of our events in a structured table\n",
    "\n",
    "<img style=\"float:right; height: 230px; margin: 0px 30px 0px 30px\" src=\"https://raw.githubusercontent.com/databricks-demos/dbdemos-resources/main/images/product/streaming-sessionization/sessionization_silver.png\">\n",
    "\n",
    "**Scala version:** This notebook implement the same logic as [the python]($../02-Delta-session-SILVER), but using Scala.\n",
    "\n",
    "We can create a new silver table containing all our data.\n",
    "\n",
    "This will allow to store all our data in a proper table, with the content of the json stored in a columnar format. \n",
    "\n",
    "Should our message content change, we'll be able to adapt the transformation of this job to always allow SQL queries over this SILVER table.\n",
    "\n",
    "If we realized our logic was flawed from the begining, it'll also be easy to start a new cluster to re-process the entire table with a better transformation!\n",
    "\n",
    "<!-- tracking, please Collect usage data (view). Remove it to disable collection. View README for more details.  -->\n",
    "<img width=\"1px\" src=\"https://ppxrzfxige.execute-api.us-west-2.amazonaws.com/v1/analytics?category=data-engineering&org_id=4214571749987147&notebook=%2Fscala%2F02-Delta-session-SILVER-scala&demo_name=streaming-sessionization&event=VIEW&path=%2F_dbdemos%2Fdata-engineering%2Fstreaming-sessionization%2Fscala%2F02-Delta-session-SILVER-scala&version=1\">"
   ]
  },
  {
   "cell_type": "code",
   "execution_count": 0,
   "metadata": {
    "application/vnd.databricks.v1+cell": {
     "cellMetadata": {},
     "inputWidgets": {},
     "nuid": "3e9c9849-2104-450f-ae92-a9d5d5f54752",
     "showTitle": false,
     "tableResultSettingsMap": {},
     "title": ""
    },
    "jupyter": {
     "outputs_hidden": true
    }
   },
   "outputs": [],
   "source": [
    "%run ../_resources/00-setup-scala $reset_all_data=false"
   ]
  },
  {
   "cell_type": "code",
   "execution_count": 0,
   "metadata": {
    "application/vnd.databricks.v1+cell": {
     "cellMetadata": {},
     "inputWidgets": {},
     "nuid": "580969f8-633c-4c22-8d3a-778703b97211",
     "showTitle": true,
     "tableResultSettingsMap": {},
     "title": "Stream and clean the raw events"
    }
   },
   "outputs": [],
   "source": [
    "waitForTable(\"events_raw\") // Wait until the previous table is created to avoid error if all notebooks are started at once\n",
    "\n",
    "// For the sake of the example we'll get the schema from a json row. In a real deployment we could query a schema registry.\n",
    "val rowExample = \"\"\"{\"user_id\": \"5ee7ba5f-77b2-47e4-8061-dd89f19626f3\", \"platform\": \"other\", \"event_id\": \"03c3d410-f01f-4f51-8ee0-7fab9be96855\", \"event_date\": 1669301257, \"action\": \"view\", \"uri\": \"https://databricks.com/home.htm\"}\"\"\"\n",
    "val json_schema = schema_of_json(rowExample)\n",
    "\n",
    "val stream = spark\n",
    "  .readStream\n",
    "  .table(\"events_raw\")\n",
    "  // === Our transformation, easy to adapt if our logic changes ===\n",
    "  .withColumn(\"json\", from_json($\"value\", json_schema))\n",
    "  .select(\"json.*\")\n",
    "  // Drop null events\n",
    "  .where(\"event_id is not null and user_id is not null and event_date is not null\")\n",
    "  .withColumn(\"event_datetime\", to_timestamp(from_unixtime($\"event_date\")))\n",
    "\n",
    "display(stream)"
   ]
  },
  {
   "cell_type": "code",
   "execution_count": 0,
   "metadata": {
    "application/vnd.databricks.v1+cell": {
     "cellMetadata": {},
     "inputWidgets": {},
     "nuid": "beed824a-a469-4ec0-b670-c7c070dce9f1",
     "showTitle": false,
     "tableResultSettingsMap": {},
     "title": ""
    }
   },
   "outputs": [],
   "source": [
    "stream\n",
    "  .withWatermark(\"event_datetime\", \"1 hours\")\n",
    "  .dropDuplicates(\"event_id\")\n",
    "  .writeStream\n",
    "  .trigger(Trigger.ProcessingTime(\"20 seconds\"))\n",
    "  .option(\"checkpointLocation\", s\"$volumeFolder/checkpoints/silver\")\n",
    "  .option(\"mergeSchema\", \"true\")\n",
    "  .table(\"events\")\n",
    "\n",
    "waitForTable(\"events\")"
   ]
  },
  {
   "cell_type": "code",
   "execution_count": 0,
   "metadata": {
    "application/vnd.databricks.v1+cell": {
     "cellMetadata": {},
     "inputWidgets": {},
     "nuid": "26985fb6-a97b-4aee-aad9-e5f3af1f5b1c",
     "showTitle": false,
     "tableResultSettingsMap": {},
     "title": ""
    }
   },
   "outputs": [],
   "source": [
    "%sql\n",
    "SELECT * FROM events;"
   ]
  },
  {
   "cell_type": "markdown",
   "metadata": {
    "application/vnd.databricks.v1+cell": {
     "cellMetadata": {},
     "inputWidgets": {},
     "nuid": "2251d0c3-37e3-46fb-ac43-f073cd4d854f",
     "showTitle": false,
     "tableResultSettingsMap": {},
     "title": ""
    }
   },
   "source": [
    "Let's make sure we don't have any duplicate nor null event (they've been filtered out)"
   ]
  },
  {
   "cell_type": "code",
   "execution_count": 0,
   "metadata": {
    "application/vnd.databricks.v1+cell": {
     "cellMetadata": {},
     "inputWidgets": {},
     "nuid": "77436a5c-6d34-453e-8232-e1eb05cc581a",
     "showTitle": false,
     "tableResultSettingsMap": {},
     "title": ""
    }
   },
   "outputs": [],
   "source": [
    "%sql\n",
    "SELECT count(*) event_count, event_id FROM events\n",
    "  GROUP BY event_id\n",
    "    HAVING event_count > 1 or event_id is null\n",
    "  ORDER BY event_id;"
   ]
  },
  {
   "cell_type": "markdown",
   "metadata": {
    "application/vnd.databricks.v1+cell": {
     "cellMetadata": {},
     "inputWidgets": {},
     "nuid": "8d85eca0-5762-4e72-bfec-b404f173722d",
     "showTitle": false,
     "tableResultSettingsMap": {},
     "title": ""
    }
   },
   "source": [
    "#### Let's display a real-time view of our traffic using our stream, grouped by platform, for the last minute"
   ]
  },
  {
   "cell_type": "code",
   "execution_count": 0,
   "metadata": {
    "application/vnd.databricks.v1+cell": {
     "cellMetadata": {},
     "inputWidgets": {},
     "nuid": "a181c2ff-73f9-4377-85fc-2db848d227dd",
     "showTitle": false,
     "tableResultSettingsMap": {},
     "title": ""
    }
   },
   "outputs": [],
   "source": [
    "spark.readStream.table(\"events\").createOrReplaceTempView(\"events_stream\")"
   ]
  },
  {
   "cell_type": "code",
   "execution_count": 0,
   "metadata": {
    "application/vnd.databricks.v1+cell": {
     "cellMetadata": {},
     "inputWidgets": {},
     "nuid": "f9084a93-c89e-453a-8dda-761b76a9a886",
     "showTitle": true,
     "tableResultSettingsMap": {},
     "title": "Let's monitor our events from the last minutes with a window function"
    }
   },
   "outputs": [],
   "source": [
    "%sql\n",
    "-- Visualization: bar plot with X=start Y=count (SUM, group by platform)\n",
    "WITH event_monitoring AS\n",
    "  (SELECT WINDOW(event_datetime, \"10 seconds\") w, count(*) c, platform FROM events_stream WHERE CAST(event_datetime as INT) > CAST(CURRENT_TIMESTAMP() as INT)-120 GROUP BY w, platform)\n",
    "SELECT w.*, c, platform FROM event_monitoring "
   ]
  },
  {
   "cell_type": "markdown",
   "metadata": {
    "application/vnd.databricks.v1+cell": {
     "cellMetadata": {},
     "inputWidgets": {},
     "nuid": "8867c94c-87b2-4c8d-b803-dc2c8ab5524c",
     "showTitle": false,
     "tableResultSettingsMap": {},
     "title": ""
    }
   },
   "source": [
    "Let's find our TOP 10 more active pages, updated in real time with a streaming query:"
   ]
  },
  {
   "cell_type": "code",
   "execution_count": 0,
   "metadata": {
    "application/vnd.databricks.v1+cell": {
     "cellMetadata": {},
     "inputWidgets": {},
     "nuid": "755f9523-3a0e-4f08-9f33-7222be0019ac",
     "showTitle": false,
     "tableResultSettingsMap": {},
     "title": ""
    }
   },
   "outputs": [],
   "source": [
    "%sql\n",
    "-- Visualization: pie with X=URL Y=count (SUM)\n",
    "select count(*) as count, uri from events_stream group by uri order by count desc limit 10;"
   ]
  },
  {
   "cell_type": "code",
   "execution_count": 0,
   "metadata": {
    "application/vnd.databricks.v1+cell": {
     "cellMetadata": {},
     "inputWidgets": {},
     "nuid": "e4a00587-65ca-439a-824a-c5b4a89a8fae",
     "showTitle": true,
     "tableResultSettingsMap": {},
     "title": "Stop all the streams"
    }
   },
   "outputs": [],
   "source": [
    "stopAllStreams(sleepTime=120)"
   ]
  },
  {
   "cell_type": "markdown",
   "metadata": {
    "application/vnd.databricks.v1+cell": {
     "cellMetadata": {},
     "inputWidgets": {},
     "nuid": "d0d2ac55-bfa5-4603-b3ea-800859265e92",
     "showTitle": false,
     "tableResultSettingsMap": {},
     "title": ""
    }
   },
   "source": [
    "### We now have our silver table ready to be used!\n",
    "\n",
    "Let's compute our sessions based on this table with  **[a Gold Table]($./03-Delta-session-GOLD-scala)**\n",
    "\n",
    "\n",
    "**[Go Back]($./01-Delta-session-BRONZE-scala)**"
   ]
  }
 ],
 "metadata": {
  "application/vnd.databricks.v1+notebook": {
   "computePreferences": null,
   "dashboards": [],
   "environmentMetadata": {
    "environment_version": "2"
   },
   "language": "scala",
   "notebookMetadata": {
    "pythonIndentUnit": 2
   },
   "notebookName": "02-Delta-session-SILVER-scala",
   "widgets": {}
  },
  "language_info": {
   "name": "scala"
  }
 },
 "nbformat": 4,
 "nbformat_minor": 0
}
