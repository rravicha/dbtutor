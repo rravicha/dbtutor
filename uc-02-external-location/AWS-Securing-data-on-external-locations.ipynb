{
 "cells": [
  {
   "cell_type": "markdown",
   "metadata": {
    "application/vnd.databricks.v1+cell": {
     "cellMetadata": {},
     "inputWidgets": {},
     "nuid": "b4459cc2-8e4e-4182-9555-8dde0dd30bdb",
     "showTitle": false,
     "tableResultSettingsMap": {},
     "title": ""
    }
   },
   "source": [
    "# Securing access to External Tables / Files with Unity Catalog\n",
    "\n",
    "<img src=\"https://github.com/databricks-demos/dbdemos-resources/blob/main/images/product/uc/external/uc-external-location-global.png?raw=true\" style=\"float:right; margin-left:10px\" width=\"600\"/>\n",
    "\n",
    "By default, Unity Catalog will create managed tables in your primary storage, providing a secured table access for all your users.\n",
    "\n",
    "In addition to these managed tables, you can manage access to External tables and files, located in another cloud storage (S3/ADLS/GCS). \n",
    "\n",
    "This give you capabilities to ensure a full data governance, storing your main tables in the managed catalog/storage while ensuring secure access for for specific cloud storage.\n",
    "\n",
    "<!-- Collect usage data (view). Remove it to disable collection. View README for more details.  -->\n",
    "<img width=\"1px\" src=\"https://ppxrzfxige.execute-api.us-west-2.amazonaws.com/v1/analytics?category=governance&org_id=4214571749987147&notebook=%2FAWS-Securing-data-on-external-locations&demo_name=uc-02-external-location&event=VIEW&path=%2F_dbdemos%2Fgovernance%2Fuc-02-external-location%2FAWS-Securing-data-on-external-locations&version=1\">"
   ]
  },
  {
   "cell_type": "code",
   "execution_count": 0,
   "metadata": {
    "application/vnd.databricks.v1+cell": {
     "cellMetadata": {},
     "inputWidgets": {},
     "nuid": "70e0ddaa-9a66-473d-830e-6ed6646aeff5",
     "showTitle": true,
     "tableResultSettingsMap": {},
     "title": "SETUP - Specify the bucket to use as external location"
    }
   },
   "outputs": [],
   "source": [
    "#TODO= replace with the URL of the bucket you want to use for your external location:\n",
    "external_bucket_url = \"s3a://databricks-e2demofieldengwest\"\n",
    "dbutils.widgets.text(\"external_bucket_url\", external_bucket_url)"
   ]
  },
  {
   "cell_type": "markdown",
   "metadata": {
    "application/vnd.databricks.v1+cell": {
     "cellMetadata": {},
     "inputWidgets": {},
     "nuid": "1dc8e06b-66e4-4799-8028-8d914ca864c1",
     "showTitle": false,
     "tableResultSettingsMap": {},
     "title": ""
    }
   },
   "source": [
    "\n",
    "## Working with External Locations\n",
    "\n",
    "<img src=\"https://github.com/databricks-demos/dbdemos-resources/blob/main/images/product/uc/external/uc-external-location.png?raw=true\" style=\"float:right; margin-left:10px\" width=\"800\"/>\n",
    "\n",
    "\n",
    "Accessing external cloud storage is easily done using `External locations`.\n",
    "\n",
    "This can be done using 3 simple SQL command:\n",
    "\n",
    "\n",
    "1. First, create a Storage credential. It'll contain the IAM role/SP required to access your cloud storage\n",
    "1. Create an External location using your Storage credential. It can be any cloud location (a sub folder)\n",
    "1. Finally, Grant permissions to your users to access this Storage Credential"
   ]
  },
  {
   "cell_type": "markdown",
   "metadata": {
    "application/vnd.databricks.v1+cell": {
     "cellMetadata": {},
     "inputWidgets": {},
     "nuid": "45c7a670-4ebe-4c0a-9de1-aa29090a9f91",
     "showTitle": false,
     "tableResultSettingsMap": {},
     "title": ""
    }
   },
   "source": [
    "## 1/ Create the STORAGE CREDENTIAL\n",
    "\n",
    "<img src=\"https://github.com/databricks-demos/dbdemos-resources/blob/main/images/product/uc/external/uc-external-location-1.png?raw=true\" style=\"float:right; margin-left:10px\" width=\"700px\"/>\n",
    "\n",
    "The first step is to create the `STORAGE CREDENTIAL`.\n",
    "\n",
    "To do that, we'll use Databricks Unity Catalog UI:\n",
    "\n",
    "1. Open the Data Explorer in DBSQL\n",
    "1. Select the \"Storage Credential\" menu\n",
    "1. Click on \"Create Credential\"\n",
    "1. Fill your credential information: the name and IAM role you will be using\n",
    "\n",
    "Because you need to be ADMIN, this step has been created for you.\n",
    "\n",
    "\n",
    "<img src=\"https://github.com/databricks-demos/dbdemos-resources/blob/main/images/product/uc/external/uc-external-location-cred.png?raw=true\" width=\"400\"/>"
   ]
  },
  {
   "cell_type": "code",
   "execution_count": 0,
   "metadata": {
    "application/vnd.databricks.v1+cell": {
     "cellMetadata": {},
     "inputWidgets": {},
     "nuid": "947bed95-3404-4e56-9dab-07af728aeb75",
     "showTitle": false,
     "tableResultSettingsMap": {},
     "title": ""
    }
   },
   "outputs": [],
   "source": [
    "%sql\n",
    "-- For our demo, let's make sure all users can alter this storage credential:\n",
    "-- ALTER STORAGE CREDENTIAL `field_demos_credential`  OWNER TO `account users`;"
   ]
  },
  {
   "cell_type": "code",
   "execution_count": 0,
   "metadata": {
    "application/vnd.databricks.v1+cell": {
     "cellMetadata": {},
     "inputWidgets": {},
     "nuid": "0689c002-296b-45b2-b4c2-5f12b87bbc76",
     "showTitle": false,
     "tableResultSettingsMap": {},
     "title": ""
    }
   },
   "outputs": [],
   "source": [
    "%sql\n",
    "SHOW STORAGE CREDENTIALS "
   ]
  },
  {
   "cell_type": "code",
   "execution_count": 0,
   "metadata": {
    "application/vnd.databricks.v1+cell": {
     "cellMetadata": {},
     "inputWidgets": {},
     "nuid": "1a5f47a3-567b-4181-8eea-7026f2c1a92b",
     "showTitle": false,
     "tableResultSettingsMap": {},
     "title": ""
    }
   },
   "outputs": [],
   "source": [
    "%sql\n",
    "DESCRIBE STORAGE CREDENTIAL `field_demos_credential`"
   ]
  },
  {
   "cell_type": "markdown",
   "metadata": {
    "application/vnd.databricks.v1+cell": {
     "cellMetadata": {},
     "inputWidgets": {},
     "nuid": "fe6027d7-7f61-4b7f-97a6-500899bd0154",
     "showTitle": false,
     "tableResultSettingsMap": {},
     "title": ""
    }
   },
   "source": [
    "## 2/ Create the EXTERNAL LOCATION\n",
    "\n",
    "<img src=\"https://github.com/databricks-demos/dbdemos-resources/blob/main/images/product/uc/external/uc-external-location-2.png?raw=true\" style=\"float:right; margin-left:10px\" width=\"700px\"/>\n",
    "\n",
    "We'll then create our `EXTERNAL LOCATION` using the following path:<br/>\n",
    "`s3a://databricks-e2demofieldengwest/external_location/`\n",
    "\n",
    "Note that you need to be Account Admin to do that, it'll fail with a permission error if you are not. But don't worry, the external location has been created for you.\n",
    "\n",
    "You can also update your location using SQL operations:\n",
    "<br/>\n",
    "```ALTER EXTERNAL LOCATION `xxxx`  RENAME TO `yyyy`; ```<br/>\n",
    "```DROP EXTERNAL LOCATION IF EXISTS `xxxx`; ```"
   ]
  },
  {
   "cell_type": "code",
   "execution_count": 0,
   "metadata": {
    "application/vnd.databricks.v1+cell": {
     "cellMetadata": {},
     "inputWidgets": {},
     "nuid": "20502440-8ca9-4817-8b51-ac2bc9aa523f",
     "showTitle": false,
     "tableResultSettingsMap": {},
     "title": ""
    }
   },
   "outputs": [],
   "source": [
    "%sql\n",
    "-- Note: you need to be account ADMIN to run this and create the external location.\n",
    "\n",
    "CREATE EXTERNAL LOCATION IF NOT EXISTS `field_demos_external_location`\n",
    "  URL '${external_bucket_url}/external_location/' \n",
    "  WITH (CREDENTIAL `field_demos_credential`)\n",
    "  COMMENT 'External Location for demos' ;\n",
    "\n",
    "-- let's make everyone owner for the demo to be able to change the permissions easily. DO NOT do that for real usage.\n",
    "ALTER EXTERNAL LOCATION `field_demos_external_location`  OWNER TO `account users`;"
   ]
  },
  {
   "cell_type": "code",
   "execution_count": 0,
   "metadata": {
    "application/vnd.databricks.v1+cell": {
     "cellMetadata": {},
     "inputWidgets": {},
     "nuid": "64682198-dd3f-49ae-a1ce-cf70be637736",
     "showTitle": false,
     "tableResultSettingsMap": {},
     "title": ""
    }
   },
   "outputs": [],
   "source": [
    "%sql\n",
    "SHOW EXTERNAL LOCATIONS"
   ]
  },
  {
   "cell_type": "code",
   "execution_count": 0,
   "metadata": {
    "application/vnd.databricks.v1+cell": {
     "cellMetadata": {},
     "inputWidgets": {},
     "nuid": "9e9d582b-7db1-497b-b6c7-8d64cf93df32",
     "showTitle": false,
     "tableResultSettingsMap": {},
     "title": ""
    }
   },
   "outputs": [],
   "source": [
    "%sql\n",
    "DESCRIBE EXTERNAL LOCATION `field_demos_external_location`;"
   ]
  },
  {
   "cell_type": "markdown",
   "metadata": {
    "application/vnd.databricks.v1+cell": {
     "cellMetadata": {},
     "inputWidgets": {},
     "nuid": "d898a044-8270-4c97-ae79-fcf2e15f1b39",
     "showTitle": false,
     "tableResultSettingsMap": {},
     "title": ""
    }
   },
   "source": [
    "## 3/ GRANT permissions on the external location\n",
    "\n",
    "<img src=\"https://github.com/databricks-demos/dbdemos-resources/blob/main/images/product/uc/external/uc-external-location-3.png?raw=true\" style=\"float:right; margin-left:10px\" width=\"700px\"/>\n",
    "\n",
    "All we have to do is now GRANT permission to our users or group of users. In our demo we'll grant access to all our users using `account users`\n",
    "\n",
    "We can set multiple permissions:\n",
    "\n",
    "1. READ FILES to be able to access the data\n",
    "1. WRITE FILES to be able to write data\n",
    "1. CREATE TABLE to create external table using this location\n",
    "\n",
    "To revoke your permissions, you can use ```REVOKE WRITE FILES ON EXTERNAL LOCATION `field_demos_external_location` FROM `account users`;```"
   ]
  },
  {
   "cell_type": "code",
   "execution_count": 0,
   "metadata": {
    "application/vnd.databricks.v1+cell": {
     "cellMetadata": {},
     "inputWidgets": {},
     "nuid": "eec60529-ce8a-4f44-b681-e6fb48cf454c",
     "showTitle": false,
     "tableResultSettingsMap": {},
     "title": ""
    }
   },
   "outputs": [],
   "source": [
    "%sql\n",
    "GRANT READ FILES, WRITE FILES ON EXTERNAL LOCATION `field_demos_external_location` TO `account users`;"
   ]
  },
  {
   "cell_type": "markdown",
   "metadata": {
    "application/vnd.databricks.v1+cell": {
     "cellMetadata": {},
     "inputWidgets": {},
     "nuid": "edcdba13-b178-4599-9e85-73520ff478b7",
     "showTitle": false,
     "tableResultSettingsMap": {},
     "title": ""
    }
   },
   "source": [
    "## Accessing the data\n",
    "\n",
    "That's all we have to do! Our users can now access the folder in SQL or python:"
   ]
  },
  {
   "cell_type": "code",
   "execution_count": 0,
   "metadata": {
    "application/vnd.databricks.v1+cell": {
     "cellMetadata": {},
     "inputWidgets": {},
     "nuid": "0486e3e5-f742-4739-86a0-d628c4dafa5c",
     "showTitle": false,
     "tableResultSettingsMap": {},
     "title": ""
    }
   },
   "outputs": [],
   "source": [
    "%sql\n",
    "-- Make sure you set this to your own external location  \n",
    "LIST '${external_bucket_url}/external_location'"
   ]
  },
  {
   "cell_type": "markdown",
   "metadata": {
    "application/vnd.databricks.v1+cell": {
     "cellMetadata": {},
     "inputWidgets": {},
     "nuid": "a429abb5-ef1e-4019-bb18-20c714557dc8",
     "showTitle": false,
     "tableResultSettingsMap": {},
     "title": ""
    }
   },
   "source": [
    "we can also write data using SQL or Python API:"
   ]
  },
  {
   "cell_type": "code",
   "execution_count": 0,
   "metadata": {
    "application/vnd.databricks.v1+cell": {
     "cellMetadata": {},
     "inputWidgets": {},
     "nuid": "7508828d-cfe9-463b-84e4-e3e5f99a8669",
     "showTitle": false,
     "tableResultSettingsMap": {},
     "title": ""
    }
   },
   "outputs": [],
   "source": [
    "df = spark.createDataFrame([(\"UC\", \"is awesome\"), (\"Delta Sharing\", \"is magic\")])\n",
    "df.write.mode('overwrite').format('csv').save(f'{external_bucket_url}/external_location/test_write_table')"
   ]
  },
  {
   "cell_type": "code",
   "execution_count": 0,
   "metadata": {
    "application/vnd.databricks.v1+cell": {
     "cellMetadata": {},
     "inputWidgets": {},
     "nuid": "af6b217b-655c-444f-b8bc-92c3a087914f",
     "showTitle": true,
     "tableResultSettingsMap": {},
     "title": "Reading the data using pyspark API:"
    }
   },
   "outputs": [],
   "source": [
    "spark.read.csv(f'{external_bucket_url}/external_location/test_write_table').display()"
   ]
  },
  {
   "cell_type": "markdown",
   "metadata": {
    "application/vnd.databricks.v1+cell": {
     "cellMetadata": {},
     "inputWidgets": {},
     "nuid": "866c2086-b94f-44f9-8fd5-8db79b47d9d8",
     "showTitle": false,
     "tableResultSettingsMap": {},
     "title": ""
    }
   },
   "source": [
    "\n",
    "Setting the Permissions can also be done using the Data Explorer UI:\n",
    "\n",
    "<img src=\"https://github.com/databricks-demos/dbdemos-resources/blob/main/images/product/uc/external/uc-external-location-cred2.png?raw=true\" width=\"400\" >\n",
    "\n",
    "*Note: because we have set all users to OWNER for the demo, all users have full READ/WRITE permissions as OWNER (even without the GRANT). In a real setup, a single admin would be the OWNER, granting specific access to group of users or specific users.*"
   ]
  },
  {
   "cell_type": "markdown",
   "metadata": {
    "application/vnd.databricks.v1+cell": {
     "cellMetadata": {},
     "inputWidgets": {},
     "nuid": "8ceadfb1-89ec-42f9-bfe6-855abcce22e2",
     "showTitle": false,
     "tableResultSettingsMap": {},
     "title": ""
    }
   },
   "source": [
    "## Conclusion\n",
    "\n",
    "With Unity Catalog, you can easily secure access to external locations and grant access based on users/groups.\n",
    "\n",
    "This let you operate security at scale, cross workspace, and be ready to build data mesh setups."
   ]
  }
 ],
 "metadata": {
  "application/vnd.databricks.v1+notebook": {
   "computePreferences": null,
   "dashboards": [],
   "environmentMetadata": {
    "environment_version": "2"
   },
   "language": "python",
   "notebookMetadata": {
    "pythonIndentUnit": 2
   },
   "notebookName": "AWS-Securing-data-on-external-locations",
   "widgets": {}
  },
  "language_info": {
   "name": "python"
  }
 },
 "nbformat": 4,
 "nbformat_minor": 0
}
