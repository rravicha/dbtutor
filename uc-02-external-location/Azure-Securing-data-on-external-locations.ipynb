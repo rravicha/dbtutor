{
 "cells": [
  {
   "cell_type": "markdown",
   "metadata": {
    "application/vnd.databricks.v1+cell": {
     "cellMetadata": {},
     "inputWidgets": {},
     "nuid": "b36e0ea4-6a62-4a1c-be05-c1b0091dcd90",
     "showTitle": false,
     "tableResultSettingsMap": {},
     "title": ""
    }
   },
   "source": [
    "# Securing access to External Tables / Files with Unity Catalog\n",
    "\n",
    "<img src=\"https://github.com/databricks-demos/dbdemos-resources/blob/main/images/product/uc/external/uc-external-location-global.png?raw=true\" style=\"float:right; margin-left:10px\" width=\"600\"/>\n",
    "\n",
    "By default, Unity Catalog will create managed tables in your primary storage, providing a secured table access for all your users.\n",
    "\n",
    "In addition to these managed tables, you can manage access to External tables and files, located in another cloud storage (S3/ADLS/GCS). \n",
    "\n",
    "This give you capabilities to ensure a full data governance, storing your main tables in the managed catalog/storage while ensuring secure access for for specific cloud storage.\n",
    "\n",
    "<!-- Collect usage data (view). Remove it to disable collection. View README for more details.  -->\n",
    "<img width=\"1px\" src=\"https://ppxrzfxige.execute-api.us-west-2.amazonaws.com/v1/analytics?category=governance&org_id=4214571749987147&notebook=%2FAzure-Securing-data-on-external-locations&demo_name=uc-02-external-location&event=VIEW&path=%2F_dbdemos%2Fgovernance%2Fuc-02-external-location%2FAzure-Securing-data-on-external-locations&version=1\">"
   ]
  },
  {
   "cell_type": "markdown",
   "metadata": {
    "application/vnd.databricks.v1+cell": {
     "cellMetadata": {},
     "inputWidgets": {},
     "nuid": "c2ef16ed-6c87-4518-9c4b-f46654e82fc4",
     "showTitle": false,
     "tableResultSettingsMap": {},
     "title": ""
    }
   },
   "source": [
    "\n",
    "## Working with External Locations\n",
    "\n",
    "<img src=\"https://github.com/databricks-demos/dbdemos-resources/blob/main/images/product/uc/external/azure-uc-external-location.png?raw=true\" style=\"float:right; margin-left:10px\" width=\"800\"/>\n",
    "\n",
    "\n",
    "Accessing external cloud storage is easily done using `External locations`.\n",
    "\n",
    "This can be done using 3 simple SQL command:\n",
    "\n",
    "\n",
    "1. First, create a Storage credential. It'll reference the Managed Identity or Service Principal required to access your cloud storage\n",
    "1. Create an External location using your Storage credential. It can be any cloud location (a sub folder)\n",
    "1. Finally, Grant permissions to your users to access this Storage Credential"
   ]
  },
  {
   "cell_type": "markdown",
   "metadata": {
    "application/vnd.databricks.v1+cell": {
     "cellMetadata": {},
     "inputWidgets": {},
     "nuid": "49d4e6ca-8186-4f06-a010-ec9c2cabcf9e",
     "showTitle": false,
     "tableResultSettingsMap": {},
     "title": ""
    }
   },
   "source": [
    "## 1/ Create the STORAGE CREDENTIAL\n",
    "\n",
    "<img src=\"https://github.com/databricks-demos/dbdemos-resources/blob/main/images/product/uc/external/azure-uc-external-location-1.png?raw=true\" style=\"float:right; margin-left:10px\" width=\"700px\"/>\n",
    "\n",
    "The first step is to create the `STORAGE CREDENTIAL`.\n",
    "\n",
    "To do that, we'll use Databricks Unity Catalog UI:\n",
    "\n",
    "1. Open the Data Explorer in DBSQL\n",
    "1. Select the \"Storage Credential\" menu\n",
    "1. Click on \"Create Credential\"\n",
    "1. Since it is recommended to use a Managed Identity, fill out the fields with your credential information: Storage credential name, Access connector ID, and optionally your User assigned managed identity ID.\n",
    "\n",
    "\n",
    "<img src=\"https://github.com/databricks-demos/dbdemos-resources/blob/main/images/product/uc/external/azure-storage-credential.png?raw=true\" width=\"400\"/>"
   ]
  },
  {
   "cell_type": "code",
   "execution_count": 0,
   "metadata": {
    "application/vnd.databricks.v1+cell": {
     "cellMetadata": {},
     "inputWidgets": {},
     "nuid": "b7ad6555-eec3-4d3e-b2fa-32b553536a3d",
     "showTitle": false,
     "tableResultSettingsMap": {},
     "title": ""
    }
   },
   "outputs": [],
   "source": [
    "%sql\n",
    "-- For our demo, let's make sure all users can alter this storage credential:\n",
    "-- ALTER STORAGE CREDENTIAL `field_demos_credential`  OWNER TO `account users`;"
   ]
  },
  {
   "cell_type": "code",
   "execution_count": 0,
   "metadata": {
    "application/vnd.databricks.v1+cell": {
     "cellMetadata": {},
     "inputWidgets": {},
     "nuid": "ca5c4ff9-9218-4ed8-93a7-1822d2a9d307",
     "showTitle": false,
     "tableResultSettingsMap": {},
     "title": ""
    }
   },
   "outputs": [],
   "source": [
    "%sql\n",
    "SHOW STORAGE CREDENTIALS "
   ]
  },
  {
   "cell_type": "code",
   "execution_count": 0,
   "metadata": {
    "application/vnd.databricks.v1+cell": {
     "cellMetadata": {},
     "inputWidgets": {},
     "nuid": "8370e2a9-82a5-4406-9049-7b3e299448ee",
     "showTitle": false,
     "tableResultSettingsMap": {},
     "title": ""
    }
   },
   "outputs": [],
   "source": [
    "%sql\n",
    "DESCRIBE STORAGE CREDENTIAL `field_demos_credential`"
   ]
  },
  {
   "cell_type": "markdown",
   "metadata": {
    "application/vnd.databricks.v1+cell": {
     "cellMetadata": {},
     "inputWidgets": {},
     "nuid": "d7468baf-6be0-40d3-84af-3e6e03fb67b6",
     "showTitle": false,
     "tableResultSettingsMap": {},
     "title": ""
    }
   },
   "source": [
    "## 2/ Create the EXTERNAL LOCATION\n",
    "\n",
    "<img src=\"https://github.com/databricks-demos/dbdemos-resources/blob/main/images/product/uc/external/azure-uc-external-location-2.png?raw=true\" style=\"float:right; margin-left:10px\" width=\"700px\"/>\n",
    "\n",
    "\n",
    "We'll then create our `EXTERNAL LOCATION` using the following path:<br/>\n",
    "`abfss://deltalake@oneenvadls.dfs.core.windows.net/demofieldeng/external_location/`\n",
    "\n",
    "Note that you need to be Account Admin to do that, it'll fail with a permission error if you are not. But don't worry, the external location has been created for you.\n",
    "\n",
    "You can also update your location using SQL operations:\n",
    "<br/>\n",
    "```ALTER EXTERNAL LOCATION `xxxx`  RENAME TO `yyyy`; ```<br/>\n",
    "```DROP EXTERNAL LOCATION IF EXISTS `xxxx`; ```"
   ]
  },
  {
   "cell_type": "code",
   "execution_count": 0,
   "metadata": {
    "application/vnd.databricks.v1+cell": {
     "cellMetadata": {},
     "inputWidgets": {},
     "nuid": "d62e5924-8dfd-4db4-bfb2-51510cf3925c",
     "showTitle": false,
     "tableResultSettingsMap": {},
     "title": ""
    }
   },
   "outputs": [],
   "source": [
    "%sql\n",
    "-- Replace this with your own path\n",
    "CREATE EXTERNAL LOCATION IF NOT EXISTS `field_demos_external_location`\n",
    "  URL 'abfss://deltalake@oneenvadls.dfs.core.windows.net/demofieldeng/external_location/' \n",
    "  WITH (CREDENTIAL `field_demos_credential`)\n",
    "  COMMENT 'External Location for demos' ;\n",
    "\n",
    "-- let's make everyone owner for the demo to be able to change the permissions easily. DO NOT do that for real usage.\n",
    "ALTER EXTERNAL LOCATION `field_demos_external_location`  OWNER TO `account users`;"
   ]
  },
  {
   "cell_type": "code",
   "execution_count": 0,
   "metadata": {
    "application/vnd.databricks.v1+cell": {
     "cellMetadata": {},
     "inputWidgets": {},
     "nuid": "e584ab64-1a5e-4a7f-805d-5f8965314385",
     "showTitle": false,
     "tableResultSettingsMap": {},
     "title": ""
    }
   },
   "outputs": [],
   "source": [
    "%sql\n",
    "SHOW EXTERNAL LOCATIONS"
   ]
  },
  {
   "cell_type": "code",
   "execution_count": 0,
   "metadata": {
    "application/vnd.databricks.v1+cell": {
     "cellMetadata": {},
     "inputWidgets": {},
     "nuid": "1083925b-5917-47ac-9a95-def7a53ad3e6",
     "showTitle": false,
     "tableResultSettingsMap": {},
     "title": ""
    }
   },
   "outputs": [],
   "source": [
    "%sql\n",
    "DESCRIBE EXTERNAL LOCATION `field_demos_external_location`;"
   ]
  },
  {
   "cell_type": "markdown",
   "metadata": {
    "application/vnd.databricks.v1+cell": {
     "cellMetadata": {},
     "inputWidgets": {},
     "nuid": "fb56e717-6619-4319-82d5-ade295c38ec8",
     "showTitle": false,
     "tableResultSettingsMap": {},
     "title": ""
    }
   },
   "source": [
    "## 3/ GRANT permissions on the external location\n",
    "\n",
    "<img src=\"https://github.com/databricks-demos/dbdemos-resources/blob/main/images/product/uc/external/azure-uc-external-location-3.png?raw=true\" style=\"float:right; margin-left:10px\" width=\"700px\"/>\n",
    "\n",
    "All we have to do is now GRANT permission to our users or group of users. In our demo we'll grant access to all our users using `account users`\n",
    "\n",
    "We can set multiple permissions:\n",
    "\n",
    "1. READ FILES to be able to access the data\n",
    "1. WRITE FILES to be able to write data\n",
    "1. CREATE TABLE to create external table using this location\n",
    "\n",
    "To revoke your permissions, you can use ```REVOKE WRITE FILES ON EXTERNAL LOCATION `field_demos_external_location` FROM `account users`;```"
   ]
  },
  {
   "cell_type": "code",
   "execution_count": 0,
   "metadata": {
    "application/vnd.databricks.v1+cell": {
     "cellMetadata": {},
     "inputWidgets": {},
     "nuid": "a2bdaaaf-b777-4b36-987b-19c16bf07e65",
     "showTitle": false,
     "tableResultSettingsMap": {},
     "title": ""
    }
   },
   "outputs": [],
   "source": [
    "%sql\n",
    "GRANT READ FILES, WRITE FILES ON EXTERNAL LOCATION `field_demos_external_location` TO `account users`;"
   ]
  },
  {
   "cell_type": "markdown",
   "metadata": {
    "application/vnd.databricks.v1+cell": {
     "cellMetadata": {},
     "inputWidgets": {},
     "nuid": "bbccebbe-26f3-4d76-b14e-3f6688cfd8e7",
     "showTitle": false,
     "tableResultSettingsMap": {},
     "title": ""
    }
   },
   "source": [
    "## Accessing the data\n",
    "\n",
    "That's all we have to do! Our users can now access the folder in SQL or python:"
   ]
  },
  {
   "cell_type": "code",
   "execution_count": 0,
   "metadata": {
    "application/vnd.databricks.v1+cell": {
     "cellMetadata": {},
     "inputWidgets": {},
     "nuid": "5e176416-bc77-49cd-bd6b-75fe89d07b97",
     "showTitle": false,
     "tableResultSettingsMap": {},
     "title": ""
    }
   },
   "outputs": [],
   "source": [
    "%sql\n",
    "LIST 'abfss://deltalake@oneenvadls.dfs.core.windows.net/demofieldeng/external_location/'"
   ]
  },
  {
   "cell_type": "markdown",
   "metadata": {
    "application/vnd.databricks.v1+cell": {
     "cellMetadata": {},
     "inputWidgets": {},
     "nuid": "3576150a-1954-463f-9630-7e546d50625c",
     "showTitle": false,
     "tableResultSettingsMap": {},
     "title": ""
    }
   },
   "source": [
    "we can also write data using SQL or Python API:"
   ]
  },
  {
   "cell_type": "code",
   "execution_count": 0,
   "metadata": {
    "application/vnd.databricks.v1+cell": {
     "cellMetadata": {},
     "inputWidgets": {},
     "nuid": "f374b377-2377-4201-8bf3-a6f46709533e",
     "showTitle": false,
     "tableResultSettingsMap": {},
     "title": ""
    }
   },
   "outputs": [],
   "source": [
    "df = spark.createDataFrame([(\"UC\", \"is awesome\"), (\"Delta Sharing\", \"is magic\")])\n",
    "df.write.mode('overwrite').format('csv').save('abfss://deltalake@oneenvadls.dfs.core.windows.net/demofieldeng/external_location/test_write')"
   ]
  },
  {
   "cell_type": "code",
   "execution_count": 0,
   "metadata": {
    "application/vnd.databricks.v1+cell": {
     "cellMetadata": {},
     "inputWidgets": {},
     "nuid": "26920f1e-26ce-40a7-a727-6fe486cd1c1c",
     "showTitle": true,
     "tableResultSettingsMap": {},
     "title": "Reading the data using pyspark API:"
    }
   },
   "outputs": [],
   "source": [
    "spark.read.csv('abfss://deltalake@oneenvadls.dfs.core.windows.net/demofieldeng/external_location/test_write').display()"
   ]
  },
  {
   "cell_type": "markdown",
   "metadata": {
    "application/vnd.databricks.v1+cell": {
     "cellMetadata": {},
     "inputWidgets": {},
     "nuid": "c9c95c22-7ae8-4a31-b830-1d776bd66459",
     "showTitle": false,
     "tableResultSettingsMap": {},
     "title": ""
    }
   },
   "source": [
    "\n",
    "Setting the Permissions can also be done using the Data Explorer UI:\n",
    "\n",
    "<img src=\"https://github.com/databricks-demos/dbdemos-resources/blob/main/images/product/uc/external/uc-external-location-cred2.png?raw=true\" width=\"400\" >\n",
    "\n",
    "*Note: because we have set all users to OWNER for the demo, all users have full READ/WRITE permissions as OWNER (even without the GRANT). In a real setup, a single admin would be the OWNER, granting specific access to group of users or specific users.*"
   ]
  },
  {
   "cell_type": "markdown",
   "metadata": {
    "application/vnd.databricks.v1+cell": {
     "cellMetadata": {},
     "inputWidgets": {},
     "nuid": "ae30e0bf-c609-4fc6-9e9c-58fe4f0d2f18",
     "showTitle": false,
     "tableResultSettingsMap": {},
     "title": ""
    }
   },
   "source": [
    "## Conclusion\n",
    "\n",
    "With Unity Catalog, you can easily secure access to external locations and grant access based on users/groups.\n",
    "\n",
    "This let you operate security at scale, cross workspace, and be ready to build data mesh setups."
   ]
  }
 ],
 "metadata": {
  "application/vnd.databricks.v1+notebook": {
   "computePreferences": null,
   "dashboards": [],
   "environmentMetadata": {
    "environment_version": "2"
   },
   "language": "python",
   "notebookMetadata": {
    "pythonIndentUnit": 4
   },
   "notebookName": "Azure-Securing-data-on-external-locations",
   "widgets": {}
  },
  "language_info": {
   "name": "python"
  }
 },
 "nbformat": 4,
 "nbformat_minor": 0
}
