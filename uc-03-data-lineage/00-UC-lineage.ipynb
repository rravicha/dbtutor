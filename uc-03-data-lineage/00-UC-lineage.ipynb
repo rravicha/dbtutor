{
 "cells": [
  {
   "cell_type": "markdown",
   "metadata": {
    "application/vnd.databricks.v1+cell": {
     "cellMetadata": {},
     "inputWidgets": {},
     "nuid": "5362ceb1-2ebf-48d0-b9fc-cab603d25f39",
     "showTitle": false,
     "tableResultSettingsMap": {},
     "title": ""
    }
   },
   "source": [
    "# Show Lineage for Delta Tables in Unity Catalog\n",
    "\n",
    "<img src=\"https://github.com/databricks-demos/dbdemos-resources/blob/main/images/product/uc/lineage/uc-lineage-slide.png?raw=true\" style=\"float:right; margin-left:10px\" width=\"700\"/>\n",
    "\n",
    "Unity Catalog captures runtime data lineage for any table to table operation executed on a Databricks cluster or SQL endpoint. Lineage operates across all languages (SQL, Python, Scala and R) and it can be visualized in the Data Explorer in near-real-time, and also retrieved via REST API.\n",
    "\n",
    "Lineage is available at two granularity levels:\n",
    "- Tables\n",
    "- Columns: ideal to track GDPR dependencies\n",
    "\n",
    "Lineage takes into account the Table ACLs present in Unity Catalog. If a user is not allowed to see a table at a certain point of the graph, its information are redacted, but they can still see that a upstream or downstream table is present.\n",
    "\n",
    "## Working with Lineage\n",
    "\n",
    "No modifications are needed to the existing code to generate the lineage. As long as you operate with tables saved in the Unity Catalog, Databricks will capture all lineage informations for you.\n",
    "\n",
    "Requirements:\n",
    "- Make sure you set `spark.databricks.dataLineage.enabled true`in your cluster setup\n",
    "- Source and target tables must be registered in a Unity Catalog metastore to be eligible for lineage capture\n",
    "- The data manipulation must be performed using Spark DataFrame language (python/SQL)\n",
    "- To view lineage, users must have the SELECT privilege on the table\n",
    "\n",
    "<!-- Collect usage data (view). Remove it to disable collection. View README for more details.  -->\n",
    "<img width=\"1px\" src=\"https://ppxrzfxige.execute-api.us-west-2.amazonaws.com/v1/analytics?category=governance&org_id=4214571749987147&notebook=%2F00-UC-lineage&demo_name=uc-03-data-lineage&event=VIEW&path=%2F_dbdemos%2Fgovernance%2Fuc-03-data-lineage%2F00-UC-lineage&version=1\">"
   ]
  },
  {
   "cell_type": "code",
   "execution_count": 0,
   "metadata": {
    "application/vnd.databricks.v1+cell": {
     "cellMetadata": {},
     "inputWidgets": {},
     "nuid": "4baf6cec-33e0-4fab-bfeb-f201e641adcf",
     "showTitle": false,
     "tableResultSettingsMap": {},
     "title": ""
    },
    "jupyter": {
     "outputs_hidden": true
    }
   },
   "outputs": [],
   "source": [
    "%run ./_resources/00-setup"
   ]
  },
  {
   "cell_type": "markdown",
   "metadata": {
    "application/vnd.databricks.v1+cell": {
     "cellMetadata": {},
     "inputWidgets": {},
     "nuid": "9643ba3e-5865-4e11-a10f-e8f6627b549a",
     "showTitle": false,
     "tableResultSettingsMap": {},
     "title": ""
    }
   },
   "source": [
    "## 1/ Create a Delta Table In Unity Catalog\n",
    "\n",
    "The first step is to create a Delta Table in Unity Catalog.\n",
    "\n",
    "We want to do that in SQL, to show multi-language support:\n",
    "\n",
    "1. Use the `CREATE TABLE` command and define a schema\n",
    "1. Use the `INSERT INTO` command to insert some rows in the table"
   ]
  },
  {
   "cell_type": "code",
   "execution_count": 0,
   "metadata": {
    "application/vnd.databricks.v1+cell": {
     "cellMetadata": {},
     "inputWidgets": {},
     "nuid": "195175ba-7891-4c09-b1d7-46da86341ca0",
     "showTitle": false,
     "tableResultSettingsMap": {},
     "title": ""
    }
   },
   "outputs": [],
   "source": [
    "%sql \n",
    "SELECT CURRENT_CATALOG()"
   ]
  },
  {
   "cell_type": "code",
   "execution_count": 0,
   "metadata": {
    "application/vnd.databricks.v1+cell": {
     "cellMetadata": {},
     "inputWidgets": {},
     "nuid": "c0656913-9946-4b05-9bdd-649ea8f34a0a",
     "showTitle": false,
     "tableResultSettingsMap": {},
     "title": ""
    }
   },
   "outputs": [],
   "source": [
    "%sql\n",
    "CREATE TABLE IF NOT EXISTS menu (recipe_id INT, app string, main string, desert string);\n",
    "DELETE from menu ;\n",
    "\n",
    "INSERT INTO menu \n",
    "    (recipe_id, app, main, desert) \n",
    "VALUES \n",
    "    (1,\"Ceviche\", \"Tacos\", \"Flan\"),\n",
    "    (2,\"Tomato Soup\", \"Souffle\", \"Creme Brulee\"),\n",
    "    (3,\"Chips\",\"Grilled Cheese\",\"Cheescake\");"
   ]
  },
  {
   "cell_type": "markdown",
   "metadata": {
    "application/vnd.databricks.v1+cell": {
     "cellMetadata": {},
     "inputWidgets": {},
     "nuid": "a968f219-421a-44a6-807e-933aef28a7eb",
     "showTitle": false,
     "tableResultSettingsMap": {},
     "title": ""
    }
   },
   "source": [
    "## 2/ Create a Delta Table from the Previously Created One\n",
    "\n",
    "To show dependancies between tables, we create a new one `AS SELECT` from the previous one, concatenating three columns into a new one"
   ]
  },
  {
   "cell_type": "code",
   "execution_count": 0,
   "metadata": {
    "application/vnd.databricks.v1+cell": {
     "cellMetadata": {},
     "inputWidgets": {},
     "nuid": "2ced77e0-1b34-4563-93b3-4c108b431ac3",
     "showTitle": false,
     "tableResultSettingsMap": {},
     "title": ""
    }
   },
   "outputs": [],
   "source": [
    "%sql\n",
    "CREATE TABLE IF NOT EXISTS dinner \n",
    "  AS SELECT recipe_id, concat(app,\" + \", main,\" + \",desert) as full_menu FROM menu"
   ]
  },
  {
   "cell_type": "markdown",
   "metadata": {
    "application/vnd.databricks.v1+cell": {
     "cellMetadata": {},
     "inputWidgets": {},
     "nuid": "69538a29-15ba-4401-bfd4-0a8a544ac933",
     "showTitle": false,
     "tableResultSettingsMap": {},
     "title": ""
    }
   },
   "source": [
    "## 3/ Create a Delta Table as join from Two Other Tables\n",
    "\n",
    "The last step is to create a third table as a join from the two previous ones. This time we will use Python instead of SQL.\n",
    "\n",
    "- We create a Dataframe with some random data formatted according to two columns, `id` and `recipe_id`\n",
    "- We save this Dataframe as a new table, `main.lineage.price`\n",
    "- We read as two Dataframes the previous two tables, `main.lineage.dinner` and `main.lineage.price`\n",
    "- We join them on `recipe_id` and save the result as a new Delta table `main.lineage.dinner_price`"
   ]
  },
  {
   "cell_type": "code",
   "execution_count": 0,
   "metadata": {
    "application/vnd.databricks.v1+cell": {
     "cellMetadata": {},
     "inputWidgets": {},
     "nuid": "3df34a2f-5d74-4922-bdb4-f33cefbccb4b",
     "showTitle": false,
     "tableResultSettingsMap": {},
     "title": ""
    }
   },
   "outputs": [],
   "source": [
    "df = spark.range(3).withColumn(\"price\", F.round(10*F.rand(seed=42),2)).withColumnRenamed(\"id\", \"recipe_id\")\n",
    "\n",
    "df.write.mode(\"overwrite\").saveAsTable(\"price\")\n",
    "\n",
    "dinner = spark.read.table(\"dinner\")\n",
    "price = spark.read.table(\"price\")\n",
    "\n",
    "dinner_price = dinner.join(price, on=\"recipe_id\")\n",
    "dinner_price.write.mode(\"overwrite\").saveAsTable(\"dinner_price\")\n"
   ]
  },
  {
   "cell_type": "markdown",
   "metadata": {
    "application/vnd.databricks.v1+cell": {
     "cellMetadata": {},
     "inputWidgets": {},
     "nuid": "b712fd9e-77d7-4222-b41f-68cae9ab8d19",
     "showTitle": false,
     "tableResultSettingsMap": {},
     "title": ""
    }
   },
   "source": [
    "## 4/ Visualize Table Lineage\n",
    "\n",
    "The Lineage can be visualized in the `Data Explorer` of the part of the Workspace dedicated to the `SQL Persona`.\n",
    "\n",
    "1. Select the `Catalog`\n",
    "1. Select the `Schema`\n",
    "1. Select the `Table`\n",
    "1. Select the `Lineage` tab on the right part of the page\n",
    "1. You can visualize the full lineage by pressing the `See Lineage Graph` button\n",
    "1. By default the graph is condensed. By clicking on the boxes you can expand them and visualize the full lineage.\n",
    "\n",
    "\n",
    "<img src=\"https://github.com/databricks-demos/dbdemos-resources/blob/main/images/product/uc/lineage/lineage-table.gif?raw=true\"/>"
   ]
  },
  {
   "cell_type": "markdown",
   "metadata": {
    "application/vnd.databricks.v1+cell": {
     "cellMetadata": {},
     "inputWidgets": {},
     "nuid": "9f7d6363-8318-4299-8153-a5da7053bf4b",
     "showTitle": false,
     "tableResultSettingsMap": {},
     "title": ""
    }
   },
   "source": [
    "## 5/ Visualize Column Lineage\n",
    "\n",
    "The Lineage is alos available for the Column. This is very useful to track column dependencies and be able to find GDPR, including by API.\n",
    "\n",
    "You can access the column lineage by clicking on any of the column name. In this case we see that the menu comes from 3 other columns of the menu table:\n",
    "<br/><br/>\n",
    "\n",
    "\n",
    "<img src=\"https://github.com/databricks-demos/dbdemos-resources/blob/main/images/product/uc/lineage/lineage-column.gif?raw=true\"/>"
   ]
  },
  {
   "cell_type": "markdown",
   "metadata": {
    "application/vnd.databricks.v1+cell": {
     "cellMetadata": {},
     "inputWidgets": {},
     "nuid": "919f1165-11d6-4e65-a272-43d4a5cadef8",
     "showTitle": false,
     "tableResultSettingsMap": {},
     "title": ""
    }
   },
   "source": [
    "\n",
    "## 6/ Lineage Permission Model\n",
    "\n",
    "Lineage graphs share the same permission model as Unity Catalog. If a user does not have the SELECT privilege on the table, they will not be able to explore the lineage."
   ]
  },
  {
   "cell_type": "markdown",
   "metadata": {
    "application/vnd.databricks.v1+cell": {
     "cellMetadata": {},
     "inputWidgets": {},
     "nuid": "29c25425-4ac3-4bbf-bbe7-2e9bfd858dce",
     "showTitle": false,
     "tableResultSettingsMap": {},
     "title": ""
    }
   },
   "source": [
    "## Conclusion\n",
    "\n",
    "Databricks Unity Catalog let you track data lineage out of the box.\n",
    "\n",
    "No extra setup required, just read and write from your table and the engine will build the dependencies for you. Lineage can work at a table level but also at the column level, which provide a powerful tool to track dependencies on sensible data.\n",
    "\n",
    "Lineage can also show you the potential impact updating a table/column and find who will be impacted downstream."
   ]
  },
  {
   "cell_type": "markdown",
   "metadata": {
    "application/vnd.databricks.v1+cell": {
     "cellMetadata": {},
     "inputWidgets": {},
     "nuid": "96242060-6384-40f6-912e-4e5184c3e941",
     "showTitle": false,
     "tableResultSettingsMap": {},
     "title": ""
    }
   },
   "source": [
    "\n",
    "### Existing Limitations\n",
    "- Streaming operations are not yet supported\n",
    "- Lineage will not be captured when data is written directly to files in cloud storage even if a table is defined at that location (eg spark.write.save(“s3:/mybucket/mytable/”) will not produce lineage)\n",
    "- Lineage is not captured across workspaces (eg if a table A > table B transformation is performed in workspace 1 and table B > table C in workspace 2, each workspace will show a partial view of the lineage for table B)\n",
    "- Lineage is computed on a 90-day rolling window, meaning that lineage will not be displayed for tables that have not been modified in more than 90 days ago"
   ]
  }
 ],
 "metadata": {
  "application/vnd.databricks.v1+notebook": {
   "computePreferences": null,
   "dashboards": [],
   "environmentMetadata": {
    "environment_version": "2"
   },
   "language": "python",
   "notebookMetadata": {
    "pythonIndentUnit": 4
   },
   "notebookName": "00-UC-lineage",
   "widgets": {}
  },
  "language_info": {
   "name": "python"
  }
 },
 "nbformat": 4,
 "nbformat_minor": 0
}
